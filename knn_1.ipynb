{
  "nbformat": 4,
  "nbformat_minor": 0,
  "metadata": {
    "colab": {
      "name": "knn_1.ipynb",
      "provenance": [],
      "collapsed_sections": []
    },
    "kernelspec": {
      "name": "python3",
      "display_name": "Python 3"
    },
    "language_info": {
      "name": "python"
    }
  },
  "cells": [
    {
      "cell_type": "code",
      "metadata": {
        "colab": {
          "base_uri": "https://localhost:8080/"
        },
        "id": "BaRot70rcZ9h",
        "outputId": "f58d84ea-bbbd-4c39-f06a-52d77c91c1b8"
      },
      "source": [
        "import pandas as pd\n",
        "import numpy as np\n",
        "!pip3 install yfinance\n",
        "import yfinance as yf\n",
        "\n",
        "import matplotlib.pyplot as plt\n",
        "%matplotlib inline\n",
        "\n",
        "from matplotlib.pylab import rcParams\n",
        "# rcParams['figure.figsize'] = 10,5\n",
        "\n",
        "from sklearn.preprocessing import MinMaxScaler\n",
        "scaler = MinMaxScaler(feature_range=(0, 1))\n",
        "from datetime import datetime , timedelta\n"
      ],
      "execution_count": 20,
      "outputs": [
        {
          "output_type": "stream",
          "text": [
            "Requirement already satisfied: yfinance in /usr/local/lib/python3.7/dist-packages (0.1.59)\n",
            "Requirement already satisfied: numpy>=1.15 in /usr/local/lib/python3.7/dist-packages (from yfinance) (1.19.5)\n",
            "Requirement already satisfied: multitasking>=0.0.7 in /usr/local/lib/python3.7/dist-packages (from yfinance) (0.0.9)\n",
            "Requirement already satisfied: lxml>=4.5.1 in /usr/local/lib/python3.7/dist-packages (from yfinance) (4.6.3)\n",
            "Requirement already satisfied: pandas>=0.24 in /usr/local/lib/python3.7/dist-packages (from yfinance) (1.1.5)\n",
            "Requirement already satisfied: requests>=2.20 in /usr/local/lib/python3.7/dist-packages (from yfinance) (2.23.0)\n",
            "Requirement already satisfied: pytz>=2017.2 in /usr/local/lib/python3.7/dist-packages (from pandas>=0.24->yfinance) (2018.9)\n",
            "Requirement already satisfied: python-dateutil>=2.7.3 in /usr/local/lib/python3.7/dist-packages (from pandas>=0.24->yfinance) (2.8.1)\n",
            "Requirement already satisfied: certifi>=2017.4.17 in /usr/local/lib/python3.7/dist-packages (from requests>=2.20->yfinance) (2020.12.5)\n",
            "Requirement already satisfied: idna<3,>=2.5 in /usr/local/lib/python3.7/dist-packages (from requests>=2.20->yfinance) (2.10)\n",
            "Requirement already satisfied: chardet<4,>=3.0.2 in /usr/local/lib/python3.7/dist-packages (from requests>=2.20->yfinance) (3.0.4)\n",
            "Requirement already satisfied: urllib3!=1.25.0,!=1.25.1,<1.26,>=1.21.1 in /usr/local/lib/python3.7/dist-packages (from requests>=2.20->yfinance) (1.24.3)\n",
            "Requirement already satisfied: six>=1.5 in /usr/local/lib/python3.7/dist-packages (from python-dateutil>=2.7.3->pandas>=0.24->yfinance) (1.15.0)\n"
          ],
          "name": "stdout"
        }
      ]
    },
    {
      "cell_type": "code",
      "metadata": {
        "colab": {
          "base_uri": "https://localhost:8080/"
        },
        "id": "QcSWnSz8cfiD",
        "outputId": "9c7771ea-39a0-4d6b-8de3-425d825ef11b"
      },
      "source": [
        "date = \"2021-04-21\"\n",
        "testing_data_width=7\n",
        "today = datetime.now()\n",
        "d = timedelta(days = testing_data_width)\n",
        "testing_end = today - d\n",
        "#print(testing_end)\n",
        "df1 = yf.download(\"MSFT\", start=\"2020-12-30\", end=date , period = '1d')\n",
        "df2= yf.download(\"MSFT\", start=date, end=today , period = '1d')\n",
        "no_of_days=df2.shape[0]\n",
        "print(df1.shape)\n",
        "print(df2.shape)"
      ],
      "execution_count": 21,
      "outputs": [
        {
          "output_type": "stream",
          "text": [
            "[*********************100%***********************]  1 of 1 completed\n",
            "[*********************100%***********************]  1 of 1 completed\n",
            "(76, 6)\n",
            "(10, 6)\n"
          ],
          "name": "stdout"
        }
      ]
    },
    {
      "cell_type": "code",
      "metadata": {
        "colab": {
          "base_uri": "https://localhost:8080/",
          "height": 354
        },
        "id": "ClPT2JMpc2Zz",
        "outputId": "0a354a60-af05-43ec-861a-3b19920de347"
      },
      "source": [
        "print(df2.dtypes)\n",
        "df2.head()"
      ],
      "execution_count": 22,
      "outputs": [
        {
          "output_type": "stream",
          "text": [
            "Open         float64\n",
            "High         float64\n",
            "Low          float64\n",
            "Close        float64\n",
            "Adj Close    float64\n",
            "Volume         int64\n",
            "dtype: object\n"
          ],
          "name": "stdout"
        },
        {
          "output_type": "execute_result",
          "data": {
            "text/html": [
              "<div>\n",
              "<style scoped>\n",
              "    .dataframe tbody tr th:only-of-type {\n",
              "        vertical-align: middle;\n",
              "    }\n",
              "\n",
              "    .dataframe tbody tr th {\n",
              "        vertical-align: top;\n",
              "    }\n",
              "\n",
              "    .dataframe thead th {\n",
              "        text-align: right;\n",
              "    }\n",
              "</style>\n",
              "<table border=\"1\" class=\"dataframe\">\n",
              "  <thead>\n",
              "    <tr style=\"text-align: right;\">\n",
              "      <th></th>\n",
              "      <th>Open</th>\n",
              "      <th>High</th>\n",
              "      <th>Low</th>\n",
              "      <th>Close</th>\n",
              "      <th>Adj Close</th>\n",
              "      <th>Volume</th>\n",
              "    </tr>\n",
              "    <tr>\n",
              "      <th>Date</th>\n",
              "      <th></th>\n",
              "      <th></th>\n",
              "      <th></th>\n",
              "      <th></th>\n",
              "      <th></th>\n",
              "      <th></th>\n",
              "    </tr>\n",
              "  </thead>\n",
              "  <tbody>\n",
              "    <tr>\n",
              "      <th>2021-04-21</th>\n",
              "      <td>258.940002</td>\n",
              "      <td>260.679993</td>\n",
              "      <td>257.250000</td>\n",
              "      <td>260.579987</td>\n",
              "      <td>260.579987</td>\n",
              "      <td>24030400</td>\n",
              "    </tr>\n",
              "    <tr>\n",
              "      <th>2021-04-22</th>\n",
              "      <td>260.209991</td>\n",
              "      <td>261.779999</td>\n",
              "      <td>255.639999</td>\n",
              "      <td>257.170013</td>\n",
              "      <td>257.170013</td>\n",
              "      <td>25606200</td>\n",
              "    </tr>\n",
              "    <tr>\n",
              "      <th>2021-04-23</th>\n",
              "      <td>257.880005</td>\n",
              "      <td>261.510010</td>\n",
              "      <td>257.269989</td>\n",
              "      <td>261.149994</td>\n",
              "      <td>261.149994</td>\n",
              "      <td>21462600</td>\n",
              "    </tr>\n",
              "    <tr>\n",
              "      <th>2021-04-26</th>\n",
              "      <td>261.660004</td>\n",
              "      <td>262.440002</td>\n",
              "      <td>260.170013</td>\n",
              "      <td>261.549988</td>\n",
              "      <td>261.549988</td>\n",
              "      <td>19763300</td>\n",
              "    </tr>\n",
              "    <tr>\n",
              "      <th>2021-04-27</th>\n",
              "      <td>261.579987</td>\n",
              "      <td>263.190002</td>\n",
              "      <td>260.119995</td>\n",
              "      <td>261.970001</td>\n",
              "      <td>261.970001</td>\n",
              "      <td>31014200</td>\n",
              "    </tr>\n",
              "  </tbody>\n",
              "</table>\n",
              "</div>"
            ],
            "text/plain": [
              "                  Open        High  ...   Adj Close    Volume\n",
              "Date                                ...                      \n",
              "2021-04-21  258.940002  260.679993  ...  260.579987  24030400\n",
              "2021-04-22  260.209991  261.779999  ...  257.170013  25606200\n",
              "2021-04-23  257.880005  261.510010  ...  261.149994  21462600\n",
              "2021-04-26  261.660004  262.440002  ...  261.549988  19763300\n",
              "2021-04-27  261.579987  263.190002  ...  261.970001  31014200\n",
              "\n",
              "[5 rows x 6 columns]"
            ]
          },
          "metadata": {
            "tags": []
          },
          "execution_count": 22
        }
      ]
    },
    {
      "cell_type": "code",
      "metadata": {
        "id": "nQfmYe3NejZI"
      },
      "source": [
        "df1=df1.dropna()\n",
        "df2=df2.dropna()\n",
        "x_train = df1[['Open', \"High\",\"Low\",\"Volume\",\"Adj Close\"]]\n",
        "y_train = df1[['Close']]\n",
        "x_test = df2[['Open', \"High\",\"Low\",\"Volume\",\"Adj Close\"]]\n",
        "y_test = df2[['Close']]\n",
        "x_train_scaled = scaler.fit_transform(x_train)\n",
        "x_test_scaled = scaler.fit_transform(x_test)\n",
        "#x_test_scaled=x_test"
      ],
      "execution_count": 24,
      "outputs": []
    },
    {
      "cell_type": "code",
      "metadata": {
        "colab": {
          "base_uri": "https://localhost:8080/"
        },
        "id": "9h5EsUaXfB-_",
        "outputId": "30198c6a-3247-4bc0-9dd1-59b312ca03f2"
      },
      "source": [
        "from sklearn import neighbors\n",
        "from sklearn.metrics import mean_squared_error \n",
        "from sklearn.neighbors import KNeighborsClassifier\n",
        "from sklearn.ensemble import GradientBoostingClassifier\n",
        "from sklearn.model_selection import train_test_split, GridSearchCV\n",
        "from sklearn.metrics import confusion_matrix, classification_report\n",
        "from sklearn import metrics\n",
        "import numpy as np\n",
        "from math import sqrt\n",
        "from sklearn import preprocessing\n",
        "from sklearn import utils\n",
        "for K in range(1,10):\n",
        "  knn = neighbors.KNeighborsRegressor(n_neighbors=K , weights='uniform', algorithm='auto')\n",
        "  knn.fit(x_train_scaled, y_train)\n",
        "  y_pred=knn.predict(x_test_scaled)\n",
        "  error = sqrt(mean_squared_error(y_test,y_pred))\n",
        "  print(error)\n",
        "  print(\"The rmse error for {} neighbours is {} .\".format(K,error))\n",
        "  print(y_pred.shape)\n",
        "\n",
        "  \n",
        "    \n"
      ],
      "execution_count": 31,
      "outputs": [
        {
          "output_type": "stream",
          "text": [
            "20.271333612024982\n",
            "The rmse error for 1 neighbours is 20.271333612024982 .\n",
            "(10, 1)\n",
            "19.804030906970993\n",
            "The rmse error for 2 neighbours is 19.804030906970993 .\n",
            "(10, 1)\n",
            "20.096924672779515\n",
            "The rmse error for 3 neighbours is 20.096924672779515 .\n",
            "(10, 1)\n",
            "20.041289054530274\n",
            "The rmse error for 4 neighbours is 20.041289054530274 .\n",
            "(10, 1)\n",
            "19.93578868141706\n",
            "The rmse error for 5 neighbours is 19.93578868141706 .\n",
            "(10, 1)\n",
            "19.564844011539595\n",
            "The rmse error for 6 neighbours is 19.564844011539595 .\n",
            "(10, 1)\n",
            "19.286686307378297\n",
            "The rmse error for 7 neighbours is 19.286686307378297 .\n",
            "(10, 1)\n",
            "18.98280215093553\n",
            "The rmse error for 8 neighbours is 18.98280215093553 .\n",
            "(10, 1)\n",
            "19.10651365842934\n",
            "The rmse error for 9 neighbours is 19.10651365842934 .\n",
            "(10, 1)\n"
          ],
          "name": "stdout"
        }
      ]
    },
    {
      "cell_type": "code",
      "metadata": {
        "colab": {
          "base_uri": "https://localhost:8080/"
        },
        "id": "Y77LqQkdhMxE",
        "outputId": "dffb6efc-5d71-4015-a5d4-f0fa7b76c2e5"
      },
      "source": [
        "# y= [i for i in range(no_of_days)]\n",
        "y_test_list = y_test.values.tolist()\n",
        "y_test_list = np.array(y_test_list)\n",
        "y_pred_list=y_pred.flatten()\n",
        "y_test_list=y_test_list.flatten()\n",
        "print(y_pred_list.shape)\n",
        "print(y_test_list.shape)"
      ],
      "execution_count": 32,
      "outputs": [
        {
          "output_type": "stream",
          "text": [
            "(10,)\n",
            "(10,)\n"
          ],
          "name": "stdout"
        }
      ]
    },
    {
      "cell_type": "code",
      "metadata": {
        "colab": {
          "base_uri": "https://localhost:8080/",
          "height": 282
        },
        "id": "6l75f_iAj0i2",
        "outputId": "ab3160f3-cee2-4839-9f48-e15300a4cec4"
      },
      "source": [
        "plt.plot(y_pred_list)\n",
        "plt.plot(y_test_list)\n",
        "plt.legend([\"predicted\", \"real_value\"], loc =\"lower right\")"
      ],
      "execution_count": 33,
      "outputs": [
        {
          "output_type": "execute_result",
          "data": {
            "text/plain": [
              "<matplotlib.legend.Legend at 0x7fc3cd5e0c50>"
            ]
          },
          "metadata": {
            "tags": []
          },
          "execution_count": 33
        },
        {
          "output_type": "display_data",
          "data": {
            "image/png": "[encoded data removed]",
            "text/plain": [
              "<Figure size 432x288 with 1 Axes>"
            ]
          },
          "metadata": {
            "tags": [],
            "needs_background": "light"
          }
        }
      ]
    },
    {
      "cell_type": "code",
      "metadata": {
        "colab": {
          "base_uri": "https://localhost:8080/",
          "height": 285
        },
        "id": "iN882SUp2JpD",
        "outputId": "70d51d96-5ede-4ee3-9282-bf48eb6046b7"
      },
      "source": [
        "df1[\"Adj Close\"].plot()\n",
        "df2[\"Adj Close\"].plot()\n",
        "df2['forcast']=y_pred_list\n",
        "df2['forcast'].plot()\n",
        "plt.legend([\"Original\",\"Actual\",\"Forcast\"])\n",
        "plt.xlabel('Date')\n",
        "plt.ylabel('Price')\n",
        "plt.show()\n"
      ],
      "execution_count": 48,
      "outputs": [
        {
          "output_type": "display_data",
          "data": {
            "image/png": "[encoded data removed]",
            "text/plain": [
              "<Figure size 432x288 with 1 Axes>"
            ]
          },
          "metadata": {
            "tags": [],
            "needs_background": "light"
          }
        }
      ]
    }
  ]
}