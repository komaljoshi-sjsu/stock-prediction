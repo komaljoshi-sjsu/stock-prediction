{
  "nbformat": 4,
  "nbformat_minor": 0,
  "metadata": {
    "colab": {
      "name": "SVM_2.ipynb",
      "provenance": [],
      "collapsed_sections": []
    },
    "kernelspec": {
      "name": "python3",
      "display_name": "Python 3"
    },
    "language_info": {
      "name": "python"
    }
  },
  "cells": [
    {
      "cell_type": "markdown",
      "metadata": {
        "id": "jXI7HKVFPTvq"
      },
      "source": [
        "\n",
        "# Stock Price Prediction using Support Vector Machine - Regression (SVR)\n",
        "\n",
        "This study uses a machine learning technique called **Support Vector Regression(SVR)** to predict stock prices for large and small capitalisations.\n",
        "\n",
        "\n",
        "\n"
      ]
    },
    {
      "cell_type": "markdown",
      "metadata": {
        "id": "ZoO4wqkDRGH-"
      },
      "source": [
        "### **Data Set**\n",
        "\n",
        "**YFinace** is used here as it allows users to download data using python and it has some great features also which makes it favourable to use for **stock data analysis**. YFinance not only downloads the Stock Price data it also allows us to download all the financial data of a Company since its listing in the stock market. "
      ]
    },
    {
      "cell_type": "markdown",
      "metadata": {
        "id": "GcIq714lS3Px"
      },
      "source": [
        "# Installation \n",
        "Install yfinance using pip:"
      ]
    },
    {
      "cell_type": "code",
      "metadata": {
        "id": "mC0y1mNKXSQZ",
        "colab": {
          "base_uri": "https://localhost:8080/"
        },
        "outputId": "47fc9f76-c518-4f45-8424-cb8971201ffa"
      },
      "source": [
        "!pip3 install yfinance"
      ],
      "execution_count": 67,
      "outputs": [
        {
          "output_type": "stream",
          "text": [
            "Requirement already satisfied: yfinance in /usr/local/lib/python3.7/dist-packages (0.1.59)\n",
            "Requirement already satisfied: requests>=2.20 in /usr/local/lib/python3.7/dist-packages (from yfinance) (2.23.0)\n",
            "Requirement already satisfied: lxml>=4.5.1 in /usr/local/lib/python3.7/dist-packages (from yfinance) (4.6.3)\n",
            "Requirement already satisfied: multitasking>=0.0.7 in /usr/local/lib/python3.7/dist-packages (from yfinance) (0.0.9)\n",
            "Requirement already satisfied: numpy>=1.15 in /usr/local/lib/python3.7/dist-packages (from yfinance) (1.19.5)\n",
            "Requirement already satisfied: pandas>=0.24 in /usr/local/lib/python3.7/dist-packages (from yfinance) (1.1.5)\n",
            "Requirement already satisfied: urllib3!=1.25.0,!=1.25.1,<1.26,>=1.21.1 in /usr/local/lib/python3.7/dist-packages (from requests>=2.20->yfinance) (1.24.3)\n",
            "Requirement already satisfied: chardet<4,>=3.0.2 in /usr/local/lib/python3.7/dist-packages (from requests>=2.20->yfinance) (3.0.4)\n",
            "Requirement already satisfied: certifi>=2017.4.17 in /usr/local/lib/python3.7/dist-packages (from requests>=2.20->yfinance) (2020.12.5)\n",
            "Requirement already satisfied: idna<3,>=2.5 in /usr/local/lib/python3.7/dist-packages (from requests>=2.20->yfinance) (2.10)\n",
            "Requirement already satisfied: pytz>=2017.2 in /usr/local/lib/python3.7/dist-packages (from pandas>=0.24->yfinance) (2018.9)\n",
            "Requirement already satisfied: python-dateutil>=2.7.3 in /usr/local/lib/python3.7/dist-packages (from pandas>=0.24->yfinance) (2.8.1)\n",
            "Requirement already satisfied: six>=1.5 in /usr/local/lib/python3.7/dist-packages (from python-dateutil>=2.7.3->pandas>=0.24->yfinance) (1.15.0)\n"
          ],
          "name": "stdout"
        }
      ]
    },
    {
      "cell_type": "markdown",
      "metadata": {
        "id": "lVkmUkrvVt9w"
      },
      "source": [
        "## Import dependencies"
      ]
    },
    {
      "cell_type": "code",
      "metadata": {
        "id": "NblxRejaXLZ6"
      },
      "source": [
        "from datetime import datetime\n",
        "import matplotlib.pyplot as plt\n",
        "import numpy as np\n",
        "import pandas as pd\n",
        "import yfinance as yf\n",
        "from sklearn.preprocessing import MinMaxScaler"
      ],
      "execution_count": 68,
      "outputs": []
    },
    {
      "cell_type": "markdown",
      "metadata": {
        "id": "7D1P7DW_TEGh"
      },
      "source": [
        "## Selecting the Stock by its Symbol"
      ]
    },
    {
      "cell_type": "code",
      "metadata": {
        "id": "_lK1bJtZYTvq"
      },
      "source": [
        "stock_symbol = 'MSFT'\n",
        "data = yf.Ticker(stock_symbol)\n",
        "historical_data = data.history(period=\"5y\")\n",
        "ohlc_avg = pd.DataFrame(historical_data.iloc[:, 0:4].mean(axis=1), columns=['OHLC_avg'])\n"
      ],
      "execution_count": 69,
      "outputs": []
    },
    {
      "cell_type": "markdown",
      "metadata": {
        "id": "dqJ32Z53U2Dk"
      },
      "source": [
        "\n",
        "## Split dataset into training and testing dataset\n",
        " Data older than 90 days is training dataset and remaining is testing dataset , but since some of the data are missing there is a total of nearly 60 days"
      ]
    },
    {
      "cell_type": "code",
      "metadata": {
        "colab": {
          "base_uri": "https://localhost:8080/"
        },
        "id": "GBIgN9GSU1il",
        "outputId": "649abce0-ac28-4f0e-9d80-77d9091f9dd9"
      },
      "source": [
        "\n",
        "testing_dataframe = ohlc_avg[ohlc_avg.index > datetime.utcnow() - pd.to_timedelta('90days')]\n",
        "training_dataframe = ohlc_avg[ohlc_avg.index < testing_dataframe.index[0]]\n",
        "print('training set shape:', training_dataframe.shape)\n",
        "print('testing set shape:', testing_dataframe.shape)"
      ],
      "execution_count": 70,
      "outputs": [
        {
          "output_type": "stream",
          "text": [
            "training set shape: (1197, 1)\n",
            "testing set shape: (61, 1)\n"
          ],
          "name": "stdout"
        }
      ]
    },
    {
      "cell_type": "markdown",
      "metadata": {
        "id": "T3Afiu2kGtph"
      },
      "source": [
        "## Plotting graph between Test and Train Data set"
      ]
    },
    {
      "cell_type": "code",
      "metadata": {
        "id": "VsEYy5zUa2Q_"
      },
      "source": [
        "def plot_training_testing_distribution(symbol, training_df, testing_df):\n",
        "    plt.plot(testing_df, color = 'red', label = 'Testing dataset')\n",
        "    plt.plot(training_df, color = 'blue', label = 'Training dataset')\n",
        "    plt.title('{} Stock Dataset'.format(symbol))\n",
        "    plt.xlabel('Time')\n",
        "    plt.ylabel('{} Stock Price'.format(symbol))\n",
        "    plt.legend()\n",
        "    plt.xticks(rotation='vertical')\n",
        "    plt.show()"
      ],
      "execution_count": 71,
      "outputs": []
    },
    {
      "cell_type": "code",
      "metadata": {
        "colab": {
          "base_uri": "https://localhost:8080/",
          "height": 311
        },
        "id": "QT8z-SD_a3Du",
        "outputId": "3f98e752-c77f-4773-f1ac-24239e5585ba"
      },
      "source": [
        "plot_training_testing_distribution(stock_symbol, training_dataframe, testing_dataframe)"
      ],
      "execution_count": 72,
      "outputs": [
        {
          "output_type": "display_data",
          "data": {
            "image/png": "[encoded data removed]",
            "text/plain": [
              "<Figure size 432x288 with 1 Axes>"
            ]
          },
          "metadata": {
            "tags": [],
            "needs_background": "light"
          }
        }
      ]
    },
    {
      "cell_type": "markdown",
      "metadata": {
        "id": "wi_Zs38LWSJ1"
      },
      "source": [
        "## Scaling the data to include it in a range of 0-1\n",
        "Change features to numpy arrays and check the shapes"
      ]
    },
    {
      "cell_type": "code",
      "metadata": {
        "id": "CrnqlWflYn2b"
      },
      "source": [
        "training_dataset = training_dataframe.values\n",
        "transformer = MinMaxScaler(feature_range = (0, 1))\n",
        "training_dataset_scaled_x = transformer.fit_transform(training_dataset)\n",
        "\n",
        "training_dataset_scaled_y = training_dataset_scaled_x\n",
        "\n",
        "X_train = []\n",
        "y_train = []\n",
        "\n",
        "for i in range(60, len(training_dataset_scaled_x)):\n",
        "    X_train.append(training_dataset_scaled_x[i-60:i, :])\n",
        "    y_train.append(training_dataset_scaled_y[i, 0])\n",
        "\n",
        "X_train, y_train = np.array(X_train), np.array(y_train)"
      ],
      "execution_count": 73,
      "outputs": []
    },
    {
      "cell_type": "markdown",
      "metadata": {
        "id": "8Ba7uEs8G8mK"
      },
      "source": [
        "## Checking Shapes"
      ]
    },
    {
      "cell_type": "code",
      "metadata": {
        "id": "cPJilzB3JOiE"
      },
      "source": [
        "X_train = X_train.reshape(X_train.shape[0], -1)"
      ],
      "execution_count": 74,
      "outputs": []
    },
    {
      "cell_type": "code",
      "metadata": {
        "id": "T5_yWoEIFfXV",
        "colab": {
          "base_uri": "https://localhost:8080/"
        },
        "outputId": "bc4ed94c-dd75-4d9a-d8ac-8a9add729120"
      },
      "source": [
        "X_train.shape"
      ],
      "execution_count": 75,
      "outputs": [
        {
          "output_type": "execute_result",
          "data": {
            "text/plain": [
              "(1137, 60)"
            ]
          },
          "metadata": {
            "tags": []
          },
          "execution_count": 75
        }
      ]
    },
    {
      "cell_type": "code",
      "metadata": {
        "id": "ax0T1P0-GJUz",
        "colab": {
          "base_uri": "https://localhost:8080/"
        },
        "outputId": "ec0e39bc-2d4a-46d5-d5e0-162287eed165"
      },
      "source": [
        "y_train.shape"
      ],
      "execution_count": 76,
      "outputs": [
        {
          "output_type": "execute_result",
          "data": {
            "text/plain": [
              "(1137,)"
            ]
          },
          "metadata": {
            "tags": []
          },
          "execution_count": 76
        }
      ]
    },
    {
      "cell_type": "code",
      "metadata": {
        "id": "Llre0iVeGMPk",
        "colab": {
          "base_uri": "https://localhost:8080/"
        },
        "outputId": "555ffb51-d4ba-436e-8392-5365fab10915"
      },
      "source": [
        "print(X_train[1][59],y_train[0])"
      ],
      "execution_count": 77,
      "outputs": [
        {
          "output_type": "stream",
          "text": [
            "0.04258168230134318 0.04258168230134318\n"
          ],
          "name": "stdout"
        }
      ]
    },
    {
      "cell_type": "markdown",
      "metadata": {
        "id": "Mip1Tp41WITQ"
      },
      "source": [
        "# Create and train the Support Vector Machine (Regressor)"
      ]
    },
    {
      "cell_type": "code",
      "metadata": {
        "id": "mDXiOWypY1j0"
      },
      "source": [
        "from sklearn.svm import SVR\n",
        "from sklearn.model_selection import train_test_split"
      ],
      "execution_count": 78,
      "outputs": []
    },
    {
      "cell_type": "code",
      "metadata": {
        "id": "UdYJqeplZG_G",
        "colab": {
          "base_uri": "https://localhost:8080/"
        },
        "outputId": "92795486-d818-458d-a863-17be3b41cc9c"
      },
      "source": [
        "#  Support Vector Machine (Regressor) \n",
        "stock_prediction_model = SVR(kernel='linear', C=1e3, gamma=0.1) \n",
        "stock_prediction_model.fit(X_train, y_train)"
      ],
      "execution_count": 79,
      "outputs": [
        {
          "output_type": "execute_result",
          "data": {
            "text/plain": [
              "SVR(C=1000.0, cache_size=200, coef0=0.0, degree=3, epsilon=0.1, gamma=0.1,\n",
              "    kernel='linear', max_iter=-1, shrinking=True, tol=0.001, verbose=False)"
            ]
          },
          "metadata": {
            "tags": []
          },
          "execution_count": 79
        }
      ]
    },
    {
      "cell_type": "markdown",
      "metadata": {
        "id": "QY-GTthnH8nw"
      },
      "source": [
        "#Predicting Buy/Sell\n",
        "Here we are comparing the predicted stock price of the next day (day 61) with the mean of ohlc (Open,High,Low,Close) of previous 60 days"
      ]
    },
    {
      "cell_type": "code",
      "metadata": {
        "id": "WcXyUkt6H64w"
      },
      "source": [
        "def find_buy_sell(historical_ohlc_avg, next_day_prediction):\n",
        "  mean_of_historical_ohlc_avg = historical_ohlc_avg.mean()[0]\n",
        "  if next_day_prediction > mean_of_historical_ohlc_avg:\n",
        "    return 'buy'\n",
        "  elif next_day_prediction < mean_of_historical_ohlc_avg:\n",
        "    return 'sell'\n",
        "  else:\n",
        "    return 'hold'"
      ],
      "execution_count": 80,
      "outputs": []
    },
    {
      "cell_type": "markdown",
      "metadata": {
        "id": "9GfNeTq-aSjK"
      },
      "source": [
        "##Displaying favourable days to **Buy and Sell**, and also comparing with the actual stock price of the predicted days"
      ]
    },
    {
      "cell_type": "code",
      "metadata": {
        "id": "c7TmCuEeZ55B",
        "colab": {
          "base_uri": "https://localhost:8080/"
        },
        "outputId": "9cb3eeb4-cc50-4e23-8a57-104c1deaa0f9"
      },
      "source": [
        "real_stock_price = testing_dataframe.iloc[:, 0:1].values\n",
        "predicted_stock_price = []\n",
        "look_ahead_predicted_stock_price = []\n",
        "predicted_stock_price_scaled = []\n",
        "\n",
        "inputs = ohlc_avg[len(ohlc_avg) - len(testing_dataframe) - 60:].values\n",
        "inputs = transformer.transform(inputs)\n",
        "real_stock_price_scaled = transformer.transform(real_stock_price)\n",
        "correct = wrong = total = 0\n",
        "\n",
        "for i in range(60, len(inputs)):\n",
        "    next_day_input = inputs[i-60:i, :]\n",
        "    next_day_input = next_day_input.reshape(1, 60, 1)\n",
        "    next_day_input = next_day_input.reshape(next_day_input.shape[0], -1)\n",
        "    next_day_predicted_stock_price = stock_prediction_model.predict(next_day_input)\n",
        "    predicted_stock_price_scaled.append(next_day_predicted_stock_price) \n",
        "    next_day_predicted_stock_price = transformer.inverse_transform(next_day_predicted_stock_price.reshape(-1,1))\n",
        "    predicted_stock_price.append(next_day_predicted_stock_price[0][0])\n",
        "    prediction = find_buy_sell(ohlc_avg[len(training_dataframe) + i - 60 - 60:len(training_dataframe) + i - 60], next_day_predicted_stock_price[0][0])\n",
        "    print('Prediction: Tomorrow (utc:{}) it is more favourable to {}'.format(str(testing_dataframe.index[i-60].date()), prediction))\n",
        "    real = find_buy_sell(ohlc_avg[len(training_dataframe) + i - 60 - 60:len(training_dataframe) + i - 60], real_stock_price[i-60])\n",
        "    if prediction != real:\n",
        "        wrong += 1\n",
        "    else:\n",
        "        correct += 1\n",
        "    total += 1\n",
        "\n",
        "print(\"Correct predictions:\", correct)\n",
        "print(\"Wrong predictions:\", wrong)\n",
        "\n",
        "print(\"Correct predictions percentage: {}%\\n\".format(round(correct*100/total, 2)))"
      ],
      "execution_count": 81,
      "outputs": [
        {
          "output_type": "stream",
          "text": [
            "Prediction: Tomorrow (utc:2021-02-11) it is more favourable to buy\n",
            "Prediction: Tomorrow (utc:2021-02-12) it is more favourable to buy\n",
            "Prediction: Tomorrow (utc:2021-02-16) it is more favourable to buy\n",
            "Prediction: Tomorrow (utc:2021-02-17) it is more favourable to buy\n",
            "Prediction: Tomorrow (utc:2021-02-18) it is more favourable to buy\n",
            "Prediction: Tomorrow (utc:2021-02-19) it is more favourable to buy\n",
            "Prediction: Tomorrow (utc:2021-02-22) it is more favourable to buy\n",
            "Prediction: Tomorrow (utc:2021-02-23) it is more favourable to buy\n",
            "Prediction: Tomorrow (utc:2021-02-24) it is more favourable to buy\n",
            "Prediction: Tomorrow (utc:2021-02-25) it is more favourable to buy\n",
            "Prediction: Tomorrow (utc:2021-02-26) it is more favourable to buy\n",
            "Prediction: Tomorrow (utc:2021-03-01) it is more favourable to buy\n",
            "Prediction: Tomorrow (utc:2021-03-02) it is more favourable to buy\n",
            "Prediction: Tomorrow (utc:2021-03-03) it is more favourable to buy\n",
            "Prediction: Tomorrow (utc:2021-03-04) it is more favourable to buy\n",
            "Prediction: Tomorrow (utc:2021-03-05) it is more favourable to buy\n",
            "Prediction: Tomorrow (utc:2021-03-08) it is more favourable to buy\n",
            "Prediction: Tomorrow (utc:2021-03-09) it is more favourable to sell\n",
            "Prediction: Tomorrow (utc:2021-03-10) it is more favourable to sell\n",
            "Prediction: Tomorrow (utc:2021-03-11) it is more favourable to sell\n",
            "Prediction: Tomorrow (utc:2021-03-12) it is more favourable to sell\n",
            "Prediction: Tomorrow (utc:2021-03-15) it is more favourable to sell\n",
            "Prediction: Tomorrow (utc:2021-03-16) it is more favourable to sell\n",
            "Prediction: Tomorrow (utc:2021-03-17) it is more favourable to sell\n",
            "Prediction: Tomorrow (utc:2021-03-18) it is more favourable to sell\n",
            "Prediction: Tomorrow (utc:2021-03-19) it is more favourable to sell\n",
            "Prediction: Tomorrow (utc:2021-03-22) it is more favourable to sell\n",
            "Prediction: Tomorrow (utc:2021-03-23) it is more favourable to sell\n",
            "Prediction: Tomorrow (utc:2021-03-24) it is more favourable to sell\n",
            "Prediction: Tomorrow (utc:2021-03-25) it is more favourable to buy\n",
            "Prediction: Tomorrow (utc:2021-03-26) it is more favourable to buy\n",
            "Prediction: Tomorrow (utc:2021-03-29) it is more favourable to buy\n",
            "Prediction: Tomorrow (utc:2021-03-30) it is more favourable to buy\n",
            "Prediction: Tomorrow (utc:2021-03-31) it is more favourable to buy\n",
            "Prediction: Tomorrow (utc:2021-04-01) it is more favourable to buy\n",
            "Prediction: Tomorrow (utc:2021-04-05) it is more favourable to buy\n",
            "Prediction: Tomorrow (utc:2021-04-06) it is more favourable to buy\n",
            "Prediction: Tomorrow (utc:2021-04-07) it is more favourable to buy\n",
            "Prediction: Tomorrow (utc:2021-04-08) it is more favourable to buy\n",
            "Prediction: Tomorrow (utc:2021-04-09) it is more favourable to buy\n",
            "Prediction: Tomorrow (utc:2021-04-12) it is more favourable to buy\n",
            "Prediction: Tomorrow (utc:2021-04-13) it is more favourable to buy\n",
            "Prediction: Tomorrow (utc:2021-04-14) it is more favourable to buy\n",
            "Prediction: Tomorrow (utc:2021-04-15) it is more favourable to buy\n",
            "Prediction: Tomorrow (utc:2021-04-16) it is more favourable to buy\n",
            "Prediction: Tomorrow (utc:2021-04-19) it is more favourable to buy\n",
            "Prediction: Tomorrow (utc:2021-04-20) it is more favourable to buy\n",
            "Prediction: Tomorrow (utc:2021-04-21) it is more favourable to buy\n",
            "Prediction: Tomorrow (utc:2021-04-22) it is more favourable to buy\n",
            "Prediction: Tomorrow (utc:2021-04-23) it is more favourable to buy\n",
            "Prediction: Tomorrow (utc:2021-04-26) it is more favourable to buy\n",
            "Prediction: Tomorrow (utc:2021-04-27) it is more favourable to buy\n",
            "Prediction: Tomorrow (utc:2021-04-28) it is more favourable to buy\n",
            "Prediction: Tomorrow (utc:2021-04-29) it is more favourable to buy\n",
            "Prediction: Tomorrow (utc:2021-04-30) it is more favourable to buy\n",
            "Prediction: Tomorrow (utc:2021-05-03) it is more favourable to buy\n",
            "Prediction: Tomorrow (utc:2021-05-04) it is more favourable to buy\n",
            "Prediction: Tomorrow (utc:2021-05-05) it is more favourable to buy\n",
            "Prediction: Tomorrow (utc:2021-05-06) it is more favourable to buy\n",
            "Prediction: Tomorrow (utc:2021-05-07) it is more favourable to buy\n",
            "Prediction: Tomorrow (utc:2021-05-10) it is more favourable to buy\n",
            "Correct predictions: 49\n",
            "Wrong predictions: 12\n",
            "Correct predictions percentage: 80.33%\n",
            "\n"
          ],
          "name": "stdout"
        }
      ]
    },
    {
      "cell_type": "code",
      "metadata": {
        "id": "KXL9iMIZL-mr"
      },
      "source": [
        "from sklearn.metrics import mean_squared_error"
      ],
      "execution_count": 82,
      "outputs": []
    },
    {
      "cell_type": "markdown",
      "metadata": {
        "id": "DTl7W1nRHEtc"
      },
      "source": [
        "## Finding Root Mean Square (**RMSE**) for original values"
      ]
    },
    {
      "cell_type": "code",
      "metadata": {
        "colab": {
          "base_uri": "https://localhost:8080/"
        },
        "id": "Qsxp4YD_foEq",
        "outputId": "284fe9ba-a004-4f98-da34-fd67cd9161fe"
      },
      "source": [
        "mse=mean_squared_error(real_stock_price,predicted_stock_price)\n",
        "rmse=np.sqrt(mse)\n",
        "print('RMSE for Original values :',rmse)"
      ],
      "execution_count": 83,
      "outputs": [
        {
          "output_type": "stream",
          "text": [
            "RMSE for Original values : 9.0609249360998\n"
          ],
          "name": "stdout"
        }
      ]
    },
    {
      "cell_type": "code",
      "metadata": {
        "colab": {
          "base_uri": "https://localhost:8080/"
        },
        "id": "drQe0olGhjZn",
        "outputId": "0a79f8f6-9ecf-4556-c486-6dc24c3c6afa"
      },
      "source": [
        "mse_scaled=mean_squared_error(real_stock_price_scaled,predicted_stock_price_scaled)\n",
        "rmse_scaled=np.sqrt(mse_scaled)\n",
        "print('RMSE for Scaled values :',rmse_scaled)\n"
      ],
      "execution_count": 84,
      "outputs": [
        {
          "output_type": "stream",
          "text": [
            "RMSE for Scaled values : 0.04572824772627364\n"
          ],
          "name": "stdout"
        }
      ]
    },
    {
      "cell_type": "code",
      "metadata": {
        "id": "zIcdR-ErazNk"
      },
      "source": [
        "look_ahead_predicted_stock_price_scaled=[]\n",
        "for i in range(60, len(inputs)):\n",
        "    next_day_input = inputs[i-60:i, :]\n",
        "    next_day_input = next_day_input.reshape(1, 60, 1)\n",
        "    next_day_input = next_day_input.reshape(next_day_input.shape[0], -1)\n",
        "    next_day_predicted_stock_price = stock_prediction_model.predict(next_day_input)\n",
        "    look_ahead_predicted_stock_price_scaled.append(next_day_predicted_stock_price)\n",
        "    next_day_predicted_stock_price = transformer.inverse_transform(next_day_predicted_stock_price.reshape(-1,1))\n",
        "    look_ahead_predicted_stock_price.append(next_day_predicted_stock_price[0][0])\n",
        "    inputs[i] = next_day_predicted_stock_price[0][0]\n",
        "    prediction = find_buy_sell(ohlc_avg[len(training_dataframe) + i - 60 - 60:len(training_dataframe) + i - 60], next_day_predicted_stock_price[0][0])\n",
        "    "
      ],
      "execution_count": 85,
      "outputs": []
    },
    {
      "cell_type": "markdown",
      "metadata": {
        "id": "g9sERROBkfln"
      },
      "source": [
        "# Plotting Real Stock Price v/s Predicted Stock Price "
      ]
    },
    {
      "cell_type": "code",
      "metadata": {
        "id": "X9zycLhWbXr6",
        "colab": {
          "base_uri": "https://localhost:8080/",
          "height": 295
        },
        "outputId": "7a397758-f937-4f48-c8c7-6658f90b3f13"
      },
      "source": [
        "plt.plot(real_stock_price, color = 'red',label = '{} Stock Price'.format(stock_symbol))\n",
        "plt.plot(predicted_stock_price, color = 'blue', label = 'Predicted {} Stock Price'.format((stock_symbol)))\n",
        "plt.title('{} Stock Price Prediction'.format(stock_symbol))\n",
        "plt.xlabel('Time')\n",
        "plt.ylabel('{} Stock Price'.format(stock_symbol))\n",
        "plt.legend()\n",
        "plt.savefig('graph.png')\n",
        "plt.show()"
      ],
      "execution_count": 86,
      "outputs": [
        {
          "output_type": "display_data",
          "data": {
            "image/png": "[encoded data removed]",
            "text/plain": [
              "<Figure size 432x288 with 1 Axes>"
            ]
          },
          "metadata": {
            "tags": [],
            "needs_background": "light"
          }
        }
      ]
    },
    {
      "cell_type": "markdown",
      "metadata": {
        "id": "erL2mzt-Hixm"
      },
      "source": [
        "Graph to show the values obtained after using Predicted values to predicted next day Stock"
      ]
    },
    {
      "cell_type": "code",
      "metadata": {
        "colab": {
          "base_uri": "https://localhost:8080/",
          "height": 295
        },
        "id": "ouI_HAgcKZG8",
        "outputId": "7810880d-e41a-431d-9be3-15a728e0c04f"
      },
      "source": [
        "# plt.plot(real_stock_price, color = 'red', label = '{} Stock Price'.format(stock_symbol))\n",
        "# plt.plot(look_ahead_predicted_stock_price, color = 'blue', label = 'Predicted {} Stock Price'.format((stock_symbol)))\n",
        "# plt.title('{} Stock Price Prediction'.format(stock_symbol))\n",
        "# plt.xlabel('Time')\n",
        "# plt.ylabel('{} Stock Price'.format(stock_symbol))\n",
        "# plt.legend()\n",
        "# plt.savefig('graph1.png')\n",
        "# plt.show()"
      ],
      "execution_count": 91,
      "outputs": [
        {
          "output_type": "display_data",
          "data": {
            "image/png": "[encoded data removed]",
            "text/plain": [
              "<Figure size 432x288 with 1 Axes>"
            ]
          },
          "metadata": {
            "tags": [],
            "needs_background": "light"
          }
        }
      ]
    }
  ]
}