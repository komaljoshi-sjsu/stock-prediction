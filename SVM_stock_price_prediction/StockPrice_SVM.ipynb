{
  "nbformat": 4,
  "nbformat_minor": 0,
  "metadata": {
    "colab": {
      "name": "StockPrice. V.1.1.ipynb",
      "provenance": [],
      "collapsed_sections": []
    },
    "kernelspec": {
      "name": "python3",
      "display_name": "Python 3"
    },
    "language_info": {
      "name": "python"
    }
  },
  "cells": [
    {
      "cell_type": "code",
      "metadata": {
        "colab": {
          "base_uri": "https://localhost:8080/"
        },
        "id": "t4uGeTE0abDp",
        "outputId": "a5659dca-2b65-4908-d482-63f48c915305"
      },
      "source": [
        "import pandas as pd\n",
        "import numpy as np\n",
        "!pip3 install yfinance\n",
        "import yfinance as yf"
      ],
      "execution_count": null,
      "outputs": [
        {
          "output_type": "stream",
          "text": [
            "Collecting yfinance\n",
            "  Downloading https://files.pythonhosted.org/packages/a7/ee/315752b9ef281ba83c62aa7ec2e2074f85223da6e7e74efb4d3e11c0f510/yfinance-0.1.59.tar.gz\n",
            "Requirement already satisfied: pandas>=0.24 in /usr/local/lib/python3.7/dist-packages (from yfinance) (1.1.5)\n",
            "Requirement already satisfied: numpy>=1.15 in /usr/local/lib/python3.7/dist-packages (from yfinance) (1.19.5)\n",
            "Requirement already satisfied: requests>=2.20 in /usr/local/lib/python3.7/dist-packages (from yfinance) (2.23.0)\n",
            "Requirement already satisfied: multitasking>=0.0.7 in /usr/local/lib/python3.7/dist-packages (from yfinance) (0.0.9)\n",
            "Collecting lxml>=4.5.1\n",
            "\u001b[?25l  Downloading https://files.pythonhosted.org/packages/cf/4d/6537313bf58fe22b508f08cf3eb86b29b6f9edf68e00454224539421073b/lxml-4.6.3-cp37-cp37m-manylinux1_x86_64.whl (5.5MB)\n",
            "\u001b[K     |████████████████████████████████| 5.5MB 11.0MB/s \n",
            "\u001b[?25hRequirement already satisfied: pytz>=2017.2 in /usr/local/lib/python3.7/dist-packages (from pandas>=0.24->yfinance) (2018.9)\n",
            "Requirement already satisfied: python-dateutil>=2.7.3 in /usr/local/lib/python3.7/dist-packages (from pandas>=0.24->yfinance) (2.8.1)\n",
            "Requirement already satisfied: urllib3!=1.25.0,!=1.25.1,<1.26,>=1.21.1 in /usr/local/lib/python3.7/dist-packages (from requests>=2.20->yfinance) (1.24.3)\n",
            "Requirement already satisfied: chardet<4,>=3.0.2 in /usr/local/lib/python3.7/dist-packages (from requests>=2.20->yfinance) (3.0.4)\n",
            "Requirement already satisfied: certifi>=2017.4.17 in /usr/local/lib/python3.7/dist-packages (from requests>=2.20->yfinance) (2020.12.5)\n",
            "Requirement already satisfied: idna<3,>=2.5 in /usr/local/lib/python3.7/dist-packages (from requests>=2.20->yfinance) (2.10)\n",
            "Requirement already satisfied: six>=1.5 in /usr/local/lib/python3.7/dist-packages (from python-dateutil>=2.7.3->pandas>=0.24->yfinance) (1.15.0)\n",
            "Building wheels for collected packages: yfinance\n",
            "  Building wheel for yfinance (setup.py) ... \u001b[?25l\u001b[?25hdone\n",
            "  Created wheel for yfinance: filename=yfinance-0.1.59-py2.py3-none-any.whl size=23442 sha256=20e22c76908ccbe5e3144af7932835b9ea5a2dfe84ede62fa1b5a003e59223cd\n",
            "  Stored in directory: /root/.cache/pip/wheels/f8/2a/0f/4b5a86e1d52e451757eb6bc17fd899629f0925c777741b6d04\n",
            "Successfully built yfinance\n",
            "Installing collected packages: lxml, yfinance\n",
            "  Found existing installation: lxml 4.2.6\n",
            "    Uninstalling lxml-4.2.6:\n",
            "      Successfully uninstalled lxml-4.2.6\n",
            "Successfully installed lxml-4.6.3 yfinance-0.1.59\n"
          ],
          "name": "stdout"
        }
      ]
    },
    {
      "cell_type": "code",
      "metadata": {
        "id": "5QXiBQJGauyU"
      },
      "source": [
        "import matplotlib.pyplot as plt\n",
        "%matplotlib inline"
      ],
      "execution_count": null,
      "outputs": []
    },
    {
      "cell_type": "code",
      "metadata": {
        "id": "BIURixcubDtJ"
      },
      "source": [
        "from matplotlib.pylab import rcParams\n",
        "rcParams['figure.figsize'] = 20,10"
      ],
      "execution_count": null,
      "outputs": []
    },
    {
      "cell_type": "code",
      "metadata": {
        "id": "sETNgGUYbGnQ"
      },
      "source": [
        "from sklearn.preprocessing import MinMaxScaler\n",
        "scaler = MinMaxScaler(feature_range=(0, 1))"
      ],
      "execution_count": null,
      "outputs": []
    },
    {
      "cell_type": "code",
      "metadata": {
        "id": "e0y7NWsobM03"
      },
      "source": [
        "tickers=[\"AAPL\",\"CSCO\",\"MSFT\", \"SBUX\"]"
      ],
      "execution_count": null,
      "outputs": []
    },
    {
      "cell_type": "code",
      "metadata": {
        "colab": {
          "base_uri": "https://localhost:8080/"
        },
        "id": "ZFuD1z18bUrW",
        "outputId": "ed5ee789-7dbc-4866-c791-4dd541b1946f"
      },
      "source": [
        "li=[]\n",
        "val=1\n",
        "for f in tickers: \n",
        "  df = yf.download(f, start=\"2010-12-30\", end=\"2020-12-30\" , period = '1d')\n",
        "  df.insert(df.shape[1],\"Comp_ID\",val,True)\n",
        "  print(df.shape)\n",
        "  df=df[['Volume','Open','High','Low','Comp_ID','Adj Close','Close']]\n",
        "  li.append(df)\n",
        "  val+=1"
      ],
      "execution_count": null,
      "outputs": [
        {
          "output_type": "stream",
          "text": [
            "[*********************100%***********************]  1 of 1 completed\n",
            "(2517, 7)\n",
            "[*********************100%***********************]  1 of 1 completed\n",
            "(2517, 7)\n",
            "[*********************100%***********************]  1 of 1 completed\n",
            "(2517, 7)\n",
            "[*********************100%***********************]  1 of 1 completed\n",
            "(2517, 7)\n"
          ],
          "name": "stdout"
        }
      ]
    },
    {
      "cell_type": "code",
      "metadata": {
        "colab": {
          "base_uri": "https://localhost:8080/"
        },
        "id": "5PG4o6mJbYoq",
        "outputId": "9b0eda99-6a87-423b-d54e-5758dd2539b2"
      },
      "source": [
        "len(df)"
      ],
      "execution_count": null,
      "outputs": [
        {
          "output_type": "execute_result",
          "data": {
            "text/plain": [
              "2517"
            ]
          },
          "metadata": {
            "tags": []
          },
          "execution_count": 63
        }
      ]
    },
    {
      "cell_type": "code",
      "metadata": {
        "colab": {
          "base_uri": "https://localhost:8080/"
        },
        "id": "15PZGD5_bafL",
        "outputId": "79cfac98-b866-4b91-b588-b4e2898fb4b8"
      },
      "source": [
        "frame = pd.concat(li, axis=0, ignore_index=True)  \n",
        "print(frame.shape)\n",
        "print(frame.dtypes)\n",
        "print(frame.tail())\n",
        "print(frame.describe())"
      ],
      "execution_count": null,
      "outputs": [
        {
          "output_type": "stream",
          "text": [
            "(10068, 7)\n",
            "Volume         int64\n",
            "Open         float64\n",
            "High         float64\n",
            "Low          float64\n",
            "Comp_ID        int64\n",
            "Adj Close    float64\n",
            "Close        float64\n",
            "dtype: object\n",
            "        Volume        Open        High  ...  Comp_ID   Adj Close       Close\n",
            "10063  4302700  102.120003  103.169998  ...        4  101.975861  102.410004\n",
            "10064  3817300  102.290001  102.690002  ...        4  101.627342  102.059998\n",
            "10065  1949200  102.300003  102.360001  ...        4  101.577553  102.010002\n",
            "10066  5055200  102.919998  104.379997  ...        4  103.897675  104.339996\n",
            "10067  4780900  104.889999  105.779999  ...        4  105.182205  105.629997\n",
            "\n",
            "[5 rows x 7 columns]\n",
            "             Volume          Open  ...     Adj Close         Close\n",
            "count  1.006800e+04  10068.000000  ...  10068.000000  10068.000000\n",
            "mean   8.394402e+07     47.600267  ...     44.285495     47.615941\n",
            "std    1.420694e+08     35.032814  ...     35.520284     35.042800\n",
            "min    1.847800e+06     11.310000  ...      9.700181     11.261429\n",
            "25%    1.581008e+07     25.591876  ...     21.812246     25.590000\n",
            "50%    2.943905e+07     38.000000  ...     34.216980     38.039999\n",
            "75%    8.051918e+07     56.352499  ...     52.440224     56.312501\n",
            "max    1.880998e+09    229.270004  ...    230.514191    231.649994\n",
            "\n",
            "[8 rows x 7 columns]\n"
          ],
          "name": "stdout"
        }
      ]
    },
    {
      "cell_type": "code",
      "metadata": {
        "colab": {
          "base_uri": "https://localhost:8080/"
        },
        "id": "WCJVdJsJcUe5",
        "outputId": "37b0ec7c-e6b8-4425-89d2-2c83c3abf765"
      },
      "source": [
        "len(frame)"
      ],
      "execution_count": null,
      "outputs": [
        {
          "output_type": "execute_result",
          "data": {
            "text/plain": [
              "10068"
            ]
          },
          "metadata": {
            "tags": []
          },
          "execution_count": 65
        }
      ]
    },
    {
      "cell_type": "code",
      "metadata": {
        "id": "60tFUbOHb-RW"
      },
      "source": [
        "\n",
        "X=frame[['Volume','Open','High','Low','Comp_ID','Adj Close']]\n",
        "Y=frame[['Close']]"
      ],
      "execution_count": null,
      "outputs": []
    },
    {
      "cell_type": "code",
      "metadata": {
        "colab": {
          "base_uri": "https://localhost:8080/"
        },
        "id": "hIUImZREcwS2",
        "outputId": "73b373f8-8f4b-43b2-fdbe-dad53745765c"
      },
      "source": [
        "from sklearn.model_selection import train_test_split\n",
        "X_train, X_test, y_train, y_test = train_test_split(X, Y, test_size=0.2, random_state=42)\n",
        "print(len(X_train))"
      ],
      "execution_count": null,
      "outputs": [
        {
          "output_type": "stream",
          "text": [
            "8054\n"
          ],
          "name": "stdout"
        }
      ]
    },
    {
      "cell_type": "code",
      "metadata": {
        "id": "3QkeXzlVc6zu"
      },
      "source": [
        "y_test_original=y_test"
      ],
      "execution_count": null,
      "outputs": []
    },
    {
      "cell_type": "code",
      "metadata": {
        "id": "v4oaQ9EbebeN"
      },
      "source": [
        "from sklearn.preprocessing import StandardScaler\n",
        "sc_X = StandardScaler()\n",
        "sc_y = StandardScaler()\n",
        "X_train = sc_X.fit_transform(X_train)\n",
        "y_train= sc_y.fit_transform(y_train.values.reshape(-1,1))"
      ],
      "execution_count": null,
      "outputs": []
    },
    {
      "cell_type": "code",
      "metadata": {
        "id": "FRAAg4q-eucR"
      },
      "source": [
        "X_test = sc_X.fit_transform(X_test)\n",
        "y_test= sc_y.fit_transform(y_test.values.reshape(-1,1))\n"
      ],
      "execution_count": null,
      "outputs": []
    },
    {
      "cell_type": "code",
      "metadata": {
        "id": "umghLvHbe1vD"
      },
      "source": [
        "y_train=y_train.ravel()"
      ],
      "execution_count": null,
      "outputs": []
    },
    {
      "cell_type": "code",
      "metadata": {
        "id": "z6zC0B0_e4lx"
      },
      "source": [
        "from sklearn.svm import SVR"
      ],
      "execution_count": null,
      "outputs": []
    },
    {
      "cell_type": "code",
      "metadata": {
        "colab": {
          "base_uri": "https://localhost:8080/"
        },
        "id": "zAOCFtdve8sL",
        "outputId": "6b6e34fe-0666-4139-c28d-b780c91cb70b"
      },
      "source": [
        "svm_clf=SVR(kernel='rbf')\n",
        "svm_clf.fit(X_train,y_train)"
      ],
      "execution_count": null,
      "outputs": [
        {
          "output_type": "execute_result",
          "data": {
            "text/plain": [
              "SVR(C=1.0, cache_size=200, coef0=0.0, degree=3, epsilon=0.1, gamma='scale',\n",
              "    kernel='rbf', max_iter=-1, shrinking=True, tol=0.001, verbose=False)"
            ]
          },
          "metadata": {
            "tags": []
          },
          "execution_count": 74
        }
      ]
    },
    {
      "cell_type": "code",
      "metadata": {
        "id": "zV3gtNMRfDTf"
      },
      "source": [
        "y_pred=svm_clf.predict(X_test)"
      ],
      "execution_count": null,
      "outputs": []
    },
    {
      "cell_type": "code",
      "metadata": {
        "id": "ZU9K2IXWfF5L"
      },
      "source": [
        "y_pred_inverse=sc_y.inverse_transform(y_pred)"
      ],
      "execution_count": null,
      "outputs": []
    },
    {
      "cell_type": "code",
      "metadata": {
        "colab": {
          "base_uri": "https://localhost:8080/"
        },
        "id": "Bf5cu8pAfHOi",
        "outputId": "d44e5d68-d138-4e4d-e77a-fc93784e157a"
      },
      "source": [
        "y_pred_inverse"
      ],
      "execution_count": null,
      "outputs": [
        {
          "output_type": "execute_result",
          "data": {
            "text/plain": [
              "array([24.12812109, 32.31892101, 43.63531686, ..., 71.74549667,\n",
              "       27.91422285, 68.18189701])"
            ]
          },
          "metadata": {
            "tags": []
          },
          "execution_count": 90
        }
      ]
    },
    {
      "cell_type": "code",
      "metadata": {
        "id": "Nh35dohlfMrk"
      },
      "source": [
        "from sklearn.model_selection import cross_val_score"
      ],
      "execution_count": null,
      "outputs": []
    },
    {
      "cell_type": "code",
      "metadata": {
        "id": "KkPrt8ALfOiY"
      },
      "source": [
        "svm_scores=cross_val_score(svm_clf,X_train,y_train,cv=10)"
      ],
      "execution_count": null,
      "outputs": []
    },
    {
      "cell_type": "code",
      "metadata": {
        "colab": {
          "base_uri": "https://localhost:8080/"
        },
        "id": "x5_W-oeKfQeT",
        "outputId": "93a90d4d-7e32-4642-f1c9-236fd68df80b"
      },
      "source": [
        "svm_scores.mean()"
      ],
      "execution_count": null,
      "outputs": [
        {
          "output_type": "execute_result",
          "data": {
            "text/plain": [
              "0.9978698520524582"
            ]
          },
          "metadata": {
            "tags": []
          },
          "execution_count": 93
        }
      ]
    },
    {
      "cell_type": "code",
      "metadata": {
        "id": "1dQ70gcnfTfj"
      },
      "source": [
        "from sklearn.metrics import mean_squared_error"
      ],
      "execution_count": null,
      "outputs": []
    },
    {
      "cell_type": "code",
      "metadata": {
        "colab": {
          "base_uri": "https://localhost:8080/"
        },
        "id": "ihImj9a8kMiQ",
        "outputId": "f3f36a1c-6232-41e1-8141-f070fe86e5cd"
      },
      "source": [
        "y_pred_inverse"
      ],
      "execution_count": null,
      "outputs": [
        {
          "output_type": "execute_result",
          "data": {
            "text/plain": [
              "array([24.12812109, 32.31892101, 43.63531686, ..., 71.74549667,\n",
              "       27.91422285, 68.18189701])"
            ]
          },
          "metadata": {
            "tags": []
          },
          "execution_count": 95
        }
      ]
    },
    {
      "cell_type": "code",
      "metadata": {
        "id": "P51emlT5fVar"
      },
      "source": [
        "mse=mean_squared_error(y_test_original,y_pred_inverse)"
      ],
      "execution_count": null,
      "outputs": []
    },
    {
      "cell_type": "code",
      "metadata": {
        "id": "qeCi-H7pfXIX"
      },
      "source": [
        "rmse=np.sqrt(mse)"
      ],
      "execution_count": null,
      "outputs": []
    },
    {
      "cell_type": "code",
      "metadata": {
        "colab": {
          "base_uri": "https://localhost:8080/"
        },
        "id": "Gz4DxCIffYLs",
        "outputId": "6a2c94c7-7620-4b97-a547-17deda0999f6"
      },
      "source": [
        "rmse"
      ],
      "execution_count": null,
      "outputs": [
        {
          "output_type": "execute_result",
          "data": {
            "text/plain": [
              "1.7795381688557323"
            ]
          },
          "metadata": {
            "tags": []
          },
          "execution_count": 99
        }
      ]
    }
  ]
}