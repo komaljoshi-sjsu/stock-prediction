{
  "nbformat": 4,
  "nbformat_minor": 0,
  "metadata": {
    "colab": {
      "name": "SVM_1.1.ipynb",
      "provenance": [],
      "collapsed_sections": []
    },
    "kernelspec": {
      "name": "python3",
      "display_name": "Python 3"
    },
    "language_info": {
      "name": "python"
    }
  },
  "cells": [
    {
      "cell_type": "code",
      "metadata": {
        "colab": {
          "base_uri": "https://localhost:8080/"
        },
        "id": "ar97onoDI9rM",
        "outputId": "d0cb4e06-526c-4112-c51f-7ca6d1ef4976"
      },
      "source": [
        "import pandas as pd\n",
        "import numpy as np\n",
        "!pip3 install yfinance\n",
        "import yfinance as yf\n",
        "\n",
        "import matplotlib.pyplot as plt\n",
        "%matplotlib inline\n",
        "\n",
        "from matplotlib.pylab import rcParams\n",
        "# rcParams['figure.figsize'] = 10,5\n",
        "\n",
        "from sklearn.preprocessing import MinMaxScaler\n",
        "scaler = MinMaxScaler(feature_range=(0, 1))\n",
        "from datetime import datetime , timedelta"
      ],
      "execution_count": 1,
      "outputs": [
        {
          "output_type": "stream",
          "text": [
            "Collecting yfinance\n",
            "  Downloading https://files.pythonhosted.org/packages/a7/ee/315752b9ef281ba83c62aa7ec2e2074f85223da6e7e74efb4d3e11c0f510/yfinance-0.1.59.tar.gz\n",
            "Requirement already satisfied: pandas>=0.24 in /usr/local/lib/python3.7/dist-packages (from yfinance) (1.1.5)\n",
            "Requirement already satisfied: numpy>=1.15 in /usr/local/lib/python3.7/dist-packages (from yfinance) (1.19.5)\n",
            "Requirement already satisfied: requests>=2.20 in /usr/local/lib/python3.7/dist-packages (from yfinance) (2.23.0)\n",
            "Requirement already satisfied: multitasking>=0.0.7 in /usr/local/lib/python3.7/dist-packages (from yfinance) (0.0.9)\n",
            "Collecting lxml>=4.5.1\n",
            "\u001b[?25l  Downloading https://files.pythonhosted.org/packages/30/c0/d0526314971fc661b083ab135747dc68446a3022686da8c16d25fcf6ef07/lxml-4.6.3-cp37-cp37m-manylinux2014_x86_64.whl (6.3MB)\n",
            "\u001b[K     |████████████████████████████████| 6.3MB 14.0MB/s \n",
            "\u001b[?25hRequirement already satisfied: python-dateutil>=2.7.3 in /usr/local/lib/python3.7/dist-packages (from pandas>=0.24->yfinance) (2.8.1)\n",
            "Requirement already satisfied: pytz>=2017.2 in /usr/local/lib/python3.7/dist-packages (from pandas>=0.24->yfinance) (2018.9)\n",
            "Requirement already satisfied: idna<3,>=2.5 in /usr/local/lib/python3.7/dist-packages (from requests>=2.20->yfinance) (2.10)\n",
            "Requirement already satisfied: chardet<4,>=3.0.2 in /usr/local/lib/python3.7/dist-packages (from requests>=2.20->yfinance) (3.0.4)\n",
            "Requirement already satisfied: certifi>=2017.4.17 in /usr/local/lib/python3.7/dist-packages (from requests>=2.20->yfinance) (2020.12.5)\n",
            "Requirement already satisfied: urllib3!=1.25.0,!=1.25.1,<1.26,>=1.21.1 in /usr/local/lib/python3.7/dist-packages (from requests>=2.20->yfinance) (1.24.3)\n",
            "Requirement already satisfied: six>=1.5 in /usr/local/lib/python3.7/dist-packages (from python-dateutil>=2.7.3->pandas>=0.24->yfinance) (1.15.0)\n",
            "Building wheels for collected packages: yfinance\n",
            "  Building wheel for yfinance (setup.py) ... \u001b[?25l\u001b[?25hdone\n",
            "  Created wheel for yfinance: filename=yfinance-0.1.59-py2.py3-none-any.whl size=23442 sha256=59e9e36165f4446e388e4be2a6609eaf6e0e1c2623f43f9e427cfa2e851a9bea\n",
            "  Stored in directory: /root/.cache/pip/wheels/f8/2a/0f/4b5a86e1d52e451757eb6bc17fd899629f0925c777741b6d04\n",
            "Successfully built yfinance\n",
            "Installing collected packages: lxml, yfinance\n",
            "  Found existing installation: lxml 4.2.6\n",
            "    Uninstalling lxml-4.2.6:\n",
            "      Successfully uninstalled lxml-4.2.6\n",
            "Successfully installed lxml-4.6.3 yfinance-0.1.59\n"
          ],
          "name": "stdout"
        }
      ]
    },
    {
      "cell_type": "code",
      "metadata": {
        "colab": {
          "base_uri": "https://localhost:8080/"
        },
        "id": "0w9yfGkpJBb5",
        "outputId": "d35a168e-12d0-405d-9108-3ff7ed70bc47"
      },
      "source": [
        "date = \"2021-04-21\"\n",
        "testing_data_width=7\n",
        "today = datetime.now()\n",
        "d = timedelta(days = testing_data_width)\n",
        "testing_end = today - d\n",
        "#print(testing_end)\n",
        "df1 = yf.download(\"MSFT\", start=\"2020-12-30\", end=date , period = '1d')\n",
        "df2= yf.download(\"MSFT\", start=date, end=today , period = '1d')\n",
        "no_of_days=df2.shape[0]\n",
        "print(df1.shape)\n",
        "print(df2.shape)"
      ],
      "execution_count": 2,
      "outputs": [
        {
          "output_type": "stream",
          "text": [
            "[*********************100%***********************]  1 of 1 completed\n",
            "[*********************100%***********************]  1 of 1 completed\n",
            "(76, 6)\n",
            "(10, 6)\n"
          ],
          "name": "stdout"
        }
      ]
    },
    {
      "cell_type": "code",
      "metadata": {
        "colab": {
          "base_uri": "https://localhost:8080/",
          "height": 354
        },
        "id": "R7vbMZmCJEmh",
        "outputId": "c295d43f-d4ed-41e7-c548-8d5df3c1e439"
      },
      "source": [
        "print(df2.dtypes)\n",
        "df2.head()"
      ],
      "execution_count": 3,
      "outputs": [
        {
          "output_type": "stream",
          "text": [
            "Open         float64\n",
            "High         float64\n",
            "Low          float64\n",
            "Close        float64\n",
            "Adj Close    float64\n",
            "Volume         int64\n",
            "dtype: object\n"
          ],
          "name": "stdout"
        },
        {
          "output_type": "execute_result",
          "data": {
            "text/html": [
              "<div>\n",
              "<style scoped>\n",
              "    .dataframe tbody tr th:only-of-type {\n",
              "        vertical-align: middle;\n",
              "    }\n",
              "\n",
              "    .dataframe tbody tr th {\n",
              "        vertical-align: top;\n",
              "    }\n",
              "\n",
              "    .dataframe thead th {\n",
              "        text-align: right;\n",
              "    }\n",
              "</style>\n",
              "<table border=\"1\" class=\"dataframe\">\n",
              "  <thead>\n",
              "    <tr style=\"text-align: right;\">\n",
              "      <th></th>\n",
              "      <th>Open</th>\n",
              "      <th>High</th>\n",
              "      <th>Low</th>\n",
              "      <th>Close</th>\n",
              "      <th>Adj Close</th>\n",
              "      <th>Volume</th>\n",
              "    </tr>\n",
              "    <tr>\n",
              "      <th>Date</th>\n",
              "      <th></th>\n",
              "      <th></th>\n",
              "      <th></th>\n",
              "      <th></th>\n",
              "      <th></th>\n",
              "      <th></th>\n",
              "    </tr>\n",
              "  </thead>\n",
              "  <tbody>\n",
              "    <tr>\n",
              "      <th>2021-04-21</th>\n",
              "      <td>258.940002</td>\n",
              "      <td>260.679993</td>\n",
              "      <td>257.250000</td>\n",
              "      <td>260.579987</td>\n",
              "      <td>260.579987</td>\n",
              "      <td>24030400</td>\n",
              "    </tr>\n",
              "    <tr>\n",
              "      <th>2021-04-22</th>\n",
              "      <td>260.209991</td>\n",
              "      <td>261.779999</td>\n",
              "      <td>255.639999</td>\n",
              "      <td>257.170013</td>\n",
              "      <td>257.170013</td>\n",
              "      <td>25606200</td>\n",
              "    </tr>\n",
              "    <tr>\n",
              "      <th>2021-04-23</th>\n",
              "      <td>257.880005</td>\n",
              "      <td>261.510010</td>\n",
              "      <td>257.269989</td>\n",
              "      <td>261.149994</td>\n",
              "      <td>261.149994</td>\n",
              "      <td>21462600</td>\n",
              "    </tr>\n",
              "    <tr>\n",
              "      <th>2021-04-26</th>\n",
              "      <td>261.660004</td>\n",
              "      <td>262.440002</td>\n",
              "      <td>260.170013</td>\n",
              "      <td>261.549988</td>\n",
              "      <td>261.549988</td>\n",
              "      <td>19763300</td>\n",
              "    </tr>\n",
              "    <tr>\n",
              "      <th>2021-04-27</th>\n",
              "      <td>261.579987</td>\n",
              "      <td>263.190002</td>\n",
              "      <td>260.119995</td>\n",
              "      <td>261.970001</td>\n",
              "      <td>261.970001</td>\n",
              "      <td>31014200</td>\n",
              "    </tr>\n",
              "  </tbody>\n",
              "</table>\n",
              "</div>"
            ],
            "text/plain": [
              "                  Open        High  ...   Adj Close    Volume\n",
              "Date                                ...                      \n",
              "2021-04-21  258.940002  260.679993  ...  260.579987  24030400\n",
              "2021-04-22  260.209991  261.779999  ...  257.170013  25606200\n",
              "2021-04-23  257.880005  261.510010  ...  261.149994  21462600\n",
              "2021-04-26  261.660004  262.440002  ...  261.549988  19763300\n",
              "2021-04-27  261.579987  263.190002  ...  261.970001  31014200\n",
              "\n",
              "[5 rows x 6 columns]"
            ]
          },
          "metadata": {
            "tags": []
          },
          "execution_count": 3
        }
      ]
    },
    {
      "cell_type": "code",
      "metadata": {
        "id": "DWOOHNXmJF88"
      },
      "source": [
        "df1=df1.dropna()\n",
        "df2=df2.dropna()\n",
        "x_train = df1[['Open', \"High\",\"Low\",\"Volume\",\"Adj Close\"]]\n",
        "y_train = df1[['Close']]\n",
        "x_test = df2[['Open', \"High\",\"Low\",\"Volume\",\"Adj Close\"]]\n",
        "y_test = df2[['Close']]\n",
        "x_train_scaled = scaler.fit_transform(x_train)\n",
        "x_test_scaled = scaler.fit_transform(x_test)\n",
        "#x_test_scaled=x_test"
      ],
      "execution_count": 4,
      "outputs": []
    },
    {
      "cell_type": "code",
      "metadata": {
        "colab": {
          "base_uri": "https://localhost:8080/"
        },
        "id": "0lAH4P-sJIzz",
        "outputId": "9ef88207-6a74-4cbd-c4ab-ba873d5647e9"
      },
      "source": [
        "from sklearn.svm import SVR\n",
        "svm_clf=SVR(kernel='rbf')\n",
        "svm_clf.fit(x_train,y_train)"
      ],
      "execution_count": 6,
      "outputs": [
        {
          "output_type": "stream",
          "text": [
            "/usr/local/lib/python3.7/dist-packages/sklearn/utils/validation.py:760: DataConversionWarning: A column-vector y was passed when a 1d array was expected. Please change the shape of y to (n_samples, ), for example using ravel().\n",
            "  y = column_or_1d(y, warn=True)\n"
          ],
          "name": "stderr"
        },
        {
          "output_type": "execute_result",
          "data": {
            "text/plain": [
              "SVR(C=1.0, cache_size=200, coef0=0.0, degree=3, epsilon=0.1, gamma='scale',\n",
              "    kernel='rbf', max_iter=-1, shrinking=True, tol=0.001, verbose=False)"
            ]
          },
          "metadata": {
            "tags": []
          },
          "execution_count": 6
        }
      ]
    },
    {
      "cell_type": "code",
      "metadata": {
        "id": "Qgksa9TTJYxn"
      },
      "source": [
        "y_pred=svm_clf.predict(x_test)"
      ],
      "execution_count": 8,
      "outputs": []
    },
    {
      "cell_type": "code",
      "metadata": {
        "colab": {
          "base_uri": "https://localhost:8080/"
        },
        "id": "0iGSJhpgJiLK",
        "outputId": "746872d6-9e69-413b-f08a-646e4c8fe112"
      },
      "source": [
        "y_test_list = y_test.values.tolist()\n",
        "y_test_list = np.array(y_test_list)\n",
        "y_pred_list=y_pred.flatten()\n",
        "y_test_list=y_test_list.flatten()\n",
        "print(y_pred_list.shape)\n",
        "print(y_test_list.shape)"
      ],
      "execution_count": 9,
      "outputs": [
        {
          "output_type": "stream",
          "text": [
            "(10,)\n",
            "(10,)\n"
          ],
          "name": "stdout"
        }
      ]
    },
    {
      "cell_type": "code",
      "metadata": {
        "colab": {
          "base_uri": "https://localhost:8080/",
          "height": 282
        },
        "id": "G7NOJX32JlmS",
        "outputId": "5e7e7d93-be1e-46ad-ffa1-f86d54364360"
      },
      "source": [
        "plt.plot(y_pred_list)\n",
        "plt.plot(y_test_list)\n",
        "plt.legend([\"predicted\", \"real_value\"], loc =\"lower right\")"
      ],
      "execution_count": 10,
      "outputs": [
        {
          "output_type": "execute_result",
          "data": {
            "text/plain": [
              "<matplotlib.legend.Legend at 0x7fc27dcf6650>"
            ]
          },
          "metadata": {
            "tags": []
          },
          "execution_count": 10
        },
        {
          "output_type": "display_data",
          "data": {
            "image/png": "[encoded data removed]",
            "text/plain": [
              "<Figure size 432x288 with 1 Axes>"
            ]
          },
          "metadata": {
            "tags": [],
            "needs_background": "light"
          }
        }
      ]
    },
    {
      "cell_type": "code",
      "metadata": {
        "colab": {
          "base_uri": "https://localhost:8080/",
          "height": 285
        },
        "id": "MvxuTcZxJrqO",
        "outputId": "1ec2e0ea-44d4-4d15-85f7-ddd59f368c75"
      },
      "source": [
        "df1[\"Adj Close\"].plot()\n",
        "df2[\"Adj Close\"].plot()\n",
        "df2['forcast']=y_pred_list\n",
        "df2['forcast'].plot()\n",
        "plt.legend([\"Original\",\"Actual\",\"Forcast\"])\n",
        "plt.xlabel('Date')\n",
        "plt.ylabel('Price')\n",
        "plt.show()"
      ],
      "execution_count": 11,
      "outputs": [
        {
          "output_type": "display_data",
          "data": {
            "image/png": "[encoded data removed]",
            "text/plain": [
              "<Figure size 432x288 with 1 Axes>"
            ]
          },
          "metadata": {
            "tags": [],
            "needs_background": "light"
          }
        }
      ]
    }
  ]
}