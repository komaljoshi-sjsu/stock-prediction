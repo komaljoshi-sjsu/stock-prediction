{
  "nbformat": 4,
  "nbformat_minor": 0,
  "metadata": {
    "colab": {
      "name": "Futurestock.ipynb",
      "provenance": [],
      "collapsed_sections": []
    },
    "kernelspec": {
      "name": "python3",
      "display_name": "Python 3"
    },
    "language_info": {
      "name": "python"
    }
  },
  "cells": [
    {
      "cell_type": "code",
      "metadata": {
        "colab": {
          "base_uri": "https://localhost:8080/"
        },
        "id": "SfZek_VEsw77",
        "outputId": "3acc2c00-3de3-4fa7-83d5-e0693d79c094"
      },
      "source": [
        "import pandas as pd\n",
        "!pip3 install yfinance\n",
        "import numpy as np\n",
        "import yfinance as yf\n",
        "\n",
        "import matplotlib.pyplot as plt\n",
        "%matplotlib inline\n",
        "\n",
        "from matplotlib.pylab import rcParams\n",
        "rcParams['figure.figsize'] = 20,10"
      ],
      "execution_count": 1,
      "outputs": [
        {
          "output_type": "stream",
          "text": [
            "Collecting yfinance\n",
            "  Downloading https://files.pythonhosted.org/packages/a7/ee/315752b9ef281ba83c62aa7ec2e2074f85223da6e7e74efb4d3e11c0f510/yfinance-0.1.59.tar.gz\n",
            "Requirement already satisfied: pandas>=0.24 in /usr/local/lib/python3.7/dist-packages (from yfinance) (1.1.5)\n",
            "Requirement already satisfied: numpy>=1.15 in /usr/local/lib/python3.7/dist-packages (from yfinance) (1.19.5)\n",
            "Requirement already satisfied: requests>=2.20 in /usr/local/lib/python3.7/dist-packages (from yfinance) (2.23.0)\n",
            "Requirement already satisfied: multitasking>=0.0.7 in /usr/local/lib/python3.7/dist-packages (from yfinance) (0.0.9)\n",
            "Collecting lxml>=4.5.1\n",
            "\u001b[?25l  Downloading https://files.pythonhosted.org/packages/30/c0/d0526314971fc661b083ab135747dc68446a3022686da8c16d25fcf6ef07/lxml-4.6.3-cp37-cp37m-manylinux2014_x86_64.whl (6.3MB)\n",
            "\u001b[K     |████████████████████████████████| 6.3MB 7.5MB/s \n",
            "\u001b[?25hRequirement already satisfied: python-dateutil>=2.7.3 in /usr/local/lib/python3.7/dist-packages (from pandas>=0.24->yfinance) (2.8.1)\n",
            "Requirement already satisfied: pytz>=2017.2 in /usr/local/lib/python3.7/dist-packages (from pandas>=0.24->yfinance) (2018.9)\n",
            "Requirement already satisfied: idna<3,>=2.5 in /usr/local/lib/python3.7/dist-packages (from requests>=2.20->yfinance) (2.10)\n",
            "Requirement already satisfied: certifi>=2017.4.17 in /usr/local/lib/python3.7/dist-packages (from requests>=2.20->yfinance) (2020.12.5)\n",
            "Requirement already satisfied: chardet<4,>=3.0.2 in /usr/local/lib/python3.7/dist-packages (from requests>=2.20->yfinance) (3.0.4)\n",
            "Requirement already satisfied: urllib3!=1.25.0,!=1.25.1,<1.26,>=1.21.1 in /usr/local/lib/python3.7/dist-packages (from requests>=2.20->yfinance) (1.24.3)\n",
            "Requirement already satisfied: six>=1.5 in /usr/local/lib/python3.7/dist-packages (from python-dateutil>=2.7.3->pandas>=0.24->yfinance) (1.15.0)\n",
            "Building wheels for collected packages: yfinance\n",
            "  Building wheel for yfinance (setup.py) ... \u001b[?25l\u001b[?25hdone\n",
            "  Created wheel for yfinance: filename=yfinance-0.1.59-py2.py3-none-any.whl size=23442 sha256=ca077808150418c993f6ffcf4eb13e1026b22ba082982636715e6b9e9314a3a4\n",
            "  Stored in directory: /root/.cache/pip/wheels/f8/2a/0f/4b5a86e1d52e451757eb6bc17fd899629f0925c777741b6d04\n",
            "Successfully built yfinance\n",
            "Installing collected packages: lxml, yfinance\n",
            "  Found existing installation: lxml 4.2.6\n",
            "    Uninstalling lxml-4.2.6:\n",
            "      Successfully uninstalled lxml-4.2.6\n",
            "Successfully installed lxml-4.6.3 yfinance-0.1.59\n"
          ],
          "name": "stdout"
        }
      ]
    },
    {
      "cell_type": "code",
      "metadata": {
        "id": "VvqJZNzxszwY"
      },
      "source": [
        "msft = yf.Ticker(\"MSFT\")"
      ],
      "execution_count": 2,
      "outputs": []
    },
    {
      "cell_type": "code",
      "metadata": {
        "id": "WmFe5nXDs8jN"
      },
      "source": [
        "df = msft.history(period=\"max\")"
      ],
      "execution_count": 3,
      "outputs": []
    },
    {
      "cell_type": "code",
      "metadata": {
        "colab": {
          "base_uri": "https://localhost:8080/"
        },
        "id": "bMOcoVt2tFB7",
        "outputId": "afa3087e-13b3-41dd-b068-efb0541b36bf"
      },
      "source": [
        "print(df.head())"
      ],
      "execution_count": 4,
      "outputs": [
        {
          "output_type": "stream",
          "text": [
            "                Open      High       Low  ...      Volume  Dividends  Stock Splits\n",
            "Date                                      ...                                     \n",
            "1986-03-13  0.056238  0.064508  0.056238  ...  1031788800        0.0           0.0\n",
            "1986-03-14  0.061751  0.065059  0.061751  ...   308160000        0.0           0.0\n",
            "1986-03-17  0.063956  0.065610  0.063956  ...   133171200        0.0           0.0\n",
            "1986-03-18  0.065059  0.065610  0.062853  ...    67766400        0.0           0.0\n",
            "1986-03-19  0.063405  0.063956  0.061751  ...    47894400        0.0           0.0\n",
            "\n",
            "[5 rows x 7 columns]\n"
          ],
          "name": "stdout"
        }
      ]
    },
    {
      "cell_type": "code",
      "metadata": {
        "id": "4h3zeni-tHdh"
      },
      "source": [
        "df=df[['Close']]"
      ],
      "execution_count": 5,
      "outputs": []
    },
    {
      "cell_type": "code",
      "metadata": {
        "colab": {
          "base_uri": "https://localhost:8080/",
          "height": 450
        },
        "id": "ZFYzYrXotfqF",
        "outputId": "0456c309-22a7-4470-ebff-e4e5da1994ea"
      },
      "source": [
        "df"
      ],
      "execution_count": 6,
      "outputs": [
        {
          "output_type": "execute_result",
          "data": {
            "text/html": [
              "<div>\n",
              "<style scoped>\n",
              "    .dataframe tbody tr th:only-of-type {\n",
              "        vertical-align: middle;\n",
              "    }\n",
              "\n",
              "    .dataframe tbody tr th {\n",
              "        vertical-align: top;\n",
              "    }\n",
              "\n",
              "    .dataframe thead th {\n",
              "        text-align: right;\n",
              "    }\n",
              "</style>\n",
              "<table border=\"1\" class=\"dataframe\">\n",
              "  <thead>\n",
              "    <tr style=\"text-align: right;\">\n",
              "      <th></th>\n",
              "      <th>Close</th>\n",
              "    </tr>\n",
              "    <tr>\n",
              "      <th>Date</th>\n",
              "      <th></th>\n",
              "    </tr>\n",
              "  </thead>\n",
              "  <tbody>\n",
              "    <tr>\n",
              "      <th>1986-03-13</th>\n",
              "      <td>0.061751</td>\n",
              "    </tr>\n",
              "    <tr>\n",
              "      <th>1986-03-14</th>\n",
              "      <td>0.063956</td>\n",
              "    </tr>\n",
              "    <tr>\n",
              "      <th>1986-03-17</th>\n",
              "      <td>0.065059</td>\n",
              "    </tr>\n",
              "    <tr>\n",
              "      <th>1986-03-18</th>\n",
              "      <td>0.063405</td>\n",
              "    </tr>\n",
              "    <tr>\n",
              "      <th>1986-03-19</th>\n",
              "      <td>0.062302</td>\n",
              "    </tr>\n",
              "    <tr>\n",
              "      <th>...</th>\n",
              "      <td>...</td>\n",
              "    </tr>\n",
              "    <tr>\n",
              "      <th>2021-04-28</th>\n",
              "      <td>254.559998</td>\n",
              "    </tr>\n",
              "    <tr>\n",
              "      <th>2021-04-29</th>\n",
              "      <td>252.509995</td>\n",
              "    </tr>\n",
              "    <tr>\n",
              "      <th>2021-04-30</th>\n",
              "      <td>252.179993</td>\n",
              "    </tr>\n",
              "    <tr>\n",
              "      <th>2021-05-03</th>\n",
              "      <td>251.860001</td>\n",
              "    </tr>\n",
              "    <tr>\n",
              "      <th>2021-05-04</th>\n",
              "      <td>247.789993</td>\n",
              "    </tr>\n",
              "  </tbody>\n",
              "</table>\n",
              "<p>8858 rows × 1 columns</p>\n",
              "</div>"
            ],
            "text/plain": [
              "                 Close\n",
              "Date                  \n",
              "1986-03-13    0.061751\n",
              "1986-03-14    0.063956\n",
              "1986-03-17    0.065059\n",
              "1986-03-18    0.063405\n",
              "1986-03-19    0.062302\n",
              "...                ...\n",
              "2021-04-28  254.559998\n",
              "2021-04-29  252.509995\n",
              "2021-04-30  252.179993\n",
              "2021-05-03  251.860001\n",
              "2021-05-04  247.789993\n",
              "\n",
              "[8858 rows x 1 columns]"
            ]
          },
          "metadata": {
            "tags": []
          },
          "execution_count": 6
        }
      ]
    },
    {
      "cell_type": "code",
      "metadata": {
        "colab": {
          "base_uri": "https://localhost:8080/"
        },
        "id": "ZFrii6PJtlB3",
        "outputId": "4152dd0e-c817-47a6-e1ba-97f873c6fc32"
      },
      "source": [
        "# A variable for predicting 'n' days out into the future\n",
        "forecast_out = 30\n",
        "#Create another column (the target ) shifted 'n' units up\n",
        "df['Prediction'] = df[['Close']].shift(-forecast_out)\n",
        "#print the new data set\n",
        "print(df.tail())"
      ],
      "execution_count": 7,
      "outputs": [
        {
          "output_type": "stream",
          "text": [
            "                 Close  Prediction\n",
            "Date                              \n",
            "2021-04-28  254.559998         NaN\n",
            "2021-04-29  252.509995         NaN\n",
            "2021-04-30  252.179993         NaN\n",
            "2021-05-03  251.860001         NaN\n",
            "2021-05-04  247.789993         NaN\n"
          ],
          "name": "stdout"
        }
      ]
    },
    {
      "cell_type": "code",
      "metadata": {
        "colab": {
          "base_uri": "https://localhost:8080/"
        },
        "id": "lOHybO0Rtp9f",
        "outputId": "accc4c41-dd31-42fe-dbef-7aa2bb1013dc"
      },
      "source": [
        "\n",
        "X = np.array(df.drop(['Prediction'],1))\n",
        "\n",
        "\n",
        "X = X[:-forecast_out]\n",
        "print(X)"
      ],
      "execution_count": 8,
      "outputs": [
        {
          "output_type": "stream",
          "text": [
            "[[6.17506094e-02]\n",
            " [6.39558807e-02]\n",
            " [6.50591105e-02]\n",
            " ...\n",
            " [2.30720001e+02]\n",
            " [2.30350006e+02]\n",
            " [2.35990005e+02]]\n"
          ],
          "name": "stdout"
        }
      ]
    },
    {
      "cell_type": "code",
      "metadata": {
        "colab": {
          "base_uri": "https://localhost:8080/"
        },
        "id": "LqQRKJOdtuQO",
        "outputId": "7771286b-37e9-43b8-9b50-e2d87fe8b9fc"
      },
      "source": [
        "\n",
        "y = np.array(df['Prediction'])\n",
        "\n",
        "y = y[:-forecast_out]\n",
        "print(y)"
      ],
      "execution_count": 9,
      "outputs": [
        {
          "output_type": "stream",
          "text": [
            "[7.44320378e-02 7.49833658e-02 7.27774575e-02 ... 2.52179993e+02\n",
            " 2.51860001e+02 2.47789993e+02]\n"
          ],
          "name": "stdout"
        }
      ]
    },
    {
      "cell_type": "code",
      "metadata": {
        "id": "6mqx3WqLt251"
      },
      "source": [
        "from sklearn.svm import SVR\n",
        "from sklearn.model_selection import train_test_split"
      ],
      "execution_count": 10,
      "outputs": []
    },
    {
      "cell_type": "code",
      "metadata": {
        "id": "rN5DOpm4twKN"
      },
      "source": [
        "\n",
        "x_train, x_test, y_train, y_test = train_test_split(X, y, test_size=0.2)"
      ],
      "execution_count": 11,
      "outputs": []
    },
    {
      "cell_type": "code",
      "metadata": {
        "colab": {
          "base_uri": "https://localhost:8080/"
        },
        "id": "GFW91r7ft4pp",
        "outputId": "ed9fa222-1aca-41c2-e523-fbe92ad4749a"
      },
      "source": [
        "#  Support Vector Machine (Regressor) \n",
        "svr_rbf = SVR(kernel='rbf', C=1e3, gamma=0.1) \n",
        "svr_rbf.fit(x_train, y_train)"
      ],
      "execution_count": 12,
      "outputs": [
        {
          "output_type": "execute_result",
          "data": {
            "text/plain": [
              "SVR(C=1000.0, cache_size=200, coef0=0.0, degree=3, epsilon=0.1, gamma=0.1,\n",
              "    kernel='rbf', max_iter=-1, shrinking=True, tol=0.001, verbose=False)"
            ]
          },
          "metadata": {
            "tags": []
          },
          "execution_count": 12
        }
      ]
    },
    {
      "cell_type": "code",
      "metadata": {
        "colab": {
          "base_uri": "https://localhost:8080/"
        },
        "id": "eRtQBqOZt8Ne",
        "outputId": "a6acb2a6-2fda-4518-abf1-a729bdeebd67"
      },
      "source": [
        "\n",
        "svm_confidence = svr_rbf.score(x_test, y_test)\n",
        "print(\"svm confidence: \", svm_confidence)"
      ],
      "execution_count": 13,
      "outputs": [
        {
          "output_type": "stream",
          "text": [
            "svm confidence:  0.9936500371533601\n"
          ],
          "name": "stdout"
        }
      ]
    },
    {
      "cell_type": "code",
      "metadata": {
        "colab": {
          "base_uri": "https://localhost:8080/"
        },
        "id": "tRA39kR7uIIk",
        "outputId": "e0289566-881a-466c-ab4f-a3c7871a4bd7"
      },
      "source": [
        "\n",
        "x_forecast = np.array(df.drop(['Prediction'],1))[-forecast_out:]\n",
        "print(x_forecast)"
      ],
      "execution_count": 14,
      "outputs": [
        {
          "output_type": "stream",
          "text": [
            "[[237.58000183]\n",
            " [235.46000671]\n",
            " [232.33999634]\n",
            " [236.47999573]\n",
            " [235.24000549]\n",
            " [231.8500061 ]\n",
            " [235.77000427]\n",
            " [242.3500061 ]\n",
            " [249.07000732]\n",
            " [247.86000061]\n",
            " [249.8999939 ]\n",
            " [253.25      ]\n",
            " [255.8500061 ]\n",
            " [255.91000366]\n",
            " [258.48999023]\n",
            " [255.58999634]\n",
            " [259.5       ]\n",
            " [260.73999023]\n",
            " [258.73999023]\n",
            " [258.26000977]\n",
            " [260.57998657]\n",
            " [257.17001343]\n",
            " [261.1499939 ]\n",
            " [261.54998779]\n",
            " [261.97000122]\n",
            " [254.55999756]\n",
            " [252.50999451]\n",
            " [252.17999268]\n",
            " [251.86000061]\n",
            " [247.78999329]]\n"
          ],
          "name": "stdout"
        }
      ]
    },
    {
      "cell_type": "code",
      "metadata": {
        "colab": {
          "base_uri": "https://localhost:8080/"
        },
        "id": "nkzJTKzouDlI",
        "outputId": "d94c8013-4b3f-4b6a-cd83-bb82155432f2"
      },
      "source": [
        "\n",
        "svm_prediction = svr_rbf.predict(x_forecast)\n",
        "print(svm_prediction)"
      ],
      "execution_count": 15,
      "outputs": [
        {
          "output_type": "stream",
          "text": [
            "[249.68605461 252.09587325 255.88045615 253.40285408 252.01402254\n",
            " 254.01181076 252.47696579 232.64580231 139.14553868 159.21225122\n",
            " 132.46224821 127.64487936 127.60754577 127.60752009 127.60734304\n",
            " 127.60770474 127.60734278 127.60734276 127.6073429  127.60734328\n",
            " 127.60734276 127.60735162 127.60734276 127.60734276 127.60734276\n",
            " 127.61050577 127.7392942  127.83100192 127.97320744 160.79617582]\n"
          ],
          "name": "stdout"
        }
      ]
    },
    {
      "cell_type": "code",
      "metadata": {
        "colab": {
          "base_uri": "https://localhost:8080/"
        },
        "id": "ognpPWGMWfpu",
        "outputId": "33740b3d-1c9b-4600-a7db-aa6a9e853a79"
      },
      "source": [
        "type(x_test)"
      ],
      "execution_count": 16,
      "outputs": [
        {
          "output_type": "execute_result",
          "data": {
            "text/plain": [
              "numpy.ndarray"
            ]
          },
          "metadata": {
            "tags": []
          },
          "execution_count": 16
        }
      ]
    },
    {
      "cell_type": "code",
      "metadata": {
        "id": "G3pL8K4jEKcs"
      },
      "source": [
        "svm_prediction=pd.DataFrame(svm_prediction)"
      ],
      "execution_count": 17,
      "outputs": []
    },
    {
      "cell_type": "code",
      "metadata": {
        "id": "A6WK1TINVw2_"
      },
      "source": [
        "import matplotlib.pyplot as plt\n",
        "%matplotlib inline"
      ],
      "execution_count": 18,
      "outputs": []
    },
    {
      "cell_type": "code",
      "metadata": {
        "colab": {
          "base_uri": "https://localhost:8080/",
          "height": 393
        },
        "id": "FSQBymK4E7Zl",
        "outputId": "270b8726-e965-4341-be29-920b4b3ed138"
      },
      "source": [
        "plt.figure(figsize = (12,6))\n",
        "plt.plot(df[\"Close\"])\n",
        "\n",
        "plt.xlabel('Date',fontsize=15)\n",
        "plt.ylabel('Close Price',fontsize=15)\n",
        "plt.show()"
      ],
      "execution_count": 19,
      "outputs": [
        {
          "output_type": "display_data",
          "data": {
            "image/png": "[encoded data removed]",
            "text/plain": [
              "<Figure size 864x432 with 1 Axes>"
            ]
          },
          "metadata": {
            "tags": [],
            "needs_background": "light"
          }
        }
      ]
    },
    {
      "cell_type": "code",
      "metadata": {
        "id": "wfiH47T_09Eu"
      },
      "source": [
        "# plt.figure(figsize = (12,6))\n",
        "# plt.plot(svm_prediction)\n",
        "# plt.xlabel('Date',fontsize=15)\n",
        "# plt.ylabel('Close Price',fontsize=15)\n",
        "# plt.show()"
      ],
      "execution_count": 20,
      "outputs": []
    },
    {
      "cell_type": "code",
      "metadata": {
        "colab": {
          "base_uri": "https://localhost:8080/",
          "height": 384
        },
        "id": "FjLf4Iah17ri",
        "outputId": "b0d9f479-1c90-4c40-9ec1-e9fd4d2e0371"
      },
      "source": [
        "# Rolling mean\n",
        "close_px = df['Close']\n",
        "mavg = close_px.rolling(window=100).mean()\n",
        "\n",
        "plt.figure(figsize = (12,6))\n",
        "close_px.plot(label='MSFT')\n",
        "mavg.plot(label='mavg')\n",
        "plt.xlabel('Date')\n",
        "plt.ylabel('Price')\n",
        "plt.legend()"
      ],
      "execution_count": 21,
      "outputs": [
        {
          "output_type": "execute_result",
          "data": {
            "text/plain": [
              "<matplotlib.legend.Legend at 0x7f7ca51b7790>"
            ]
          },
          "metadata": {
            "tags": []
          },
          "execution_count": 21
        },
        {
          "output_type": "display_data",
          "data": {
            "image/png": "[encoded data removed]",
            "text/plain": [
              "<Figure size 864x432 with 1 Axes>"
            ]
          },
          "metadata": {
            "tags": [],
            "needs_background": "light"
          }
        }
      ]
    },
    {
      "cell_type": "code",
      "metadata": {
        "id": "XNCN8KHR2Vy5"
      },
      "source": [
        "\n",
        "# # Use sklearn support vector regression to predicit our data:\n",
        "# from sklearn.svm import SVR\n",
        "\n",
        "# dates = dates_df['Date'].as_matrix()\n",
        "# prices = df['Close'].as_matrix()\n",
        "\n",
        "# #Convert to 1d Vector\n",
        "# dates = np.reshape(dates, (len(dates), 1))\n",
        "# prices = np.reshape(prices, (len(prices), 1))\n",
        "\n",
        "# svr_rbf = SVR(kernel= 'rbf', C= 1e3, gamma= 0.1)\n",
        "# svr_rbf.fit(dates, prices)\n",
        "\n",
        "# plt.figure(figsize = (12,6))\n",
        "# plt.plot(dates, prices, color= 'black', label= 'Data')\n",
        "# plt.plot(org_dates, svr_rbf.predict(dates), color= 'red', label= 'RBF model') \n",
        "# plt.xlabel('Date')\n",
        "# plt.ylabel('Price')\n",
        "# plt.legend()\n",
        "# plt.show()"
      ],
      "execution_count": 22,
      "outputs": []
    },
    {
      "cell_type": "code",
      "metadata": {
        "id": "STUD5_iF1R9R",
        "colab": {
          "base_uri": "https://localhost:8080/",
          "height": 204
        },
        "outputId": "7da2ba56-2294-4283-ffed-5b3d9f8664c3"
      },
      "source": [
        "import matplotlib.dates as mdates\n",
        "\n",
        "# change the dates into ints for training \n",
        "dates_df = df.copy()\n",
        "dates_df = dates_df.reset_index()\n",
        "\n",
        "# Store the original dates for plotting the predicitons\n",
        "org_dates = dates_df['Date']\n",
        "\n",
        "# convert to ints\n",
        "dates_df['Date'] = dates_df['Date'].map(mdates.date2num)\n",
        "\n",
        "dates_df.tail()"
      ],
      "execution_count": 23,
      "outputs": [
        {
          "output_type": "execute_result",
          "data": {
            "text/html": [
              "<div>\n",
              "<style scoped>\n",
              "    .dataframe tbody tr th:only-of-type {\n",
              "        vertical-align: middle;\n",
              "    }\n",
              "\n",
              "    .dataframe tbody tr th {\n",
              "        vertical-align: top;\n",
              "    }\n",
              "\n",
              "    .dataframe thead th {\n",
              "        text-align: right;\n",
              "    }\n",
              "</style>\n",
              "<table border=\"1\" class=\"dataframe\">\n",
              "  <thead>\n",
              "    <tr style=\"text-align: right;\">\n",
              "      <th></th>\n",
              "      <th>Date</th>\n",
              "      <th>Close</th>\n",
              "      <th>Prediction</th>\n",
              "    </tr>\n",
              "  </thead>\n",
              "  <tbody>\n",
              "    <tr>\n",
              "      <th>8853</th>\n",
              "      <td>737908.0</td>\n",
              "      <td>254.559998</td>\n",
              "      <td>NaN</td>\n",
              "    </tr>\n",
              "    <tr>\n",
              "      <th>8854</th>\n",
              "      <td>737909.0</td>\n",
              "      <td>252.509995</td>\n",
              "      <td>NaN</td>\n",
              "    </tr>\n",
              "    <tr>\n",
              "      <th>8855</th>\n",
              "      <td>737910.0</td>\n",
              "      <td>252.179993</td>\n",
              "      <td>NaN</td>\n",
              "    </tr>\n",
              "    <tr>\n",
              "      <th>8856</th>\n",
              "      <td>737913.0</td>\n",
              "      <td>251.860001</td>\n",
              "      <td>NaN</td>\n",
              "    </tr>\n",
              "    <tr>\n",
              "      <th>8857</th>\n",
              "      <td>737914.0</td>\n",
              "      <td>247.789993</td>\n",
              "      <td>NaN</td>\n",
              "    </tr>\n",
              "  </tbody>\n",
              "</table>\n",
              "</div>"
            ],
            "text/plain": [
              "          Date       Close  Prediction\n",
              "8853  737908.0  254.559998         NaN\n",
              "8854  737909.0  252.509995         NaN\n",
              "8855  737910.0  252.179993         NaN\n",
              "8856  737913.0  251.860001         NaN\n",
              "8857  737914.0  247.789993         NaN"
            ]
          },
          "metadata": {
            "tags": []
          },
          "execution_count": 23
        }
      ]
    }
  ]
}