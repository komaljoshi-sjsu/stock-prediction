{
  "nbformat": 4,
  "nbformat_minor": 0,
  "metadata": {
    "colab": {
      "name": "knn.ipynb",
      "provenance": [],
      "collapsed_sections": []
    },
    "kernelspec": {
      "name": "python3",
      "display_name": "Python 3"
    },
    "language_info": {
      "name": "python"
    }
  },
  "cells": [
    {
      "cell_type": "code",
      "metadata": {
        "colab": {
          "base_uri": "https://localhost:8080/"
        },
        "id": "VulA-86IZwar",
        "outputId": "f05c9ce0-2742-4d72-b8ea-33166fa6e9a9"
      },
      "source": [
        "import pandas as pd\n",
        "import numpy as np\n",
        "#!pip3 install yfinance\n",
        "import yfinance as yf\n",
        "\n",
        "import matplotlib.pyplot as plt\n",
        "%matplotlib inline\n",
        "\n",
        "from matplotlib.pylab import rcParams\n",
        "rcParams['figure.figsize'] = 20,10\n",
        "\n",
        "from sklearn.preprocessing import MinMaxScaler\n",
        "scaler = MinMaxScaler(feature_range=(0, 1))\n",
        "\n",
        "tickers=[\"AAPL\",\"CSCO\",\"MSFT\", \"SBUX\"]\n",
        "li=[]\n",
        "val=1\n",
        "for f in tickers: \n",
        "  df = yf.download(f, start=\"2010-12-30\", end=\"2020-12-30\" , period = '1d')\n",
        "  df.insert(df.shape[1],\"Comp_ID\",val,True)\n",
        "  print(df.shape)\n",
        "  df=df[['Volume','Open','High','Low','Comp_ID','Adj Close','Close']]\n",
        "  li.append(df)\n",
        "  val+=1\n",
        "frame = pd.concat(li, axis=0, ignore_index=True)  \n",
        "print(frame.shape)\n"
      ],
      "execution_count": null,
      "outputs": [
        {
          "output_type": "stream",
          "text": [
            "Requirement already satisfied: yfinance in /usr/local/lib/python3.7/dist-packages (0.1.59)\n",
            "Requirement already satisfied: numpy>=1.15 in /usr/local/lib/python3.7/dist-packages (from yfinance) (1.19.5)\n",
            "Requirement already satisfied: multitasking>=0.0.7 in /usr/local/lib/python3.7/dist-packages (from yfinance) (0.0.9)\n",
            "Requirement already satisfied: requests>=2.20 in /usr/local/lib/python3.7/dist-packages (from yfinance) (2.23.0)\n",
            "Requirement already satisfied: pandas>=0.24 in /usr/local/lib/python3.7/dist-packages (from yfinance) (1.1.5)\n",
            "Requirement already satisfied: lxml>=4.5.1 in /usr/local/lib/python3.7/dist-packages (from yfinance) (4.6.3)\n",
            "Requirement already satisfied: idna<3,>=2.5 in /usr/local/lib/python3.7/dist-packages (from requests>=2.20->yfinance) (2.10)\n",
            "Requirement already satisfied: chardet<4,>=3.0.2 in /usr/local/lib/python3.7/dist-packages (from requests>=2.20->yfinance) (3.0.4)\n",
            "Requirement already satisfied: certifi>=2017.4.17 in /usr/local/lib/python3.7/dist-packages (from requests>=2.20->yfinance) (2020.12.5)\n",
            "Requirement already satisfied: urllib3!=1.25.0,!=1.25.1,<1.26,>=1.21.1 in /usr/local/lib/python3.7/dist-packages (from requests>=2.20->yfinance) (1.24.3)\n",
            "Requirement already satisfied: python-dateutil>=2.7.3 in /usr/local/lib/python3.7/dist-packages (from pandas>=0.24->yfinance) (2.8.1)\n",
            "Requirement already satisfied: pytz>=2017.2 in /usr/local/lib/python3.7/dist-packages (from pandas>=0.24->yfinance) (2018.9)\n",
            "Requirement already satisfied: six>=1.5 in /usr/local/lib/python3.7/dist-packages (from python-dateutil>=2.7.3->pandas>=0.24->yfinance) (1.15.0)\n",
            "[*********************100%***********************]  1 of 1 completed\n",
            "(2517, 7)\n",
            "[*********************100%***********************]  1 of 1 completed\n",
            "(2517, 7)\n",
            "[*********************100%***********************]  1 of 1 completed\n",
            "(2517, 7)\n",
            "[*********************100%***********************]  1 of 1 completed\n",
            "(2517, 7)\n",
            "(10068, 7)\n"
          ],
          "name": "stdout"
        }
      ]
    },
    {
      "cell_type": "code",
      "metadata": {
        "id": "3r53LTZxKotN",
        "colab": {
          "base_uri": "https://localhost:8080/"
        },
        "outputId": "4e8fe0ef-0d73-479f-81bf-5c6b7d07491f"
      },
      "source": [
        "# print(type(frame.iloc[[0],[1]]))\n",
        "# frame['Date'] = pd.to_datetime(frame['Date'], format=\"%m/%d/%Y\")\n",
        "print(frame.dtypes)"
      ],
      "execution_count": null,
      "outputs": [
        {
          "output_type": "stream",
          "text": [
            "Volume         int64\n",
            "Open         float64\n",
            "High         float64\n",
            "Low          float64\n",
            "Comp_ID        int64\n",
            "Adj Close    float64\n",
            "Close        float64\n",
            "dtype: object\n"
          ],
          "name": "stdout"
        }
      ]
    },
    {
      "cell_type": "code",
      "metadata": {
        "colab": {
          "base_uri": "https://localhost:8080/"
        },
        "id": "s9ep6ZZGdWBx",
        "outputId": "6f8c330e-37fe-4454-8552-83db7abe9f24"
      },
      "source": [
        "# print(frame.dtypes)\n",
        "# frame['Close/Last'] = frame['Close/Last'].astype('str')\n",
        "# frame['Open'] = frame['Open'].astype('str')\n",
        "# frame['High'] = frame['High'].astype('str')\n",
        "# frame['Low'] = frame['Low'].astype('str')\n",
        "# #frame['Close/Last'] = frame['Close/Last'].str.split('$')[1]\n",
        "# for i in range(frame.shape[0]):\n",
        "#   s=frame.iloc[i,1]\n",
        "#   s=s.split('$')\n",
        "#   frame.iloc[i,1]=s[1]\n",
        "\n",
        "#   s=frame.iloc[i,3]\n",
        "#   s=s.split('$')\n",
        "#   frame.iloc[i,3]=s[1]\n",
        "\n",
        "#   s=frame.iloc[i,4]\n",
        "#   s=s.split('$')\n",
        "#   frame.iloc[i,4]=s[1]\n",
        "\n",
        "#   s=frame.iloc[i,5]\n",
        "#   s=s.split('$')\n",
        "#   frame.iloc[i,5]=s[1]\n"
      ],
      "execution_count": null,
      "outputs": [
        {
          "output_type": "stream",
          "text": [
            "Date          datetime64[ns]\n",
            "Close/Last            object\n",
            "Volume                 int64\n",
            "Open                  object\n",
            "High                  object\n",
            "Low                   object\n",
            "Comp_ID                int64\n",
            "dtype: object\n"
          ],
          "name": "stdout"
        }
      ]
    },
    {
      "cell_type": "code",
      "metadata": {
        "id": "vjaUimTsddSR"
      },
      "source": [
        "# frame.iloc[[0],[0]]\n",
        "# plt.figure(figsize=(16,8))\n",
        "# frame.plot(x ='Date', y='Close/Last' , kind = 'scatter')"
      ],
      "execution_count": null,
      "outputs": []
    },
    {
      "cell_type": "code",
      "metadata": {
        "colab": {
          "base_uri": "https://localhost:8080/",
          "height": 203
        },
        "id": "StR5MmQHBIJC",
        "outputId": "c4528782-9dff-463b-a167-eeaf32e16056"
      },
      "source": [
        "frame.tail()"
      ],
      "execution_count": null,
      "outputs": [
        {
          "output_type": "execute_result",
          "data": {
            "text/html": [
              "<div>\n",
              "<style scoped>\n",
              "    .dataframe tbody tr th:only-of-type {\n",
              "        vertical-align: middle;\n",
              "    }\n",
              "\n",
              "    .dataframe tbody tr th {\n",
              "        vertical-align: top;\n",
              "    }\n",
              "\n",
              "    .dataframe thead th {\n",
              "        text-align: right;\n",
              "    }\n",
              "</style>\n",
              "<table border=\"1\" class=\"dataframe\">\n",
              "  <thead>\n",
              "    <tr style=\"text-align: right;\">\n",
              "      <th></th>\n",
              "      <th>Volume</th>\n",
              "      <th>Open</th>\n",
              "      <th>High</th>\n",
              "      <th>Low</th>\n",
              "      <th>Comp_ID</th>\n",
              "      <th>Adj Close</th>\n",
              "      <th>Close</th>\n",
              "    </tr>\n",
              "  </thead>\n",
              "  <tbody>\n",
              "    <tr>\n",
              "      <th>10063</th>\n",
              "      <td>4302700</td>\n",
              "      <td>102.120003</td>\n",
              "      <td>103.169998</td>\n",
              "      <td>101.889999</td>\n",
              "      <td>4</td>\n",
              "      <td>101.975861</td>\n",
              "      <td>102.410004</td>\n",
              "    </tr>\n",
              "    <tr>\n",
              "      <th>10064</th>\n",
              "      <td>3817300</td>\n",
              "      <td>102.290001</td>\n",
              "      <td>102.690002</td>\n",
              "      <td>101.970001</td>\n",
              "      <td>4</td>\n",
              "      <td>101.627342</td>\n",
              "      <td>102.059998</td>\n",
              "    </tr>\n",
              "    <tr>\n",
              "      <th>10065</th>\n",
              "      <td>1949200</td>\n",
              "      <td>102.300003</td>\n",
              "      <td>102.360001</td>\n",
              "      <td>101.680000</td>\n",
              "      <td>4</td>\n",
              "      <td>101.577553</td>\n",
              "      <td>102.010002</td>\n",
              "    </tr>\n",
              "    <tr>\n",
              "      <th>10066</th>\n",
              "      <td>5055200</td>\n",
              "      <td>102.919998</td>\n",
              "      <td>104.379997</td>\n",
              "      <td>102.309998</td>\n",
              "      <td>4</td>\n",
              "      <td>103.897675</td>\n",
              "      <td>104.339996</td>\n",
              "    </tr>\n",
              "    <tr>\n",
              "      <th>10067</th>\n",
              "      <td>4780900</td>\n",
              "      <td>104.889999</td>\n",
              "      <td>105.779999</td>\n",
              "      <td>104.470001</td>\n",
              "      <td>4</td>\n",
              "      <td>105.182205</td>\n",
              "      <td>105.629997</td>\n",
              "    </tr>\n",
              "  </tbody>\n",
              "</table>\n",
              "</div>"
            ],
            "text/plain": [
              "        Volume        Open        High  ...  Comp_ID   Adj Close       Close\n",
              "10063  4302700  102.120003  103.169998  ...        4  101.975861  102.410004\n",
              "10064  3817300  102.290001  102.690002  ...        4  101.627342  102.059998\n",
              "10065  1949200  102.300003  102.360001  ...        4  101.577553  102.010002\n",
              "10066  5055200  102.919998  104.379997  ...        4  103.897675  104.339996\n",
              "10067  4780900  104.889999  105.779999  ...        4  105.182205  105.629997\n",
              "\n",
              "[5 rows x 7 columns]"
            ]
          },
          "metadata": {
            "tags": []
          },
          "execution_count": 6
        }
      ]
    },
    {
      "cell_type": "code",
      "metadata": {
        "colab": {
          "base_uri": "https://localhost:8080/",
          "height": 432
        },
        "id": "wIkqgGxEzfWt",
        "outputId": "36fa4e55-4270-4e84-bae8-e91c1f52beba"
      },
      "source": [
        "print(frame.dtypes)\n",
        "frame.describe()"
      ],
      "execution_count": null,
      "outputs": [
        {
          "output_type": "stream",
          "text": [
            "Volume         int64\n",
            "Open         float64\n",
            "High         float64\n",
            "Low          float64\n",
            "Comp_ID        int64\n",
            "Adj Close    float64\n",
            "Close        float64\n",
            "dtype: object\n"
          ],
          "name": "stdout"
        },
        {
          "output_type": "execute_result",
          "data": {
            "text/html": [
              "<div>\n",
              "<style scoped>\n",
              "    .dataframe tbody tr th:only-of-type {\n",
              "        vertical-align: middle;\n",
              "    }\n",
              "\n",
              "    .dataframe tbody tr th {\n",
              "        vertical-align: top;\n",
              "    }\n",
              "\n",
              "    .dataframe thead th {\n",
              "        text-align: right;\n",
              "    }\n",
              "</style>\n",
              "<table border=\"1\" class=\"dataframe\">\n",
              "  <thead>\n",
              "    <tr style=\"text-align: right;\">\n",
              "      <th></th>\n",
              "      <th>Volume</th>\n",
              "      <th>Open</th>\n",
              "      <th>High</th>\n",
              "      <th>Low</th>\n",
              "      <th>Comp_ID</th>\n",
              "      <th>Adj Close</th>\n",
              "      <th>Close</th>\n",
              "    </tr>\n",
              "  </thead>\n",
              "  <tbody>\n",
              "    <tr>\n",
              "      <th>count</th>\n",
              "      <td>1.006800e+04</td>\n",
              "      <td>10068.000000</td>\n",
              "      <td>10068.000000</td>\n",
              "      <td>10068.000000</td>\n",
              "      <td>10068.00000</td>\n",
              "      <td>10068.000000</td>\n",
              "      <td>10068.000000</td>\n",
              "    </tr>\n",
              "    <tr>\n",
              "      <th>mean</th>\n",
              "      <td>8.394402e+07</td>\n",
              "      <td>47.600267</td>\n",
              "      <td>48.050560</td>\n",
              "      <td>47.140885</td>\n",
              "      <td>2.50000</td>\n",
              "      <td>44.285495</td>\n",
              "      <td>47.615941</td>\n",
              "    </tr>\n",
              "    <tr>\n",
              "      <th>std</th>\n",
              "      <td>1.420694e+08</td>\n",
              "      <td>35.032814</td>\n",
              "      <td>35.419424</td>\n",
              "      <td>34.622554</td>\n",
              "      <td>1.11809</td>\n",
              "      <td>35.520284</td>\n",
              "      <td>35.042800</td>\n",
              "    </tr>\n",
              "    <tr>\n",
              "      <th>min</th>\n",
              "      <td>1.847800e+06</td>\n",
              "      <td>11.310000</td>\n",
              "      <td>11.346429</td>\n",
              "      <td>11.089286</td>\n",
              "      <td>1.00000</td>\n",
              "      <td>9.700181</td>\n",
              "      <td>11.261429</td>\n",
              "    </tr>\n",
              "    <tr>\n",
              "      <th>25%</th>\n",
              "      <td>1.581008e+07</td>\n",
              "      <td>25.591876</td>\n",
              "      <td>25.823750</td>\n",
              "      <td>25.360001</td>\n",
              "      <td>1.75000</td>\n",
              "      <td>21.812246</td>\n",
              "      <td>25.590000</td>\n",
              "    </tr>\n",
              "    <tr>\n",
              "      <th>50%</th>\n",
              "      <td>2.943905e+07</td>\n",
              "      <td>38.000000</td>\n",
              "      <td>38.427500</td>\n",
              "      <td>37.612499</td>\n",
              "      <td>2.50000</td>\n",
              "      <td>34.216980</td>\n",
              "      <td>38.039999</td>\n",
              "    </tr>\n",
              "    <tr>\n",
              "      <th>75%</th>\n",
              "      <td>8.051918e+07</td>\n",
              "      <td>56.352499</td>\n",
              "      <td>56.770000</td>\n",
              "      <td>55.822500</td>\n",
              "      <td>3.25000</td>\n",
              "      <td>52.440224</td>\n",
              "      <td>56.312501</td>\n",
              "    </tr>\n",
              "    <tr>\n",
              "      <th>max</th>\n",
              "      <td>1.880998e+09</td>\n",
              "      <td>229.270004</td>\n",
              "      <td>232.860001</td>\n",
              "      <td>227.350006</td>\n",
              "      <td>4.00000</td>\n",
              "      <td>230.514191</td>\n",
              "      <td>231.649994</td>\n",
              "    </tr>\n",
              "  </tbody>\n",
              "</table>\n",
              "</div>"
            ],
            "text/plain": [
              "             Volume          Open  ...     Adj Close         Close\n",
              "count  1.006800e+04  10068.000000  ...  10068.000000  10068.000000\n",
              "mean   8.394402e+07     47.600267  ...     44.285495     47.615941\n",
              "std    1.420694e+08     35.032814  ...     35.520284     35.042800\n",
              "min    1.847800e+06     11.310000  ...      9.700181     11.261429\n",
              "25%    1.581008e+07     25.591876  ...     21.812246     25.590000\n",
              "50%    2.943905e+07     38.000000  ...     34.216980     38.039999\n",
              "75%    8.051918e+07     56.352499  ...     52.440224     56.312501\n",
              "max    1.880998e+09    229.270004  ...    230.514191    231.649994\n",
              "\n",
              "[8 rows x 7 columns]"
            ]
          },
          "metadata": {
            "tags": []
          },
          "execution_count": 7
        }
      ]
    },
    {
      "cell_type": "code",
      "metadata": {
        "id": "rZ_YJprwz76k"
      },
      "source": [
        "# frame[\"Close/Last\"]=pd.to_numeric(frame[\"Close/Last\"])\n",
        "# frame[\"Open\"]=pd.to_numeric(frame[\"Open\"])\n",
        "# frame[\"High\"]=pd.to_numeric(frame[\"High\"])\n",
        "# frame[\"Low\"]=pd.to_numeric(frame[\"Low\"])\n",
        "# print(frame.dtypes)"
      ],
      "execution_count": null,
      "outputs": []
    },
    {
      "cell_type": "code",
      "metadata": {
        "id": "dhBwazHZ1gab"
      },
      "source": [
        "# from datetime import datetime\n",
        "# start_date , end_date = \"2013-01-01\" , \"2021-04-25\"\n",
        "# start_date = datetime.strptime(start_date, '%Y-%m-%d')\n",
        "# end_date = datetime.strptime(end_date, '%Y-%m-%d')\n",
        "\n",
        "\n",
        "# mask = (frame['Date'] > start_date) & (frame['Date'] <= end_date)\n",
        "# print(len(mask))"
      ],
      "execution_count": null,
      "outputs": []
    },
    {
      "cell_type": "code",
      "metadata": {
        "id": "DKoxQkiQ6GPK"
      },
      "source": [
        "# frame=frame.loc[mask]\n",
        "# print(frame.shape)\n",
        "\n",
        "# frame=frame.drop(['Date'], axis = 1)\n",
        "# print(frame.shape)\n",
        "# frame.tail()"
      ],
      "execution_count": null,
      "outputs": []
    },
    {
      "cell_type": "code",
      "metadata": {
        "id": "-FO8x8L78gjY",
        "colab": {
          "base_uri": "https://localhost:8080/"
        },
        "outputId": "947daea8-0137-493b-bd6b-943069965223"
      },
      "source": [
        "X=frame[['Volume','Open','High','Low','Comp_ID','Adj Close']]\n",
        "Y=frame[['Close']]\n",
        "\n",
        "from sklearn.model_selection import train_test_split\n",
        "X_train, X_test, Y_train, Y_test = train_test_split(X, Y, test_size=0.2, random_state=42)\n",
        "print(len(X_train))\n"
      ],
      "execution_count": null,
      "outputs": [
        {
          "output_type": "stream",
          "text": [
            "8054\n"
          ],
          "name": "stdout"
        }
      ]
    },
    {
      "cell_type": "code",
      "metadata": {
        "id": "Q5K2lhwNJ1zm"
      },
      "source": [
        "X_train_scaled = scaler.fit_transform(X_train)\n",
        "X_test_scaled = scaler.fit_transform(X_test)"
      ],
      "execution_count": null,
      "outputs": []
    },
    {
      "cell_type": "code",
      "metadata": {
        "colab": {
          "base_uri": "https://localhost:8080/"
        },
        "id": "fWJk0jinpYGv",
        "outputId": "cff29c99-6ea4-4a75-bf6f-7741ba9877c8"
      },
      "source": [
        "from sklearn import neighbors\n",
        "from sklearn.metrics import mean_squared_error \n",
        "from sklearn.metrics import precision_recall_fscore_support\n",
        "rmse=[]\n",
        "metrics=[]\n",
        "from math import sqrt\n",
        "for K in range(1,100):\n",
        "  knn = neighbors.KNeighborsRegressor(n_neighbors=K , weights='uniform', algorithm='auto')\n",
        "  knn.fit(X_train_scaled, Y_train)\n",
        "  Y_pred=knn.predict(X_test_scaled)\n",
        "  error = sqrt(mean_squared_error(Y_test,Y_pred))\n",
        "  rmse.append(error)\n",
        "  print(error)\n",
        "  print(\"The rmse error for {} neighbours is {} .\".format(K,error))"
      ],
      "execution_count": null,
      "outputs": [
        {
          "output_type": "stream",
          "text": [
            "0.8569733018900387\n",
            "The rmse error for 1 neighbours is 0.8569733018900387 .\n",
            "0.798874803756605\n",
            "The rmse error for 2 neighbours is 0.798874803756605 .\n",
            "0.7771381546196492\n",
            "The rmse error for 3 neighbours is 0.7771381546196492 .\n",
            "0.784670089891723\n",
            "The rmse error for 4 neighbours is 0.784670089891723 .\n",
            "0.7952338251810505\n",
            "The rmse error for 5 neighbours is 0.7952338251810505 .\n",
            "0.8055240540518104\n",
            "The rmse error for 6 neighbours is 0.8055240540518104 .\n",
            "0.8118941180985023\n",
            "The rmse error for 7 neighbours is 0.8118941180985023 .\n",
            "0.8182088307697923\n",
            "The rmse error for 8 neighbours is 0.8182088307697923 .\n",
            "0.824841584393288\n",
            "The rmse error for 9 neighbours is 0.824841584393288 .\n",
            "0.8329481627464701\n",
            "The rmse error for 10 neighbours is 0.8329481627464701 .\n",
            "0.8458340867969905\n",
            "The rmse error for 11 neighbours is 0.8458340867969905 .\n",
            "0.8565463718810508\n",
            "The rmse error for 12 neighbours is 0.8565463718810508 .\n",
            "0.8673425642635662\n",
            "The rmse error for 13 neighbours is 0.8673425642635662 .\n",
            "0.873779209922367\n",
            "The rmse error for 14 neighbours is 0.873779209922367 .\n",
            "0.8807956787752959\n",
            "The rmse error for 15 neighbours is 0.8807956787752959 .\n",
            "0.892843840606068\n",
            "The rmse error for 16 neighbours is 0.892843840606068 .\n",
            "0.9025037500422353\n",
            "The rmse error for 17 neighbours is 0.9025037500422353 .\n",
            "0.9093767963113413\n",
            "The rmse error for 18 neighbours is 0.9093767963113413 .\n",
            "0.9155478286041963\n",
            "The rmse error for 19 neighbours is 0.9155478286041963 .\n",
            "0.9251780801719848\n",
            "The rmse error for 20 neighbours is 0.9251780801719848 .\n",
            "0.9329330328856458\n",
            "The rmse error for 21 neighbours is 0.9329330328856458 .\n",
            "0.9398148772704705\n",
            "The rmse error for 22 neighbours is 0.9398148772704705 .\n",
            "0.9458803397193436\n",
            "The rmse error for 23 neighbours is 0.9458803397193436 .\n",
            "0.9504270290970478\n",
            "The rmse error for 24 neighbours is 0.9504270290970478 .\n",
            "0.9607207361950489\n",
            "The rmse error for 25 neighbours is 0.9607207361950489 .\n",
            "0.9697407800314948\n",
            "The rmse error for 26 neighbours is 0.9697407800314948 .\n",
            "0.9764745620850739\n",
            "The rmse error for 27 neighbours is 0.9764745620850739 .\n",
            "0.9874887186981154\n",
            "The rmse error for 28 neighbours is 0.9874887186981154 .\n",
            "0.9994638689488724\n",
            "The rmse error for 29 neighbours is 0.9994638689488724 .\n",
            "1.005056294174167\n",
            "The rmse error for 30 neighbours is 1.005056294174167 .\n",
            "1.0109777459404192\n",
            "The rmse error for 31 neighbours is 1.0109777459404192 .\n",
            "1.0210789600506298\n",
            "The rmse error for 32 neighbours is 1.0210789600506298 .\n",
            "1.0301443654701878\n",
            "The rmse error for 33 neighbours is 1.0301443654701878 .\n",
            "1.0382129019631905\n",
            "The rmse error for 34 neighbours is 1.0382129019631905 .\n",
            "1.0492132804201457\n",
            "The rmse error for 35 neighbours is 1.0492132804201457 .\n",
            "1.0574137651675453\n",
            "The rmse error for 36 neighbours is 1.0574137651675453 .\n",
            "1.0650308002401434\n",
            "The rmse error for 37 neighbours is 1.0650308002401434 .\n",
            "1.0733829208857217\n",
            "The rmse error for 38 neighbours is 1.0733829208857217 .\n",
            "1.0797419651717564\n",
            "The rmse error for 39 neighbours is 1.0797419651717564 .\n",
            "1.0874668234663096\n",
            "The rmse error for 40 neighbours is 1.0874668234663096 .\n",
            "1.0962040559871218\n",
            "The rmse error for 41 neighbours is 1.0962040559871218 .\n",
            "1.1051269984857273\n",
            "The rmse error for 42 neighbours is 1.1051269984857273 .\n",
            "1.1122174400088736\n",
            "The rmse error for 43 neighbours is 1.1122174400088736 .\n",
            "1.1199973152026157\n",
            "The rmse error for 44 neighbours is 1.1199973152026157 .\n",
            "1.126265905142734\n",
            "The rmse error for 45 neighbours is 1.126265905142734 .\n",
            "1.1329543577375265\n",
            "The rmse error for 46 neighbours is 1.1329543577375265 .\n",
            "1.1437502332902223\n",
            "The rmse error for 47 neighbours is 1.1437502332902223 .\n",
            "1.1511322869075973\n",
            "The rmse error for 48 neighbours is 1.1511322869075973 .\n",
            "1.1603845537089972\n",
            "The rmse error for 49 neighbours is 1.1603845537089972 .\n",
            "1.1705473179076467\n",
            "The rmse error for 50 neighbours is 1.1705473179076467 .\n",
            "1.178809145673464\n",
            "The rmse error for 51 neighbours is 1.178809145673464 .\n",
            "1.1861009602153494\n",
            "The rmse error for 52 neighbours is 1.1861009602153494 .\n",
            "1.1948466487943215\n",
            "The rmse error for 53 neighbours is 1.1948466487943215 .\n",
            "1.2056628113978471\n",
            "The rmse error for 54 neighbours is 1.2056628113978471 .\n",
            "1.2146086990386171\n",
            "The rmse error for 55 neighbours is 1.2146086990386171 .\n",
            "1.223116480716233\n",
            "The rmse error for 56 neighbours is 1.223116480716233 .\n",
            "1.2304124142918282\n",
            "The rmse error for 57 neighbours is 1.2304124142918282 .\n",
            "1.2406963153708472\n",
            "The rmse error for 58 neighbours is 1.2406963153708472 .\n",
            "1.25209531916239\n",
            "The rmse error for 59 neighbours is 1.25209531916239 .\n",
            "1.2607421952358269\n",
            "The rmse error for 60 neighbours is 1.2607421952358269 .\n",
            "1.270302211328183\n",
            "The rmse error for 61 neighbours is 1.270302211328183 .\n",
            "1.280344411385318\n",
            "The rmse error for 62 neighbours is 1.280344411385318 .\n",
            "1.2900241066831377\n",
            "The rmse error for 63 neighbours is 1.2900241066831377 .\n",
            "1.2950782095172915\n",
            "The rmse error for 64 neighbours is 1.2950782095172915 .\n",
            "1.3049271068654653\n",
            "The rmse error for 65 neighbours is 1.3049271068654653 .\n",
            "1.3169030230142245\n",
            "The rmse error for 66 neighbours is 1.3169030230142245 .\n",
            "1.328572659268635\n",
            "The rmse error for 67 neighbours is 1.328572659268635 .\n",
            "1.3385370433322492\n",
            "The rmse error for 68 neighbours is 1.3385370433322492 .\n",
            "1.3439239479556357\n",
            "The rmse error for 69 neighbours is 1.3439239479556357 .\n",
            "1.3515981170385922\n",
            "The rmse error for 70 neighbours is 1.3515981170385922 .\n",
            "1.3609983470949116\n",
            "The rmse error for 71 neighbours is 1.3609983470949116 .\n",
            "1.3726924064484312\n",
            "The rmse error for 72 neighbours is 1.3726924064484312 .\n",
            "1.3810830198267756\n",
            "The rmse error for 73 neighbours is 1.3810830198267756 .\n",
            "1.3888258783458207\n",
            "The rmse error for 74 neighbours is 1.3888258783458207 .\n",
            "1.3959143425404121\n",
            "The rmse error for 75 neighbours is 1.3959143425404121 .\n",
            "1.4059629394577817\n",
            "The rmse error for 76 neighbours is 1.4059629394577817 .\n",
            "1.413482518301638\n",
            "The rmse error for 77 neighbours is 1.413482518301638 .\n",
            "1.4259626217974972\n",
            "The rmse error for 78 neighbours is 1.4259626217974972 .\n",
            "1.4364731002855284\n",
            "The rmse error for 79 neighbours is 1.4364731002855284 .\n",
            "1.4449085720930994\n",
            "The rmse error for 80 neighbours is 1.4449085720930994 .\n",
            "1.4533012792210136\n",
            "The rmse error for 81 neighbours is 1.4533012792210136 .\n",
            "1.4612861434657942\n",
            "The rmse error for 82 neighbours is 1.4612861434657942 .\n",
            "1.4716075030598044\n",
            "The rmse error for 83 neighbours is 1.4716075030598044 .\n",
            "1.48093498303849\n",
            "The rmse error for 84 neighbours is 1.48093498303849 .\n",
            "1.4919862800477472\n",
            "The rmse error for 85 neighbours is 1.4919862800477472 .\n",
            "1.5025160094771488\n",
            "The rmse error for 86 neighbours is 1.5025160094771488 .\n",
            "1.5123543647170963\n",
            "The rmse error for 87 neighbours is 1.5123543647170963 .\n",
            "1.5214204311442372\n",
            "The rmse error for 88 neighbours is 1.5214204311442372 .\n",
            "1.5327978630540908\n",
            "The rmse error for 89 neighbours is 1.5327978630540908 .\n",
            "1.540265770115597\n",
            "The rmse error for 90 neighbours is 1.540265770115597 .\n",
            "1.5523501210131596\n",
            "The rmse error for 91 neighbours is 1.5523501210131596 .\n",
            "1.5636153773858528\n",
            "The rmse error for 92 neighbours is 1.5636153773858528 .\n",
            "1.5747304477390671\n",
            "The rmse error for 93 neighbours is 1.5747304477390671 .\n",
            "1.5858765172513267\n",
            "The rmse error for 94 neighbours is 1.5858765172513267 .\n",
            "1.598748799570978\n",
            "The rmse error for 95 neighbours is 1.598748799570978 .\n",
            "1.611442922641505\n",
            "The rmse error for 96 neighbours is 1.611442922641505 .\n",
            "1.6256981605736818\n",
            "The rmse error for 97 neighbours is 1.6256981605736818 .\n",
            "1.6366813206837854\n",
            "The rmse error for 98 neighbours is 1.6366813206837854 .\n",
            "1.6493152651832408\n",
            "The rmse error for 99 neighbours is 1.6493152651832408 .\n"
          ],
          "name": "stdout"
        }
      ]
    },
    {
      "cell_type": "code",
      "metadata": {
        "colab": {
          "base_uri": "https://localhost:8080/"
        },
        "id": "mvpoIsiLQgeV",
        "outputId": "22e00641-c01e-49d0-b311-0689b0dbb19f"
      },
      "source": [
        "# li=[x1,x2,x3,x4]\n",
        "# test_frame = pd.concat(li, axis=0, ignore_index=True) \n",
        "# x_frame=test_frame.drop(['Close'], axis = 1)\n",
        "# y_frame=test_frame[['Close']]\n",
        "# x_frame_scaled=scaler.fit_transform(x_frame)\n",
        "# print(x_frame.shape,y_frame.shape)"
      ],
      "execution_count": null,
      "outputs": [
        {
          "output_type": "stream",
          "text": [
            "(1176, 5) (1176, 1)\n"
          ],
          "name": "stdout"
        }
      ]
    },
    {
      "cell_type": "code",
      "metadata": {
        "id": "5bLpSAd4Z2Pr"
      },
      "source": [
        "# from sklearn import neighbors\n",
        "# from sklearn.metrics import mean_squared_error \n",
        "# from sklearn.metrics import precision_recall_fscore_support\n",
        "# rmse=[]\n",
        "# metrics=[]\n",
        "# from math import sqrt\n",
        "# for K in range(1,100):\n",
        "#   knn = neighbors.KNeighborsRegressor(n_neighbors=K , weights='uniform', algorithm='auto')\n",
        "#   knn.fit(X_train_scaled, Y_train)\n",
        "#   Y_pred=knn.predict(x_frame_scaled)\n",
        "#   error = sqrt(mean_squared_error(y_frame,Y_pred))\n",
        "#   rmse.append(error)\n",
        "#   print(error)\n",
        "#   print(\"The rmse error for {} neighbours is {} .\".format(K,error))"
      ],
      "execution_count": null,
      "outputs": []
    }
  ]
}