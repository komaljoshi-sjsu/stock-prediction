{
  "nbformat": 4,
  "nbformat_minor": 0,
  "metadata": {
    "colab": {
      "name": "KNN_final.ipynb",
      "provenance": []
    },
    "kernelspec": {
      "name": "python3",
      "display_name": "Python 3"
    },
    "language_info": {
      "name": "python"
    }
  },
  "cells": [
    {
      "cell_type": "markdown",
      "metadata": {
        "id": "j4NBQYMd7rrC"
      },
      "source": [
        "# Load multiple libraries related to model\n"
      ]
    },
    {
      "cell_type": "code",
      "metadata": {
        "colab": {
          "base_uri": "https://localhost:8080/"
        },
        "id": "BaRot70rcZ9h",
        "outputId": "3fe2e406-b72f-443a-e8ad-23ee4d8145f9"
      },
      "source": [
        "import pandas as pd\n",
        "import numpy as np\n",
        "!pip3 install yfinance\n",
        "import yfinance as yf\n",
        "\n",
        "import matplotlib.pyplot as plt\n",
        "%matplotlib inline\n",
        "\n",
        "from matplotlib.pylab import rcParams\n",
        "rcParams['figure.figsize'] = 10,5\n",
        "\n",
        "from sklearn.preprocessing import MinMaxScaler\n",
        "scaler = MinMaxScaler(feature_range=(0, 10))\n",
        "from datetime import datetime , timedelta\n",
        "import seaborn as sns\n",
        "import re"
      ],
      "execution_count": 1,
      "outputs": [
        {
          "output_type": "stream",
          "text": [
            "Collecting yfinance\n",
            "  Downloading https://files.pythonhosted.org/packages/a7/ee/315752b9ef281ba83c62aa7ec2e2074f85223da6e7e74efb4d3e11c0f510/yfinance-0.1.59.tar.gz\n",
            "Requirement already satisfied: pandas>=0.24 in /usr/local/lib/python3.7/dist-packages (from yfinance) (1.1.5)\n",
            "Requirement already satisfied: numpy>=1.15 in /usr/local/lib/python3.7/dist-packages (from yfinance) (1.19.5)\n",
            "Requirement already satisfied: requests>=2.20 in /usr/local/lib/python3.7/dist-packages (from yfinance) (2.23.0)\n",
            "Requirement already satisfied: multitasking>=0.0.7 in /usr/local/lib/python3.7/dist-packages (from yfinance) (0.0.9)\n",
            "Collecting lxml>=4.5.1\n",
            "\u001b[?25l  Downloading https://files.pythonhosted.org/packages/30/c0/d0526314971fc661b083ab135747dc68446a3022686da8c16d25fcf6ef07/lxml-4.6.3-cp37-cp37m-manylinux2014_x86_64.whl (6.3MB)\n",
            "\u001b[K     |████████████████████████████████| 6.3MB 8.1MB/s \n",
            "\u001b[?25hRequirement already satisfied: pytz>=2017.2 in /usr/local/lib/python3.7/dist-packages (from pandas>=0.24->yfinance) (2018.9)\n",
            "Requirement already satisfied: python-dateutil>=2.7.3 in /usr/local/lib/python3.7/dist-packages (from pandas>=0.24->yfinance) (2.8.1)\n",
            "Requirement already satisfied: certifi>=2017.4.17 in /usr/local/lib/python3.7/dist-packages (from requests>=2.20->yfinance) (2020.12.5)\n",
            "Requirement already satisfied: urllib3!=1.25.0,!=1.25.1,<1.26,>=1.21.1 in /usr/local/lib/python3.7/dist-packages (from requests>=2.20->yfinance) (1.24.3)\n",
            "Requirement already satisfied: idna<3,>=2.5 in /usr/local/lib/python3.7/dist-packages (from requests>=2.20->yfinance) (2.10)\n",
            "Requirement already satisfied: chardet<4,>=3.0.2 in /usr/local/lib/python3.7/dist-packages (from requests>=2.20->yfinance) (3.0.4)\n",
            "Requirement already satisfied: six>=1.5 in /usr/local/lib/python3.7/dist-packages (from python-dateutil>=2.7.3->pandas>=0.24->yfinance) (1.15.0)\n",
            "Building wheels for collected packages: yfinance\n",
            "  Building wheel for yfinance (setup.py) ... \u001b[?25l\u001b[?25hdone\n",
            "  Created wheel for yfinance: filename=yfinance-0.1.59-py2.py3-none-any.whl size=23442 sha256=9e6cfb976534be080e6161e9e7781b0a5143271c9757b1d32a194418acae3778\n",
            "  Stored in directory: /root/.cache/pip/wheels/f8/2a/0f/4b5a86e1d52e451757eb6bc17fd899629f0925c777741b6d04\n",
            "Successfully built yfinance\n",
            "Installing collected packages: lxml, yfinance\n",
            "  Found existing installation: lxml 4.2.6\n",
            "    Uninstalling lxml-4.2.6:\n",
            "      Successfully uninstalled lxml-4.2.6\n",
            "Successfully installed lxml-4.6.3 yfinance-0.1.59\n"
          ],
          "name": "stdout"
        }
      ]
    },
    {
      "cell_type": "markdown",
      "metadata": {
        "id": "F4aMzfqX2kLZ"
      },
      "source": [
        "# Loading Data from Yfinance"
      ]
    },
    {
      "cell_type": "code",
      "metadata": {
        "colab": {
          "base_uri": "https://localhost:8080/"
        },
        "id": "QcSWnSz8cfiD",
        "outputId": "2d40430b-e5f3-408d-e333-9bdcd271a77e"
      },
      "source": [
        "print(\" Welcome to Neha's stock predictor\")\n",
        "start_date=input(\"Enter the starting date :(format -->  \\\"yyyy-mm-dd\\\" ) \")\n",
        "date_pattern = re.compile(\"[0-2][0-9][0-9][0-9]-[0-1][0-9]-[0-3][0-9]\")\n",
        "while(len(date_pattern.findall(start_date)) == 0):\n",
        "  start_date=input(\"Enter the starting date in correct form :(format -->  \\\"yyyy-mm-dd\\\" )\")\n",
        "start_date=datetime.strptime(start_date,\"%Y-%m-%d\")\n",
        "#print(start_date)\n",
        "\n",
        "end_date = start_date + timedelta(days=3*365) # taken 3 years data from start date\n",
        "#print(end_date)\n",
        "\n",
        "df1 = yf.download(\"MSFT\", start=start_date, end=end_date ) # taken MSFT dataset from yfinance\n",
        "print(df1.shape)"
      ],
      "execution_count": 2,
      "outputs": [
        {
          "output_type": "stream",
          "text": [
            " Welcome to Neha's stock predictor\n",
            "Enter the starting date :(format -->  \"yyyy-mm-dd\" ) 2017-05-23\n",
            "[*********************100%***********************]  1 of 1 completed\n",
            "(755, 6)\n"
          ],
          "name": "stdout"
        }
      ]
    },
    {
      "cell_type": "markdown",
      "metadata": {
        "id": "ys1_AzI72jHz"
      },
      "source": [
        "# Exploring Data"
      ]
    },
    {
      "cell_type": "code",
      "metadata": {
        "colab": {
          "base_uri": "https://localhost:8080/",
          "height": 371
        },
        "id": "ClPT2JMpc2Zz",
        "outputId": "973413a0-90f1-4b88-f462-1921f91fce69"
      },
      "source": [
        "df1=df1.dropna()\n",
        "df1['ohlc']=df1[['Open', \"High\",\"Low\",\"Close\"]].mean(axis=1)\n",
        "print(df1.dtypes)\n",
        "df1.head()"
      ],
      "execution_count": 3,
      "outputs": [
        {
          "output_type": "stream",
          "text": [
            "Open         float64\n",
            "High         float64\n",
            "Low          float64\n",
            "Close        float64\n",
            "Adj Close    float64\n",
            "Volume         int64\n",
            "ohlc         float64\n",
            "dtype: object\n"
          ],
          "name": "stdout"
        },
        {
          "output_type": "execute_result",
          "data": {
            "text/html": [
              "<div>\n",
              "<style scoped>\n",
              "    .dataframe tbody tr th:only-of-type {\n",
              "        vertical-align: middle;\n",
              "    }\n",
              "\n",
              "    .dataframe tbody tr th {\n",
              "        vertical-align: top;\n",
              "    }\n",
              "\n",
              "    .dataframe thead th {\n",
              "        text-align: right;\n",
              "    }\n",
              "</style>\n",
              "<table border=\"1\" class=\"dataframe\">\n",
              "  <thead>\n",
              "    <tr style=\"text-align: right;\">\n",
              "      <th></th>\n",
              "      <th>Open</th>\n",
              "      <th>High</th>\n",
              "      <th>Low</th>\n",
              "      <th>Close</th>\n",
              "      <th>Adj Close</th>\n",
              "      <th>Volume</th>\n",
              "      <th>ohlc</th>\n",
              "    </tr>\n",
              "    <tr>\n",
              "      <th>Date</th>\n",
              "      <th></th>\n",
              "      <th></th>\n",
              "      <th></th>\n",
              "      <th></th>\n",
              "      <th></th>\n",
              "      <th></th>\n",
              "      <th></th>\n",
              "    </tr>\n",
              "  </thead>\n",
              "  <tbody>\n",
              "    <tr>\n",
              "      <th>2017-05-23</th>\n",
              "      <td>68.720001</td>\n",
              "      <td>68.750000</td>\n",
              "      <td>68.379997</td>\n",
              "      <td>68.680000</td>\n",
              "      <td>65.004425</td>\n",
              "      <td>15425800</td>\n",
              "      <td>68.632500</td>\n",
              "    </tr>\n",
              "    <tr>\n",
              "      <th>2017-05-24</th>\n",
              "      <td>68.870003</td>\n",
              "      <td>68.879997</td>\n",
              "      <td>68.449997</td>\n",
              "      <td>68.769997</td>\n",
              "      <td>65.089622</td>\n",
              "      <td>14593900</td>\n",
              "      <td>68.742498</td>\n",
              "    </tr>\n",
              "    <tr>\n",
              "      <th>2017-05-25</th>\n",
              "      <td>68.970001</td>\n",
              "      <td>69.879997</td>\n",
              "      <td>68.910004</td>\n",
              "      <td>69.620003</td>\n",
              "      <td>65.894119</td>\n",
              "      <td>21854100</td>\n",
              "      <td>69.345001</td>\n",
              "    </tr>\n",
              "    <tr>\n",
              "      <th>2017-05-26</th>\n",
              "      <td>69.800003</td>\n",
              "      <td>70.220001</td>\n",
              "      <td>69.519997</td>\n",
              "      <td>69.959999</td>\n",
              "      <td>66.215904</td>\n",
              "      <td>19827900</td>\n",
              "      <td>69.875000</td>\n",
              "    </tr>\n",
              "    <tr>\n",
              "      <th>2017-05-30</th>\n",
              "      <td>69.790001</td>\n",
              "      <td>70.410004</td>\n",
              "      <td>69.769997</td>\n",
              "      <td>70.410004</td>\n",
              "      <td>66.641869</td>\n",
              "      <td>17072800</td>\n",
              "      <td>70.095001</td>\n",
              "    </tr>\n",
              "  </tbody>\n",
              "</table>\n",
              "</div>"
            ],
            "text/plain": [
              "                 Open       High        Low  ...  Adj Close    Volume       ohlc\n",
              "Date                                         ...                                \n",
              "2017-05-23  68.720001  68.750000  68.379997  ...  65.004425  15425800  68.632500\n",
              "2017-05-24  68.870003  68.879997  68.449997  ...  65.089622  14593900  68.742498\n",
              "2017-05-25  68.970001  69.879997  68.910004  ...  65.894119  21854100  69.345001\n",
              "2017-05-26  69.800003  70.220001  69.519997  ...  66.215904  19827900  69.875000\n",
              "2017-05-30  69.790001  70.410004  69.769997  ...  66.641869  17072800  70.095001\n",
              "\n",
              "[5 rows x 7 columns]"
            ]
          },
          "metadata": {
            "tags": []
          },
          "execution_count": 3
        }
      ]
    },
    {
      "cell_type": "code",
      "metadata": {
        "colab": {
          "base_uri": "https://localhost:8080/",
          "height": 295
        },
        "id": "bHN_WLwk26pD",
        "outputId": "eba9ead2-793e-4e71-9b3c-e99c7ea5029f"
      },
      "source": [
        "plt.plot(df1['Close'])\n",
        "plt.xlabel('Date')\n",
        "plt.ylabel('Stock Price')\n",
        "plt.title('MSFT')\n",
        "plt.show()"
      ],
      "execution_count": 4,
      "outputs": [
        {
          "output_type": "display_data",
          "data": {
            "image/png": "[encoded data removed]",
            "text/plain": [
              "<Figure size 432x288 with 1 Axes>"
            ]
          },
          "metadata": {
            "tags": [],
            "needs_background": "light"
          }
        }
      ]
    },
    {
      "cell_type": "code",
      "metadata": {
        "id": "-1BuvF8jKEnx",
        "colab": {
          "base_uri": "https://localhost:8080/"
        },
        "outputId": "8d5d5ab7-2045-4168-a853-e1bcb5a234c9"
      },
      "source": [
        "df1=df1[['Open', \"High\",\"Low\",\"Volume\",\"Adj Close\",\"Close\",'ohlc']]\n",
        "df_volume=df1[['Volume']]\n",
        "df1=df1.drop(['Volume'],axis=1)\n",
        "df1.dtypes"
      ],
      "execution_count": 5,
      "outputs": [
        {
          "output_type": "execute_result",
          "data": {
            "text/plain": [
              "Open         float64\n",
              "High         float64\n",
              "Low          float64\n",
              "Adj Close    float64\n",
              "Close        float64\n",
              "ohlc         float64\n",
              "dtype: object"
            ]
          },
          "metadata": {
            "tags": []
          },
          "execution_count": 5
        }
      ]
    },
    {
      "cell_type": "code",
      "metadata": {
        "colab": {
          "base_uri": "https://localhost:8080/",
          "height": 1000
        },
        "id": "apTvgiDDLOv9",
        "outputId": "600ac437-7904-43ec-e0ad-58a6bf3f0316"
      },
      "source": [
        "\n",
        "df1_scaled = pd.DataFrame(scaler.fit_transform(df1) , columns=['Open', \"High\",\"Low\",\"Adj Close\",\"Close\",'ohlc']) \n",
        "print(df1_scaled.corr())\n",
        "sns.heatmap(df1_scaled.corr())\n",
        "sns.displot([df1['Open'],df1[\"Close\"]],kde = False , color=[\"b\",\"r\"],alpha=0.5)\n",
        "sns.displot([df1['Low'],df1[\"Close\"]],kde = False , color=[\"b\",\"r\"],alpha=0.5)\n",
        "sns.displot([df1['High'],df1[\"Close\"]],kde = False , color=[\"b\",\"r\"],alpha=0.5)\n",
        "sns.displot([df1['Adj Close'],df1[\"Close\"]],kde = False , color=[\"b\",\"r\"],alpha=0.5)\n",
        "sns.displot([df_volume['Volume'].divide(900000).round(6),df1[\"Close\"]],kde = False , color=[\"b\",\"r\"],alpha=0.5)\n",
        "plt.show()"
      ],
      "execution_count": 6,
      "outputs": [
        {
          "output_type": "stream",
          "text": [
            "               Open      High       Low  Adj Close     Close      ohlc\n",
            "Open       1.000000  0.999061  0.999079   0.998333  0.998339  0.999585\n",
            "High       0.999061  1.000000  0.998191   0.998979  0.998905  0.999511\n",
            "Low        0.999079  0.998191  1.000000   0.998876  0.998980  0.999521\n",
            "Adj Close  0.998333  0.998979  0.998876   1.000000  0.999942  0.999498\n",
            "Close      0.998339  0.998905  0.998980   0.999942  1.000000  0.999521\n",
            "ohlc       0.999585  0.999511  0.999521   0.999498  0.999521  1.000000\n"
          ],
          "name": "stdout"
        },
        {
          "output_type": "display_data",
          "data": {
            "image/png": "[encoded data removed]",
            "text/plain": [
              "<Figure size 432x288 with 2 Axes>"
            ]
          },
          "metadata": {
            "tags": [],
            "needs_background": "light"
          }
        },
        {
          "output_type": "display_data",
          "data": {
            "image/png": "[encoded data removed]",
            "text/plain": [
              "<Figure size 423.125x360 with 1 Axes>"
            ]
          },
          "metadata": {
            "tags": [],
            "needs_background": "light"
          }
        },
        {
          "output_type": "display_data",
          "data": {
            "image/png": "[encoded data removed]",
            "text/plain": [
              "<Figure size 423.125x360 with 1 Axes>"
            ]
          },
          "metadata": {
            "tags": [],
            "needs_background": "light"
          }
        },
        {
          "output_type": "display_data",
          "data": {
            "image/png": "[encoded data removed]",
            "text/plain": [
              "<Figure size 423.125x360 with 1 Axes>"
            ]
          },
          "metadata": {
            "tags": [],
            "needs_background": "light"
          }
        },
        {
          "output_type": "display_data",
          "data": {
            "image/png": "[encoded data removed]",
            "text/plain": [
              "<Figure size 442.25x360 with 1 Axes>"
            ]
          },
          "metadata": {
            "tags": [],
            "needs_background": "light"
          }
        },
        {
          "output_type": "display_data",
          "data": {
            "image/png": "[encoded data removed]",
            "text/plain": [
              "<Figure size 433.125x360 with 1 Axes>"
            ]
          },
          "metadata": {
            "tags": [],
            "needs_background": "light"
          }
        }
      ]
    },
    {
      "cell_type": "markdown",
      "metadata": {
        "id": "jqN2Yi2b3ONv"
      },
      "source": [
        "# Spliting the dataset "
      ]
    },
    {
      "cell_type": "code",
      "metadata": {
        "colab": {
          "base_uri": "https://localhost:8080/"
        },
        "id": "JKpwZf8eM-NF",
        "outputId": "cccfb5dd-4bdd-477a-89a0-a66b71fd5322"
      },
      "source": [
        "\n",
        "X=df1[['ohlc']]\n",
        "# X=df1[['Volume']]\n",
        "# X=X.divide(900000).round(6)\n",
        "Y=df1[['Close']]\n",
        "from sklearn.model_selection import train_test_split\n",
        "X_train, X_test, Y_train, Y_test = train_test_split(X, Y, test_size=0.1, shuffle=False)\n",
        "print(X_train.shape , Y_train.shape)\n",
        "date_train = []\n",
        "date_test = []\n",
        "for row in X_train.index:\n",
        "    date_train.append(row)\n",
        "for row in X_test.index:\n",
        "    date_test.append(row)\n",
        "#X_train.head()"
      ],
      "execution_count": 7,
      "outputs": [
        {
          "output_type": "stream",
          "text": [
            "(679, 1) (679, 1)\n"
          ],
          "name": "stdout"
        }
      ]
    },
    {
      "cell_type": "code",
      "metadata": {
        "id": "lIDsHT7XWOUH"
      },
      "source": [
        "#X_train_scaled = scaler.fit_transform(X_train)"
      ],
      "execution_count": 8,
      "outputs": []
    },
    {
      "cell_type": "markdown",
      "metadata": {
        "id": "lzG4q8N_3NWU"
      },
      "source": [
        "# Gridsearch cross validation\n",
        "  We tried validating the best parameters by using gridsearch but results were not as expected."
      ]
    },
    {
      "cell_type": "code",
      "metadata": {
        "colab": {
          "base_uri": "https://localhost:8080/"
        },
        "id": "AxbOBM22F24P",
        "outputId": "64e7d9d7-2545-46ff-d667-ffc51038af9e"
      },
      "source": [
        "from sklearn.model_selection import GridSearchCV\n",
        "from sklearn import neighbors\n",
        "from sklearn.metrics import mean_squared_error \n",
        "from math import sqrt\n",
        "grid_params={\n",
        "    'n_neighbors':[i for i in range(30)],\n",
        "    'weights':['uniform','distance'],\n",
        "    'metric':['euclidean', 'manhattan']\n",
        "}\n",
        "gs= GridSearchCV(neighbors.KNeighborsRegressor(),grid_params , verbose = 1 , cv =3 , n_jobs = -1 )\n",
        "gs_results = gs.fit(X_train,Y_train)\n",
        "print(gs_results.best_score_)\n",
        "print(gs_results.best_params_)\n",
        "gs_results.score(X_test,Y_test)"
      ],
      "execution_count": 9,
      "outputs": [
        {
          "output_type": "stream",
          "text": [
            "Fitting 3 folds for each of 120 candidates, totalling 360 fits\n"
          ],
          "name": "stdout"
        },
        {
          "output_type": "stream",
          "text": [
            "[Parallel(n_jobs=-1)]: Using backend LokyBackend with 2 concurrent workers.\n",
            "[Parallel(n_jobs=-1)]: Done 300 tasks      | elapsed:    3.0s\n"
          ],
          "name": "stderr"
        },
        {
          "output_type": "stream",
          "text": [
            "-1.614573291188288\n",
            "{'metric': 'euclidean', 'n_neighbors': 1, 'weights': 'uniform'}\n"
          ],
          "name": "stdout"
        },
        {
          "output_type": "stream",
          "text": [
            "[Parallel(n_jobs=-1)]: Done 360 out of 360 | elapsed:    3.4s finished\n"
          ],
          "name": "stderr"
        },
        {
          "output_type": "execute_result",
          "data": {
            "text/plain": [
              "0.766973322668147"
            ]
          },
          "metadata": {
            "tags": []
          },
          "execution_count": 9
        }
      ]
    },
    {
      "cell_type": "markdown",
      "metadata": {
        "id": "Hohmsyot3RV_"
      },
      "source": [
        "# K Nearest Neighbor"
      ]
    },
    {
      "cell_type": "code",
      "metadata": {
        "colab": {
          "base_uri": "https://localhost:8080/"
        },
        "id": "4QNOgrX_Kpmq",
        "outputId": "b7cddb04-274e-4ae1-bb78-937a18a02d7e"
      },
      "source": [
        "#Using K value with minimum error score\n",
        "K=int(gs_results.best_params_['n_neighbors'])\n",
        "knn = neighbors.KNeighborsRegressor(n_neighbors = K, weights='uniform',metric=\"euclidean\")\n",
        "knn.fit(X_train,Y_train)\n",
        "Y_pred=knn.predict(X_test)\n",
        "error = sqrt(mean_squared_error(Y_test,Y_pred))\n",
        "print(error)\n",
        "print(\"The rmse error is\",error)"
      ],
      "execution_count": 10,
      "outputs": [
        {
          "output_type": "stream",
          "text": [
            "6.984150464172736\n",
            "The rmse error is 6.984150464172736\n"
          ],
          "name": "stdout"
        }
      ]
    },
    {
      "cell_type": "markdown",
      "metadata": {
        "id": "iMQUiZ4S3Qf4"
      },
      "source": [
        "# Buy, Sell or Hold "
      ]
    },
    {
      "cell_type": "code",
      "metadata": {
        "colab": {
          "base_uri": "https://localhost:8080/"
        },
        "id": "J76hleI76VXk",
        "outputId": "8f3a3af8-0886-4931-87a7-fce40eeb7001"
      },
      "source": [
        "avg_close = Y_train[\"Close\"].mean()\n",
        "print(\"Average share price of microsoft - {}\" .format(avg_close))\n",
        "results=[]\n",
        "for i in range (1,len(Y_pred)):\n",
        "  if Y_pred[i]>Y_pred[i-1] and Y_pred[i-1]>avg_close:\n",
        "    #the price is increasing so profit is there in buying\n",
        "    ans=\"For date {}\".format(date_test[i])\n",
        "    ans=ans[0:-8]\n",
        "    ans2=\"suggestion is to buy \"\n",
        "    results.append(ans+ans2)\n",
        "    print(ans+ans2)\n",
        "  elif Y_pred[i]<Y_pred[i-1] and Y_pred[i-1]<=avg_close:\n",
        "    #the price is decreasing and is below average so sell asap \n",
        "    ans=\"For date {}\".format(date_test[i])\n",
        "    ans=ans[0:-8]\n",
        "    ans2=\"suggestion is to sell \"\n",
        "    results.append(ans+ans2)\n",
        "    print(ans+ans2)\n",
        "  elif Y_pred[i]<Y_pred[i-1] and Y_pred[i-1]>avg_close:\n",
        "    #the price is decreasing but still above average so wait for it to rise\n",
        "    ans=\"For date {}\".format(date_test[i])\n",
        "    ans=ans[0:-8]\n",
        "    ans2=\"suggestion is to hold \"\n",
        "    results.append(ans+ans2)\n",
        "    print(ans+ans2)\n",
        "  elif Y_pred[i]>Y_pred[i-1] and Y_pred[i-1]<=avg_close:\n",
        "    #the price is increasing and is below average hence will be benficial to buy\n",
        "    ans=\"For date {}\".format(date_test[i])\n",
        "    ans=ans[0:-8]\n",
        "    ans2=\"suggestion is to buy\"\n",
        "    results.append(ans+ans2)\n",
        "    print(ans+ans2)\n",
        "  elif Y_pred[i]==Y_pred[i-1]:\n",
        "    #no change in market position so better to hold\n",
        "    ans=\"For date {}\".format(date_test[i])\n",
        "    ans=ans[0:-8]\n",
        "    ans2=\"suggestion is to hold \"\n",
        "    results.append(ans+ans2)\n",
        "    print(ans+ans2)"
      ],
      "execution_count": 11,
      "outputs": [
        {
          "output_type": "stream",
          "text": [
            "Average share price of microsoft - 108.35440365730926\n",
            "For date 2020-02-05 suggestion is to hold \n",
            "For date 2020-02-06 suggestion is to hold \n",
            "For date 2020-02-07 suggestion is to hold \n",
            "For date 2020-02-10 suggestion is to hold \n",
            "For date 2020-02-11 suggestion is to hold \n",
            "For date 2020-02-12 suggestion is to hold \n",
            "For date 2020-02-13 suggestion is to hold \n",
            "For date 2020-02-14 suggestion is to hold \n",
            "For date 2020-02-18 suggestion is to hold \n",
            "For date 2020-02-19 suggestion is to hold \n",
            "For date 2020-02-20 suggestion is to hold \n",
            "For date 2020-02-21 suggestion is to hold \n",
            "For date 2020-02-24 suggestion is to hold \n",
            "For date 2020-02-25 suggestion is to buy \n",
            "For date 2020-02-26 suggestion is to hold \n",
            "For date 2020-02-27 suggestion is to hold \n",
            "For date 2020-02-28 suggestion is to hold \n",
            "For date 2020-03-02 suggestion is to buy \n",
            "For date 2020-03-03 suggestion is to hold \n",
            "For date 2020-03-04 suggestion is to hold \n",
            "For date 2020-03-05 suggestion is to hold \n",
            "For date 2020-03-06 suggestion is to hold \n",
            "For date 2020-03-09 suggestion is to hold \n",
            "For date 2020-03-10 suggestion is to buy \n",
            "For date 2020-03-11 suggestion is to hold \n",
            "For date 2020-03-12 suggestion is to hold \n",
            "For date 2020-03-13 suggestion is to buy \n",
            "For date 2020-03-16 suggestion is to hold \n",
            "For date 2020-03-17 suggestion is to buy \n",
            "For date 2020-03-18 suggestion is to hold \n",
            "For date 2020-03-19 suggestion is to buy \n",
            "For date 2020-03-20 suggestion is to hold \n",
            "For date 2020-03-23 suggestion is to hold \n",
            "For date 2020-03-24 suggestion is to buy \n",
            "For date 2020-03-25 suggestion is to buy \n",
            "For date 2020-03-26 suggestion is to buy \n",
            "For date 2020-03-27 suggestion is to hold \n",
            "For date 2020-03-30 suggestion is to buy \n",
            "For date 2020-03-31 suggestion is to buy \n",
            "For date 2020-04-01 suggestion is to hold \n",
            "For date 2020-04-02 suggestion is to hold \n",
            "For date 2020-04-03 suggestion is to hold \n",
            "For date 2020-04-06 suggestion is to buy \n",
            "For date 2020-04-07 suggestion is to buy \n",
            "For date 2020-04-08 suggestion is to buy \n",
            "For date 2020-04-09 suggestion is to hold \n",
            "For date 2020-04-13 suggestion is to hold \n",
            "For date 2020-04-14 suggestion is to buy \n",
            "For date 2020-04-15 suggestion is to hold \n",
            "For date 2020-04-16 suggestion is to buy \n",
            "For date 2020-04-17 suggestion is to hold \n",
            "For date 2020-04-20 suggestion is to hold \n",
            "For date 2020-04-21 suggestion is to hold \n",
            "For date 2020-04-22 suggestion is to buy \n",
            "For date 2020-04-23 suggestion is to hold \n",
            "For date 2020-04-24 suggestion is to hold \n",
            "For date 2020-04-27 suggestion is to hold \n",
            "For date 2020-04-28 suggestion is to buy \n",
            "For date 2020-04-29 suggestion is to hold \n",
            "For date 2020-04-30 suggestion is to hold \n",
            "For date 2020-05-01 suggestion is to hold \n",
            "For date 2020-05-04 suggestion is to hold \n",
            "For date 2020-05-05 suggestion is to hold \n",
            "For date 2020-05-06 suggestion is to hold \n",
            "For date 2020-05-07 suggestion is to hold \n",
            "For date 2020-05-08 suggestion is to hold \n",
            "For date 2020-05-11 suggestion is to hold \n",
            "For date 2020-05-12 suggestion is to hold \n",
            "For date 2020-05-13 suggestion is to hold \n",
            "For date 2020-05-14 suggestion is to hold \n",
            "For date 2020-05-15 suggestion is to hold \n",
            "For date 2020-05-18 suggestion is to hold \n",
            "For date 2020-05-19 suggestion is to hold \n",
            "For date 2020-05-20 suggestion is to hold \n",
            "For date 2020-05-21 suggestion is to hold \n"
          ],
          "name": "stdout"
        }
      ]
    },
    {
      "cell_type": "code",
      "metadata": {
        "colab": {
          "base_uri": "https://localhost:8080/"
        },
        "id": "Y77LqQkdhMxE",
        "outputId": "a5943167-fab2-40ce-e874-ebddfe2d1d41"
      },
      "source": [
        "Y_test_list = np.array(Y_test.values.tolist()).flatten()\n",
        "Y_train_list = np.array(Y_train.values.tolist()).flatten()\n",
        "X_train_list = np.array(X_train.values.tolist()).flatten()\n",
        "X_test_list = np.array(X_test.values.tolist()).flatten()\n",
        "Y_pred=Y_pred.flatten()\n",
        "print(Y_pred.shape)\n",
        "print(Y_test_list.shape)\n",
        "print(Y_train_list.shape)\n",
        "print(\"maximum feature value in the X_train {} & corresponding value of it in Y_train is {} .\".format(np.amax(X_train_list),Y_train_list[np.argmax(X_train_list)]))\n",
        "print(Y_pred[:15],end=\" \")"
      ],
      "execution_count": 12,
      "outputs": [
        {
          "output_type": "stream",
          "text": [
            "(76,)\n",
            "(76,)\n",
            "(679,)\n",
            "maximum feature value in the X_train 172.91749954223633 & corresponding value of it in Y_train is 172.77999877929688 .\n",
            "[172.77999878 172.77999878 172.77999878 172.77999878 172.77999878\n",
            " 172.77999878 172.77999878 172.77999878 172.77999878 172.77999878\n",
            " 172.77999878 172.77999878 172.77999878 168.03999329 170.22999573] "
          ],
          "name": "stdout"
        }
      ]
    },
    {
      "cell_type": "markdown",
      "metadata": {
        "id": "pIlpWR9s3uJX"
      },
      "source": [
        "# Finding Accuracy"
      ]
    },
    {
      "cell_type": "code",
      "metadata": {
        "colab": {
          "base_uri": "https://localhost:8080/"
        },
        "id": "OH-BNHaVohDP",
        "outputId": "995acb9f-2948-4748-ab03-01a2418d2f18"
      },
      "source": [
        "error_limit = 10.0\n",
        "average_difference=0\n",
        "correct=0\n",
        "wrong=0\n",
        "for i in range(len(Y_pred)):\n",
        "  if abs(Y_pred[i]-Y_test_list[i])<=error_limit :\n",
        "    correct+=1\n",
        "  else:\n",
        "    wrong+=1 \n",
        "  average_difference+=abs(Y_pred[i]-Y_test_list[i])\n",
        "print(\"Number of correct predictions with error limit {} is {}\".format(error_limit, correct))\n",
        "print(\"Number of incorrect predictions with error limit {} is {}\".format(error_limit, wrong))\n",
        "print(\"Average deviation for predictions {}\".format(average_difference/len(Y_pred)))\n",
        "#print(correct , wrong , type(average_difference))\n",
        "accuracy=(correct/(correct+wrong))*100\n",
        "print(\"Accuracy for predictions is\", accuracy)"
      ],
      "execution_count": 13,
      "outputs": [
        {
          "output_type": "stream",
          "text": [
            "Number of correct predictions with error limit 10.0 is 58\n",
            "Number of incorrect predictions with error limit 10.0 is 18\n",
            "Average deviation for predictions 5.44144720780222\n",
            "Accuracy for predictions is 76.31578947368422\n"
          ],
          "name": "stdout"
        }
      ]
    },
    {
      "cell_type": "markdown",
      "metadata": {
        "id": "F1H0z38h3zXE"
      },
      "source": [
        "# Plotting the Prediction\n"
      ]
    },
    {
      "cell_type": "code",
      "metadata": {
        "colab": {
          "base_uri": "https://localhost:8080/",
          "height": 296
        },
        "id": "a2LCtdvIUDtz",
        "outputId": "c22fac41-718c-4369-f6eb-1408a867130b"
      },
      "source": [
        "x_ax=range(len(Y_test_list)+len(Y_train_list))\n",
        "plt.plot(x_ax[len(Y_train_list):len(Y_test_list)+len(Y_train_list)] , Y_pred[:])\n",
        "plt.plot(x_ax[len(Y_train_list):len(Y_test_list)+len(Y_train_list)],Y_test_list[:])\n",
        "plt.plot(x_ax[:len(Y_train_list)],Y_train_list[:])\n",
        "plt.xlabel('Days')\n",
        "plt.ylabel('Stock Price')\n",
        "#plt.xticks(date_test)\n",
        "plt.legend([\"predicted\", \"test_value\",\"train_value\"], loc =\"lower right\")"
      ],
      "execution_count": 14,
      "outputs": [
        {
          "output_type": "execute_result",
          "data": {
            "text/plain": [
              "<matplotlib.legend.Legend at 0x7f749fb89710>"
            ]
          },
          "metadata": {
            "tags": []
          },
          "execution_count": 14
        },
        {
          "output_type": "display_data",
          "data": {
            "image/png": "[encoded data removed]",
            "text/plain": [
              "<Figure size 432x288 with 1 Axes>"
            ]
          },
          "metadata": {
            "tags": [],
            "needs_background": "light"
          }
        }
      ]
    },
    {
      "cell_type": "markdown",
      "metadata": {
        "id": "dyNgOYVT3yOO"
      },
      "source": [
        "# Predicted Vs Actual Values"
      ]
    },
    {
      "cell_type": "code",
      "metadata": {
        "colab": {
          "base_uri": "https://localhost:8080/",
          "height": 296
        },
        "id": "6l75f_iAj0i2",
        "outputId": "71b9c0f0-e545-4ad3-8e76-77d09a35345d"
      },
      "source": [
        "plt.plot(Y_pred)\n",
        "plt.plot(Y_test_list)\n",
        "plt.xlabel('Days')\n",
        "plt.ylabel('Stock Price')\n",
        "#plt.xticks(date_test)\n",
        "plt.legend([\"predicted\", \"real_value\"], loc =\"lower right\")"
      ],
      "execution_count": 15,
      "outputs": [
        {
          "output_type": "execute_result",
          "data": {
            "text/plain": [
              "<matplotlib.legend.Legend at 0x7f749fab0dd0>"
            ]
          },
          "metadata": {
            "tags": []
          },
          "execution_count": 15
        },
        {
          "output_type": "display_data",
          "data": {
            "image/png": "[encoded data removed]",
            "text/plain": [
              "<Figure size 432x288 with 1 Axes>"
            ]
          },
          "metadata": {
            "tags": [],
            "needs_background": "light"
          }
        }
      ]
    }
  ]
}