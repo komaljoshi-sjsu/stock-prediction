{
 "cells": [
  {
   "cell_type": "code",
   "execution_count": 14,
   "id": "hybrid-pillow",
   "metadata": {},
   "outputs": [
    {
     "name": "stdout",
     "output_type": "stream",
     "text": [
      "Collecting sklearn\n",
      "  Downloading sklearn-0.0.tar.gz (1.1 kB)\n",
      "Collecting scikit-learn\n",
      "  Downloading scikit_learn-0.24.2-cp39-cp39-macosx_10_13_x86_64.whl (7.3 MB)\n",
      "\u001b[K     |████████████████████████████████| 7.3 MB 558 kB/s eta 0:00:01\n",
      "\u001b[?25hRequirement already satisfied: numpy>=1.13.3 in /usr/local/Cellar/jupyterlab/3.0.12/libexec/lib/python3.9/site-packages (from scikit-learn->sklearn) (1.20.2)\n",
      "Collecting scipy>=0.19.1\n",
      "  Downloading scipy-1.6.3-cp39-cp39-macosx_10_9_x86_64.whl (30.9 MB)\n",
      "\u001b[K     |████████████████████████████████| 30.9 MB 44.0 MB/s eta 0:00:01\n",
      "\u001b[?25hCollecting joblib>=0.11\n",
      "  Downloading joblib-1.0.1-py3-none-any.whl (303 kB)\n",
      "\u001b[K     |████████████████████████████████| 303 kB 37.1 MB/s eta 0:00:01\n",
      "\u001b[?25hCollecting threadpoolctl>=2.0.0\n",
      "  Downloading threadpoolctl-2.1.0-py3-none-any.whl (12 kB)\n",
      "Using legacy 'setup.py install' for sklearn, since package 'wheel' is not installed.\n",
      "Installing collected packages: threadpoolctl, scipy, joblib, scikit-learn, sklearn\n",
      "    Running setup.py install for sklearn ... \u001b[?25ldone\n",
      "\u001b[?25hSuccessfully installed joblib-1.0.1 scikit-learn-0.24.2 scipy-1.6.3 sklearn-0.0 threadpoolctl-2.1.0\n"
     ]
    }
   ],
   "source": [
    "import sys\n",
    "!{sys.executable} -m pip install sklearn"
   ]
  },
  {
   "cell_type": "code",
   "execution_count": 15,
   "id": "tribal-parcel",
   "metadata": {},
   "outputs": [],
   "source": [
    "import pandas as pd\n",
    "import numpy as np\n",
    "import yfinance as yf\n",
    "from datetime import datetime, timedelta\n",
    "import matplotlib.pyplot as plt\n",
    "\n",
    "from sklearn.model_selection import train_test_split\n",
    "from sklearn.ensemble import RandomForestRegressor\n",
    "from sklearn import metrics\n",
    "from sklearn.preprocessing import MinMaxScaler"
   ]
  },
  {
   "cell_type": "code",
   "execution_count": 31,
   "id": "entitled-anthony",
   "metadata": {},
   "outputs": [
    {
     "name": "stdout",
     "output_type": "stream",
     "text": [
      "[*********************100%***********************]  1 of 1 completed\n"
     ]
    }
   ],
   "source": [
    "start = datetime(2019, 1, 1)\n",
    "end = datetime.now()\n",
    "df = yf.download('MSFT', start=start, end=end)"
   ]
  },
  {
   "cell_type": "code",
   "execution_count": 17,
   "id": "rational-shame",
   "metadata": {},
   "outputs": [
    {
     "data": {
      "text/html": [
       "<div>\n",
       "<style scoped>\n",
       "    .dataframe tbody tr th:only-of-type {\n",
       "        vertical-align: middle;\n",
       "    }\n",
       "\n",
       "    .dataframe tbody tr th {\n",
       "        vertical-align: top;\n",
       "    }\n",
       "\n",
       "    .dataframe thead th {\n",
       "        text-align: right;\n",
       "    }\n",
       "</style>\n",
       "<table border=\"1\" class=\"dataframe\">\n",
       "  <thead>\n",
       "    <tr style=\"text-align: right;\">\n",
       "      <th></th>\n",
       "      <th>Open</th>\n",
       "      <th>High</th>\n",
       "      <th>Low</th>\n",
       "      <th>Close</th>\n",
       "      <th>Adj Close</th>\n",
       "      <th>Volume</th>\n",
       "    </tr>\n",
       "    <tr>\n",
       "      <th>Date</th>\n",
       "      <th></th>\n",
       "      <th></th>\n",
       "      <th></th>\n",
       "      <th></th>\n",
       "      <th></th>\n",
       "      <th></th>\n",
       "    </tr>\n",
       "  </thead>\n",
       "  <tbody>\n",
       "    <tr>\n",
       "      <th>2021-01-04</th>\n",
       "      <td>222.529999</td>\n",
       "      <td>223.000000</td>\n",
       "      <td>214.809998</td>\n",
       "      <td>217.690002</td>\n",
       "      <td>217.189774</td>\n",
       "      <td>37130100</td>\n",
       "    </tr>\n",
       "    <tr>\n",
       "      <th>2021-01-05</th>\n",
       "      <td>217.259995</td>\n",
       "      <td>218.520004</td>\n",
       "      <td>215.699997</td>\n",
       "      <td>217.899994</td>\n",
       "      <td>217.399292</td>\n",
       "      <td>23823000</td>\n",
       "    </tr>\n",
       "    <tr>\n",
       "      <th>2021-01-06</th>\n",
       "      <td>212.169998</td>\n",
       "      <td>216.490005</td>\n",
       "      <td>211.940002</td>\n",
       "      <td>212.250000</td>\n",
       "      <td>211.762268</td>\n",
       "      <td>35930700</td>\n",
       "    </tr>\n",
       "    <tr>\n",
       "      <th>2021-01-07</th>\n",
       "      <td>214.039993</td>\n",
       "      <td>219.339996</td>\n",
       "      <td>213.710007</td>\n",
       "      <td>218.289993</td>\n",
       "      <td>217.788391</td>\n",
       "      <td>27694500</td>\n",
       "    </tr>\n",
       "    <tr>\n",
       "      <th>2021-01-08</th>\n",
       "      <td>218.679993</td>\n",
       "      <td>220.580002</td>\n",
       "      <td>217.029999</td>\n",
       "      <td>219.619995</td>\n",
       "      <td>219.115341</td>\n",
       "      <td>22956200</td>\n",
       "    </tr>\n",
       "  </tbody>\n",
       "</table>\n",
       "</div>"
      ],
      "text/plain": [
       "                  Open        High         Low       Close   Adj Close  \\\n",
       "Date                                                                     \n",
       "2021-01-04  222.529999  223.000000  214.809998  217.690002  217.189774   \n",
       "2021-01-05  217.259995  218.520004  215.699997  217.899994  217.399292   \n",
       "2021-01-06  212.169998  216.490005  211.940002  212.250000  211.762268   \n",
       "2021-01-07  214.039993  219.339996  213.710007  218.289993  217.788391   \n",
       "2021-01-08  218.679993  220.580002  217.029999  219.619995  219.115341   \n",
       "\n",
       "              Volume  \n",
       "Date                  \n",
       "2021-01-04  37130100  \n",
       "2021-01-05  23823000  \n",
       "2021-01-06  35930700  \n",
       "2021-01-07  27694500  \n",
       "2021-01-08  22956200  "
      ]
     },
     "execution_count": 17,
     "metadata": {},
     "output_type": "execute_result"
    }
   ],
   "source": [
    "df.head()"
   ]
  },
  {
   "cell_type": "code",
   "execution_count": 18,
   "id": "sound-basin",
   "metadata": {},
   "outputs": [
    {
     "data": {
      "text/html": [
       "<div>\n",
       "<style scoped>\n",
       "    .dataframe tbody tr th:only-of-type {\n",
       "        vertical-align: middle;\n",
       "    }\n",
       "\n",
       "    .dataframe tbody tr th {\n",
       "        vertical-align: top;\n",
       "    }\n",
       "\n",
       "    .dataframe thead th {\n",
       "        text-align: right;\n",
       "    }\n",
       "</style>\n",
       "<table border=\"1\" class=\"dataframe\">\n",
       "  <thead>\n",
       "    <tr style=\"text-align: right;\">\n",
       "      <th></th>\n",
       "      <th>Open</th>\n",
       "      <th>High</th>\n",
       "      <th>Low</th>\n",
       "      <th>Close</th>\n",
       "      <th>Adj Close</th>\n",
       "      <th>Volume</th>\n",
       "    </tr>\n",
       "  </thead>\n",
       "  <tbody>\n",
       "    <tr>\n",
       "      <th>count</th>\n",
       "      <td>87.000000</td>\n",
       "      <td>87.000000</td>\n",
       "      <td>87.000000</td>\n",
       "      <td>87.000000</td>\n",
       "      <td>87.000000</td>\n",
       "      <td>8.700000e+01</td>\n",
       "    </tr>\n",
       "    <tr>\n",
       "      <th>mean</th>\n",
       "      <td>238.488161</td>\n",
       "      <td>240.862185</td>\n",
       "      <td>236.363218</td>\n",
       "      <td>238.721839</td>\n",
       "      <td>238.539959</td>\n",
       "      <td>2.943006e+07</td>\n",
       "    </tr>\n",
       "    <tr>\n",
       "      <th>std</th>\n",
       "      <td>13.097862</td>\n",
       "      <td>12.780935</td>\n",
       "      <td>13.235913</td>\n",
       "      <td>13.164126</td>\n",
       "      <td>13.285938</td>\n",
       "      <td>8.773674e+06</td>\n",
       "    </tr>\n",
       "    <tr>\n",
       "      <th>min</th>\n",
       "      <td>212.169998</td>\n",
       "      <td>214.509995</td>\n",
       "      <td>211.940002</td>\n",
       "      <td>212.250000</td>\n",
       "      <td>211.762268</td>\n",
       "      <td>1.575110e+07</td>\n",
       "    </tr>\n",
       "    <tr>\n",
       "      <th>25%</th>\n",
       "      <td>231.449997</td>\n",
       "      <td>234.184998</td>\n",
       "      <td>229.175003</td>\n",
       "      <td>231.725006</td>\n",
       "      <td>231.513496</td>\n",
       "      <td>2.340715e+07</td>\n",
       "    </tr>\n",
       "    <tr>\n",
       "      <th>50%</th>\n",
       "      <td>237.009995</td>\n",
       "      <td>240.059998</td>\n",
       "      <td>234.309998</td>\n",
       "      <td>237.130005</td>\n",
       "      <td>237.130005</td>\n",
       "      <td>2.701010e+07</td>\n",
       "    </tr>\n",
       "    <tr>\n",
       "      <th>75%</th>\n",
       "      <td>247.709999</td>\n",
       "      <td>249.910004</td>\n",
       "      <td>245.790001</td>\n",
       "      <td>248.465004</td>\n",
       "      <td>248.465004</td>\n",
       "      <td>3.323315e+07</td>\n",
       "    </tr>\n",
       "    <tr>\n",
       "      <th>max</th>\n",
       "      <td>261.660004</td>\n",
       "      <td>263.190002</td>\n",
       "      <td>260.170013</td>\n",
       "      <td>261.970001</td>\n",
       "      <td>261.970001</td>\n",
       "      <td>6.987060e+07</td>\n",
       "    </tr>\n",
       "  </tbody>\n",
       "</table>\n",
       "</div>"
      ],
      "text/plain": [
       "             Open        High         Low       Close   Adj Close  \\\n",
       "count   87.000000   87.000000   87.000000   87.000000   87.000000   \n",
       "mean   238.488161  240.862185  236.363218  238.721839  238.539959   \n",
       "std     13.097862   12.780935   13.235913   13.164126   13.285938   \n",
       "min    212.169998  214.509995  211.940002  212.250000  211.762268   \n",
       "25%    231.449997  234.184998  229.175003  231.725006  231.513496   \n",
       "50%    237.009995  240.059998  234.309998  237.130005  237.130005   \n",
       "75%    247.709999  249.910004  245.790001  248.465004  248.465004   \n",
       "max    261.660004  263.190002  260.170013  261.970001  261.970001   \n",
       "\n",
       "             Volume  \n",
       "count  8.700000e+01  \n",
       "mean   2.943006e+07  \n",
       "std    8.773674e+06  \n",
       "min    1.575110e+07  \n",
       "25%    2.340715e+07  \n",
       "50%    2.701010e+07  \n",
       "75%    3.323315e+07  \n",
       "max    6.987060e+07  "
      ]
     },
     "execution_count": 18,
     "metadata": {},
     "output_type": "execute_result"
    }
   ],
   "source": [
    "df.describe()"
   ]
  },
  {
   "cell_type": "code",
   "execution_count": 32,
   "id": "fundamental-dakota",
   "metadata": {},
   "outputs": [
    {
     "data": {
      "text/plain": [
       "<AxesSubplot:xlabel='Date'>"
      ]
     },
     "execution_count": 32,
     "metadata": {},
     "output_type": "execute_result"
    },
    {
     "data": {
      "image/png": "[encoded data removed]",
      "text/plain": [
       "<Figure size 1080x360 with 1 Axes>"
      ]
     },
     "metadata": {
      "needs_background": "light"
     },
     "output_type": "display_data"
    }
   ],
   "source": [
    "plt.figure(figsize=(15, 5))\n",
    "df['Close'].plot()"
   ]
  },
  {
   "cell_type": "code",
   "execution_count": 33,
   "id": "fatty-increase",
   "metadata": {},
   "outputs": [],
   "source": [
    "#Adding predictions column\n",
    "df['prediction'] = df['Close'].shift(-1)\n",
    "df.dropna(inplace=True)"
   ]
  },
  {
   "cell_type": "code",
   "execution_count": 34,
   "id": "african-lingerie",
   "metadata": {},
   "outputs": [],
   "source": [
    "#Number of days to forecast for\n",
    "forecast_time = int(30)"
   ]
  },
  {
   "cell_type": "code",
   "execution_count": 35,
   "id": "broke-player",
   "metadata": {},
   "outputs": [],
   "source": [
    "#Scaling the data between 0 and 1\n",
    "X_unscaled = df.drop(['prediction'], 1)\n",
    "scaler = MinMaxScaler(feature_range=(0, 1))\n",
    "X_scaled = scaler.fit_transform(X_unscaled)"
   ]
  },
  {
   "cell_type": "code",
   "execution_count": 36,
   "id": "filled-dispatch",
   "metadata": {},
   "outputs": [],
   "source": [
    "#Defining X and target Y\n",
    "X = X_scaled\n",
    "Y = df['prediction']"
   ]
  },
  {
   "cell_type": "code",
   "execution_count": 37,
   "id": "exotic-saskatchewan",
   "metadata": {},
   "outputs": [],
   "source": [
    "#Splitting the data keeping the test size equalt to forecasted days\n",
    "X_train, X_test, Y_train, Y_test = train_test_split(X, Y, test_size=forecast_time, random_state=0)\n",
    "X_prediction = X[-forecast_time:]\n",
    "Y_test = Y[-forecast_time:]"
   ]
  },
  {
   "cell_type": "code",
   "execution_count": 38,
   "id": "found-interval",
   "metadata": {},
   "outputs": [
    {
     "data": {
      "text/plain": [
       "RandomForestRegressor(n_estimators=10, random_state=0)"
      ]
     },
     "execution_count": 38,
     "metadata": {},
     "output_type": "execute_result"
    }
   ],
   "source": [
    "# Performing regression on the training data\n",
    "regressor = RandomForestRegressor(n_estimators=10, random_state=0)\n",
    "regressor.fit(X_train, Y_train)"
   ]
  },
  {
   "cell_type": "code",
   "execution_count": 39,
   "id": "spiritual-tribe",
   "metadata": {},
   "outputs": [],
   "source": [
    "#Trying to predict the data\n",
    "prediction = regressor.predict(X_prediction)"
   ]
  },
  {
   "cell_type": "code",
   "execution_count": 40,
   "id": "eight-origin",
   "metadata": {},
   "outputs": [
    {
     "name": "stdout",
     "output_type": "stream",
     "text": [
      "RMSE score:  1.5506138098222426\n",
      "R-squared score:  0.9604104365668277\n",
      "Adjusted R-squared:  0.9600043897623849\n"
     ]
    }
   ],
   "source": [
    "print('RMSE score: ', np.sqrt(metrics.mean_squared_error(Y_test, prediction)))\n",
    "r2 = metrics.r2_score(Y_test, prediction, sample_weight=None, multioutput='uniform_average')\n",
    "print('R-squared score: ', r2)\n",
    "adjusted_r_squared = 1 - (1-r2)*(len(Y)-1)/(len(Y)-X.shape[1]-1)\n",
    "print('Adjusted R-squared: ', adjusted_r_squared)"
   ]
  },
  {
   "cell_type": "code",
   "execution_count": 41,
   "id": "verbal-morrison",
   "metadata": {},
   "outputs": [
    {
     "data": {
      "image/png": "[encoded data removed]",
      "text/plain": [
       "<Figure size 864x432 with 1 Axes>"
      ]
     },
     "metadata": {
      "needs_background": "light"
     },
     "output_type": "display_data"
    }
   ],
   "source": [
    "#Plotting the graph of actual vs predicted\n",
    "plt.figure(figsize=(12, 6))\n",
    "plt.xlabel('Dates')\n",
    "plt.ylabel('Close')\n",
    "\n",
    "sdate = datetime.now() - timedelta(days=forecast_time)\n",
    "edate = datetime.now() - timedelta(days=forecast_time) + timedelta(days=forecast_time-1)\n",
    "delta = edate - sdate\n",
    "datesArray = []\n",
    "for i in range(delta.days + 1):\n",
    "    day = sdate + timedelta(days=i)\n",
    "    datesArray.append(day)\n",
    "\n",
    "plt.plot(datesArray, prediction, '-o')\n",
    "plt.plot(datesArray, Y_test, '-o')\n",
    "plt.legend([\"Predicted Values\", \"Actual Values\"])\n",
    "plt.show()"
   ]
  },
  {
   "cell_type": "code",
   "execution_count": 48,
   "id": "brutal-calgary",
   "metadata": {},
   "outputs": [],
   "source": [
    "#Defining a function to determine whether to buy or sell\n",
    "def buy_or_sell(historical_close_avg, next_day_prediction):\n",
    "    mean_of_historical_close_avg = historical_close_avg.mean()\n",
    "    if next_day_prediction > mean_of_historical_close_avg:\n",
    "        return 'buy'\n",
    "    elif next_day_prediction < mean_of_historical_close_avg:\n",
    "        return 'sell'\n",
    "    else:\n",
    "        return 'hold'"
   ]
  },
  {
   "cell_type": "code",
   "execution_count": 49,
   "id": "egyptian-sydney",
   "metadata": {},
   "outputs": [],
   "source": [
    "#The decision will be made based on average of last 3 days\n",
    "size = 3\n",
    "correct = wrong = total = 0"
   ]
  },
  {
   "cell_type": "code",
   "execution_count": 50,
   "id": "daily-niagara",
   "metadata": {},
   "outputs": [
    {
     "name": "stdout",
     "output_type": "stream",
     "text": [
      "Prediction: Tomorrow (utc:2021-05-05) it is more favourable to buy\n",
      "Prediction: Tomorrow (utc:2021-05-06) it is more favourable to hold\n",
      "Prediction: Tomorrow (utc:2021-05-07) it is more favourable to hold\n",
      "Prediction: Tomorrow (utc:2021-03-26) it is more favourable to hold\n",
      "Prediction: Tomorrow (utc:2021-03-29) it is more favourable to sell\n",
      "Prediction: Tomorrow (utc:2021-03-30) it is more favourable to sell\n",
      "Prediction: Tomorrow (utc:2021-03-31) it is more favourable to sell\n",
      "Prediction: Tomorrow (utc:2021-04-01) it is more favourable to buy\n",
      "Prediction: Tomorrow (utc:2021-04-05) it is more favourable to sell\n",
      "Prediction: Tomorrow (utc:2021-04-06) it is more favourable to sell\n",
      "Prediction: Tomorrow (utc:2021-04-07) it is more favourable to sell\n",
      "Prediction: Tomorrow (utc:2021-04-08) it is more favourable to sell\n",
      "Prediction: Tomorrow (utc:2021-04-09) it is more favourable to sell\n",
      "Prediction: Tomorrow (utc:2021-04-12) it is more favourable to sell\n",
      "Prediction: Tomorrow (utc:2021-04-13) it is more favourable to sell\n",
      "Prediction: Tomorrow (utc:2021-04-14) it is more favourable to sell\n",
      "Prediction: Tomorrow (utc:2021-04-15) it is more favourable to sell\n",
      "Prediction: Tomorrow (utc:2021-04-16) it is more favourable to sell\n",
      "Prediction: Tomorrow (utc:2021-04-19) it is more favourable to buy\n",
      "Prediction: Tomorrow (utc:2021-04-20) it is more favourable to buy\n",
      "Prediction: Tomorrow (utc:2021-04-21) it is more favourable to buy\n",
      "Prediction: Tomorrow (utc:2021-04-22) it is more favourable to buy\n",
      "Prediction: Tomorrow (utc:2021-04-23) it is more favourable to sell\n",
      "Prediction: Tomorrow (utc:2021-04-26) it is more favourable to sell\n",
      "Prediction: Tomorrow (utc:2021-04-27) it is more favourable to sell\n",
      "Prediction: Tomorrow (utc:2021-04-28) it is more favourable to buy\n",
      "Prediction: Tomorrow (utc:2021-04-29) it is more favourable to buy\n",
      "Prediction: Tomorrow (utc:2021-04-30) it is more favourable to buy\n",
      "Prediction: Tomorrow (utc:2021-05-03) it is more favourable to buy\n",
      "Prediction: Tomorrow (utc:2021-05-04) it is more favourable to buy\n",
      "Correct predictions: 23\n",
      "Wrong predictions: 7\n"
     ]
    }
   ],
   "source": [
    "#Determining whether the predictions are right or wrong\n",
    "for t in range(len(Y_test)):\n",
    "    yhat = prediction[t]\n",
    "    obs = Y_test[t]\n",
    "    status = buy_or_sell(df.Close[len(df.Close[0:size])-t-size: len(df.Close[0:size])-t], yhat)\n",
    "    print('Prediction: Tomorrow (utc:{}) it is more favourable to {}'.format(str(Y_test.index[t-size].date()), status))\n",
    "    real = buy_or_sell(df.Close[len(df.Close[0:size])-t-size: len(df.Close[0:size])-t], Y_test[t-size])\n",
    "    if status != real:\n",
    "        wrong += 1\n",
    "    else:\n",
    "        correct += 1\n",
    "    total += 1\n",
    "print(\"Correct predictions:\", correct)\n",
    "print(\"Wrong predictions:\", wrong)"
   ]
  },
  {
   "cell_type": "code",
   "execution_count": 52,
   "id": "incoming-paper",
   "metadata": {},
   "outputs": [
    {
     "name": "stdout",
     "output_type": "stream",
     "text": [
      "Accuracy:  76.66666666666667\n"
     ]
    }
   ],
   "source": [
    "#Calculating accuracy\n",
    "accuracy = correct/total * 100\n",
    "print(\"Accuracy: \", accuracy)"
   ]
  },
  {
   "cell_type": "code",
   "execution_count": null,
   "id": "threatened-klein",
   "metadata": {},
   "outputs": [],
   "source": []
  }
 ],
 "metadata": {
  "kernelspec": {
   "display_name": "Python 3",
   "language": "python",
   "name": "python3"
  },
  "language_info": {
   "codemirror_mode": {
    "name": "ipython",
    "version": 3
   },
   "file_extension": ".py",
   "mimetype": "text/x-python",
   "name": "python",
   "nbconvert_exporter": "python",
   "pygments_lexer": "ipython3",
   "version": "3.9.2"
  }
 },
 "nbformat": 4,
 "nbformat_minor": 5
}
