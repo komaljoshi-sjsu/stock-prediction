{
 "cells": [
  {
   "cell_type": "code",
   "execution_count": 14,
   "id": "hybrid-pillow",
   "metadata": {},
   "outputs": [
    {
     "name": "stdout",
     "output_type": "stream",
     "text": [
      "Collecting sklearn\n",
      "  Downloading sklearn-0.0.tar.gz (1.1 kB)\n",
      "Collecting scikit-learn\n",
      "  Downloading scikit_learn-0.24.2-cp39-cp39-macosx_10_13_x86_64.whl (7.3 MB)\n",
      "\u001b[K     |████████████████████████████████| 7.3 MB 558 kB/s eta 0:00:01\n",
      "\u001b[?25hRequirement already satisfied: numpy>=1.13.3 in /usr/local/Cellar/jupyterlab/3.0.12/libexec/lib/python3.9/site-packages (from scikit-learn->sklearn) (1.20.2)\n",
      "Collecting scipy>=0.19.1\n",
      "  Downloading scipy-1.6.3-cp39-cp39-macosx_10_9_x86_64.whl (30.9 MB)\n",
      "\u001b[K     |████████████████████████████████| 30.9 MB 44.0 MB/s eta 0:00:01\n",
      "\u001b[?25hCollecting joblib>=0.11\n",
      "  Downloading joblib-1.0.1-py3-none-any.whl (303 kB)\n",
      "\u001b[K     |████████████████████████████████| 303 kB 37.1 MB/s eta 0:00:01\n",
      "\u001b[?25hCollecting threadpoolctl>=2.0.0\n",
      "  Downloading threadpoolctl-2.1.0-py3-none-any.whl (12 kB)\n",
      "Using legacy 'setup.py install' for sklearn, since package 'wheel' is not installed.\n",
      "Installing collected packages: threadpoolctl, scipy, joblib, scikit-learn, sklearn\n",
      "    Running setup.py install for sklearn ... \u001b[?25ldone\n",
      "\u001b[?25hSuccessfully installed joblib-1.0.1 scikit-learn-0.24.2 scipy-1.6.3 sklearn-0.0 threadpoolctl-2.1.0\n"
     ]
    }
   ],
   "source": [
    "import sys\n",
    "!{sys.executable} -m pip install sklearn"
   ]
  },
  {
   "cell_type": "code",
   "execution_count": 15,
   "id": "tribal-parcel",
   "metadata": {},
   "outputs": [],
   "source": [
    "import pandas as pd\n",
    "import numpy as np\n",
    "import yfinance as yf\n",
    "from datetime import datetime, timedelta\n",
    "import matplotlib.pyplot as plt\n",
    "\n",
    "from sklearn.model_selection import train_test_split\n",
    "from sklearn.ensemble import RandomForestRegressor\n",
    "from sklearn import metrics\n",
    "from sklearn.preprocessing import MinMaxScaler"
   ]
  },
  {
   "cell_type": "code",
   "execution_count": 54,
   "id": "entitled-anthony",
   "metadata": {},
   "outputs": [
    {
     "name": "stdout",
     "output_type": "stream",
     "text": [
      "[*********************100%***********************]  1 of 1 completed\n"
     ]
    }
   ],
   "source": [
    "start = datetime(2019, 1, 1)\n",
    "end = datetime.now()\n",
    "df = yf.download('MSFT', start=start, end=end)"
   ]
  },
  {
   "cell_type": "code",
   "execution_count": 55,
   "id": "rational-shame",
   "metadata": {},
   "outputs": [
    {
     "data": {
      "text/html": [
       "<div>\n",
       "<style scoped>\n",
       "    .dataframe tbody tr th:only-of-type {\n",
       "        vertical-align: middle;\n",
       "    }\n",
       "\n",
       "    .dataframe tbody tr th {\n",
       "        vertical-align: top;\n",
       "    }\n",
       "\n",
       "    .dataframe thead th {\n",
       "        text-align: right;\n",
       "    }\n",
       "</style>\n",
       "<table border=\"1\" class=\"dataframe\">\n",
       "  <thead>\n",
       "    <tr style=\"text-align: right;\">\n",
       "      <th></th>\n",
       "      <th>Open</th>\n",
       "      <th>High</th>\n",
       "      <th>Low</th>\n",
       "      <th>Close</th>\n",
       "      <th>Adj Close</th>\n",
       "      <th>Volume</th>\n",
       "    </tr>\n",
       "    <tr>\n",
       "      <th>Date</th>\n",
       "      <th></th>\n",
       "      <th></th>\n",
       "      <th></th>\n",
       "      <th></th>\n",
       "      <th></th>\n",
       "      <th></th>\n",
       "    </tr>\n",
       "  </thead>\n",
       "  <tbody>\n",
       "    <tr>\n",
       "      <th>2019-01-02</th>\n",
       "      <td>99.550003</td>\n",
       "      <td>101.750000</td>\n",
       "      <td>98.940002</td>\n",
       "      <td>101.120003</td>\n",
       "      <td>98.375481</td>\n",
       "      <td>35329300</td>\n",
       "    </tr>\n",
       "    <tr>\n",
       "      <th>2019-01-03</th>\n",
       "      <td>100.099998</td>\n",
       "      <td>100.190002</td>\n",
       "      <td>97.199997</td>\n",
       "      <td>97.400002</td>\n",
       "      <td>94.756454</td>\n",
       "      <td>42579100</td>\n",
       "    </tr>\n",
       "    <tr>\n",
       "      <th>2019-01-04</th>\n",
       "      <td>99.720001</td>\n",
       "      <td>102.510002</td>\n",
       "      <td>98.930000</td>\n",
       "      <td>101.930000</td>\n",
       "      <td>99.163513</td>\n",
       "      <td>44060600</td>\n",
       "    </tr>\n",
       "    <tr>\n",
       "      <th>2019-01-07</th>\n",
       "      <td>101.639999</td>\n",
       "      <td>103.269997</td>\n",
       "      <td>100.980003</td>\n",
       "      <td>102.059998</td>\n",
       "      <td>99.289970</td>\n",
       "      <td>35656100</td>\n",
       "    </tr>\n",
       "    <tr>\n",
       "      <th>2019-01-08</th>\n",
       "      <td>103.040001</td>\n",
       "      <td>103.970001</td>\n",
       "      <td>101.709999</td>\n",
       "      <td>102.800003</td>\n",
       "      <td>100.009888</td>\n",
       "      <td>31514400</td>\n",
       "    </tr>\n",
       "  </tbody>\n",
       "</table>\n",
       "</div>"
      ],
      "text/plain": [
       "                  Open        High         Low       Close   Adj Close  \\\n",
       "Date                                                                     \n",
       "2019-01-02   99.550003  101.750000   98.940002  101.120003   98.375481   \n",
       "2019-01-03  100.099998  100.190002   97.199997   97.400002   94.756454   \n",
       "2019-01-04   99.720001  102.510002   98.930000  101.930000   99.163513   \n",
       "2019-01-07  101.639999  103.269997  100.980003  102.059998   99.289970   \n",
       "2019-01-08  103.040001  103.970001  101.709999  102.800003  100.009888   \n",
       "\n",
       "              Volume  \n",
       "Date                  \n",
       "2019-01-02  35329300  \n",
       "2019-01-03  42579100  \n",
       "2019-01-04  44060600  \n",
       "2019-01-07  35656100  \n",
       "2019-01-08  31514400  "
      ]
     },
     "execution_count": 55,
     "metadata": {},
     "output_type": "execute_result"
    }
   ],
   "source": [
    "df.head()"
   ]
  },
  {
   "cell_type": "code",
   "execution_count": 56,
   "id": "purple-breath",
   "metadata": {},
   "outputs": [
    {
     "data": {
      "text/html": [
       "<div>\n",
       "<style scoped>\n",
       "    .dataframe tbody tr th:only-of-type {\n",
       "        vertical-align: middle;\n",
       "    }\n",
       "\n",
       "    .dataframe tbody tr th {\n",
       "        vertical-align: top;\n",
       "    }\n",
       "\n",
       "    .dataframe thead th {\n",
       "        text-align: right;\n",
       "    }\n",
       "</style>\n",
       "<table border=\"1\" class=\"dataframe\">\n",
       "  <thead>\n",
       "    <tr style=\"text-align: right;\">\n",
       "      <th></th>\n",
       "      <th>Open</th>\n",
       "      <th>High</th>\n",
       "      <th>Low</th>\n",
       "      <th>Close</th>\n",
       "      <th>Adj Close</th>\n",
       "      <th>Volume</th>\n",
       "    </tr>\n",
       "  </thead>\n",
       "  <tbody>\n",
       "    <tr>\n",
       "      <th>count</th>\n",
       "      <td>593.000000</td>\n",
       "      <td>593.000000</td>\n",
       "      <td>593.000000</td>\n",
       "      <td>593.000000</td>\n",
       "      <td>593.000000</td>\n",
       "      <td>5.930000e+02</td>\n",
       "    </tr>\n",
       "    <tr>\n",
       "      <th>mean</th>\n",
       "      <td>173.104671</td>\n",
       "      <td>174.923474</td>\n",
       "      <td>171.266071</td>\n",
       "      <td>173.200438</td>\n",
       "      <td>171.522045</td>\n",
       "      <td>3.088027e+07</td>\n",
       "    </tr>\n",
       "    <tr>\n",
       "      <th>std</th>\n",
       "      <td>43.955309</td>\n",
       "      <td>44.476715</td>\n",
       "      <td>43.462745</td>\n",
       "      <td>43.965616</td>\n",
       "      <td>44.802602</td>\n",
       "      <td>1.395802e+07</td>\n",
       "    </tr>\n",
       "    <tr>\n",
       "      <th>min</th>\n",
       "      <td>99.550003</td>\n",
       "      <td>100.190002</td>\n",
       "      <td>97.199997</td>\n",
       "      <td>97.400002</td>\n",
       "      <td>94.756454</td>\n",
       "      <td>8.989200e+06</td>\n",
       "    </tr>\n",
       "    <tr>\n",
       "      <th>25%</th>\n",
       "      <td>137.000000</td>\n",
       "      <td>137.759995</td>\n",
       "      <td>135.619995</td>\n",
       "      <td>136.619995</td>\n",
       "      <td>134.248260</td>\n",
       "      <td>2.261220e+07</td>\n",
       "    </tr>\n",
       "    <tr>\n",
       "      <th>50%</th>\n",
       "      <td>167.399994</td>\n",
       "      <td>168.190002</td>\n",
       "      <td>164.449997</td>\n",
       "      <td>166.270004</td>\n",
       "      <td>164.376068</td>\n",
       "      <td>2.731100e+07</td>\n",
       "    </tr>\n",
       "    <tr>\n",
       "      <th>75%</th>\n",
       "      <td>213.119995</td>\n",
       "      <td>215.000000</td>\n",
       "      <td>210.440002</td>\n",
       "      <td>212.940002</td>\n",
       "      <td>211.931885</td>\n",
       "      <td>3.475450e+07</td>\n",
       "    </tr>\n",
       "    <tr>\n",
       "      <th>max</th>\n",
       "      <td>261.660004</td>\n",
       "      <td>263.190002</td>\n",
       "      <td>260.170013</td>\n",
       "      <td>261.970001</td>\n",
       "      <td>261.970001</td>\n",
       "      <td>9.701270e+07</td>\n",
       "    </tr>\n",
       "  </tbody>\n",
       "</table>\n",
       "</div>"
      ],
      "text/plain": [
       "             Open        High         Low       Close   Adj Close  \\\n",
       "count  593.000000  593.000000  593.000000  593.000000  593.000000   \n",
       "mean   173.104671  174.923474  171.266071  173.200438  171.522045   \n",
       "std     43.955309   44.476715   43.462745   43.965616   44.802602   \n",
       "min     99.550003  100.190002   97.199997   97.400002   94.756454   \n",
       "25%    137.000000  137.759995  135.619995  136.619995  134.248260   \n",
       "50%    167.399994  168.190002  164.449997  166.270004  164.376068   \n",
       "75%    213.119995  215.000000  210.440002  212.940002  211.931885   \n",
       "max    261.660004  263.190002  260.170013  261.970001  261.970001   \n",
       "\n",
       "             Volume  \n",
       "count  5.930000e+02  \n",
       "mean   3.088027e+07  \n",
       "std    1.395802e+07  \n",
       "min    8.989200e+06  \n",
       "25%    2.261220e+07  \n",
       "50%    2.731100e+07  \n",
       "75%    3.475450e+07  \n",
       "max    9.701270e+07  "
      ]
     },
     "execution_count": 56,
     "metadata": {},
     "output_type": "execute_result"
    }
   ],
   "source": [
    "df.describe()"
   ]
  },
  {
   "cell_type": "code",
   "execution_count": 57,
   "id": "pressed-roman",
   "metadata": {},
   "outputs": [
    {
     "data": {
      "text/plain": [
       "<AxesSubplot:xlabel='Date'>"
      ]
     },
     "execution_count": 57,
     "metadata": {},
     "output_type": "execute_result"
    },
    {
     "data": {
      "image/png": "[encoded data removed]",
      "text/plain": [
       "<Figure size 1080x360 with 1 Axes>"
      ]
     },
     "metadata": {
      "needs_background": "light"
     },
     "output_type": "display_data"
    }
   ],
   "source": [
    "plt.figure(figsize=(15, 5))\n",
    "df['Close'].plot()"
   ]
  },
  {
   "cell_type": "code",
   "execution_count": 58,
   "id": "accepted-cambodia",
   "metadata": {},
   "outputs": [],
   "source": [
    "#Adding predictions column\n",
    "df['prediction'] = df['Close'].shift(-1)\n",
    "df.dropna(inplace=True)"
   ]
  },
  {
   "cell_type": "code",
   "execution_count": 59,
   "id": "bizarre-iceland",
   "metadata": {},
   "outputs": [],
   "source": [
    "#Number of days to forecast for\n",
    "forecast_time = int(30)"
   ]
  },
  {
   "cell_type": "code",
   "execution_count": 60,
   "id": "superior-scout",
   "metadata": {},
   "outputs": [],
   "source": [
    "#Scaling the data between 0 and 1\n",
    "X_unscaled = df.drop(['prediction'], 1)\n",
    "scaler = MinMaxScaler(feature_range=(0, 1))\n",
    "X_scaled = scaler.fit_transform(X_unscaled)"
   ]
  },
  {
   "cell_type": "code",
   "execution_count": 61,
   "id": "precise-surgery",
   "metadata": {},
   "outputs": [],
   "source": [
    "#Defining X and target Y\n",
    "X = X_scaled\n",
    "Y = df['prediction']"
   ]
  },
  {
   "cell_type": "code",
   "execution_count": 136,
   "id": "considerable-longitude",
   "metadata": {},
   "outputs": [],
   "source": [
    "#Splitting the data keeping the test size equalt to forecasted days\n",
    "split = np.random.rand(X.shape[0]) < len(X)-forecast_time\n",
    "X_train = X[split]\n",
    "Y_train = Y[split]\n",
    "X_prediction = X[-forecast_time:]\n",
    "Y_test = Y[-forecast_time:]"
   ]
  },
  {
   "cell_type": "code",
   "execution_count": 137,
   "id": "genetic-butler",
   "metadata": {},
   "outputs": [
    {
     "data": {
      "text/plain": [
       "RandomForestRegressor(criterion='mae', n_estimators=10, random_state=0)"
      ]
     },
     "execution_count": 137,
     "metadata": {},
     "output_type": "execute_result"
    }
   ],
   "source": [
    "# Performing regression on the training data\n",
    "regressor = RandomForestRegressor(n_estimators=10, criterion='mae', random_state=0)\n",
    "regressor.fit(X_train, Y_train)"
   ]
  },
  {
   "cell_type": "code",
   "execution_count": 138,
   "id": "forward-services",
   "metadata": {},
   "outputs": [],
   "source": [
    "#Trying to predict the data\n",
    "prediction = regressor.predict(X_prediction)"
   ]
  },
  {
   "cell_type": "code",
   "execution_count": 139,
   "id": "athletic-interview",
   "metadata": {},
   "outputs": [
    {
     "name": "stdout",
     "output_type": "stream",
     "text": [
      "RMSE score:  1.3162388225734372\n",
      "R-squared score:  0.9716751096332878\n",
      "Adjusted R-squared:  0.971384597937219\n"
     ]
    }
   ],
   "source": [
    "print('RMSE score: ', np.sqrt(metrics.mean_squared_error(Y_test, prediction)))\n",
    "r2 = metrics.r2_score(Y_test, prediction, sample_weight=None, multioutput='uniform_average')\n",
    "print('R-squared score: ', r2)\n",
    "adjusted_r_squared = 1 - (1-r2)*(len(Y)-1)/(len(Y)-X.shape[1]-1)\n",
    "print('Adjusted R-squared: ', adjusted_r_squared)"
   ]
  },
  {
   "cell_type": "code",
   "execution_count": 140,
   "id": "accurate-toolbox",
   "metadata": {},
   "outputs": [
    {
     "data": {
      "image/png": "[encoded data removed]",
      "text/plain": [
       "<Figure size 864x432 with 1 Axes>"
      ]
     },
     "metadata": {
      "needs_background": "light"
     },
     "output_type": "display_data"
    }
   ],
   "source": [
    "#Plotting the graph of actual vs predicted\n",
    "plt.figure(figsize=(12, 6))\n",
    "plt.xlabel('Dates')\n",
    "plt.ylabel('Close')\n",
    "\n",
    "sdate = datetime.now() - timedelta(days=forecast_time)\n",
    "edate = datetime.now() - timedelta(days=forecast_time) + timedelta(days=forecast_time-1)\n",
    "delta = edate - sdate\n",
    "datesArray = []\n",
    "for i in range(delta.days + 1):\n",
    "    day = sdate + timedelta(days=i)\n",
    "    datesArray.append(day)\n",
    "\n",
    "plt.plot(datesArray, prediction, '-o')\n",
    "plt.plot(datesArray, Y_test, '-o')\n",
    "plt.legend([\"Predicted Values\", \"Actual Values\"])\n",
    "plt.show()"
   ]
  },
  {
   "cell_type": "code",
   "execution_count": 141,
   "id": "figured-arcade",
   "metadata": {},
   "outputs": [],
   "source": [
    "#Defining a function to determine whether to buy or sell\n",
    "def buy_or_sell(historical_close_avg, next_day_prediction):\n",
    "    mean_of_historical_close_avg = historical_close_avg.mean()\n",
    "    if next_day_prediction > mean_of_historical_close_avg:\n",
    "        return 'buy'\n",
    "    elif next_day_prediction < mean_of_historical_close_avg:\n",
    "        return 'sell'\n",
    "    else:\n",
    "        return 'hold'"
   ]
  },
  {
   "cell_type": "code",
   "execution_count": 142,
   "id": "liable-robin",
   "metadata": {},
   "outputs": [],
   "source": [
    "#The decision will be made based on average of last 3 days\n",
    "size = 3\n",
    "correct = wrong = total = 0"
   ]
  },
  {
   "cell_type": "code",
   "execution_count": 143,
   "id": "functional-there",
   "metadata": {},
   "outputs": [
    {
     "name": "stdout",
     "output_type": "stream",
     "text": [
      "Prediction: Tomorrow (utc:2021-05-05) it is more favourable to buy\n",
      "Prediction: Tomorrow (utc:2021-05-06) it is more favourable to hold\n",
      "Prediction: Tomorrow (utc:2021-05-07) it is more favourable to hold\n",
      "Prediction: Tomorrow (utc:2021-03-26) it is more favourable to hold\n",
      "Prediction: Tomorrow (utc:2021-03-29) it is more favourable to sell\n",
      "Prediction: Tomorrow (utc:2021-03-30) it is more favourable to sell\n",
      "Prediction: Tomorrow (utc:2021-03-31) it is more favourable to sell\n",
      "Prediction: Tomorrow (utc:2021-04-01) it is more favourable to sell\n",
      "Prediction: Tomorrow (utc:2021-04-05) it is more favourable to buy\n",
      "Prediction: Tomorrow (utc:2021-04-06) it is more favourable to sell\n",
      "Prediction: Tomorrow (utc:2021-04-07) it is more favourable to sell\n",
      "Prediction: Tomorrow (utc:2021-04-08) it is more favourable to sell\n",
      "Prediction: Tomorrow (utc:2021-04-09) it is more favourable to sell\n",
      "Prediction: Tomorrow (utc:2021-04-12) it is more favourable to buy\n",
      "Prediction: Tomorrow (utc:2021-04-13) it is more favourable to buy\n",
      "Prediction: Tomorrow (utc:2021-04-14) it is more favourable to sell\n",
      "Prediction: Tomorrow (utc:2021-04-15) it is more favourable to buy\n",
      "Prediction: Tomorrow (utc:2021-04-16) it is more favourable to sell\n",
      "Prediction: Tomorrow (utc:2021-04-19) it is more favourable to buy\n",
      "Prediction: Tomorrow (utc:2021-04-20) it is more favourable to buy\n",
      "Prediction: Tomorrow (utc:2021-04-21) it is more favourable to buy\n",
      "Prediction: Tomorrow (utc:2021-04-22) it is more favourable to sell\n",
      "Prediction: Tomorrow (utc:2021-04-23) it is more favourable to sell\n",
      "Prediction: Tomorrow (utc:2021-04-26) it is more favourable to sell\n",
      "Prediction: Tomorrow (utc:2021-04-27) it is more favourable to buy\n",
      "Prediction: Tomorrow (utc:2021-04-28) it is more favourable to sell\n",
      "Prediction: Tomorrow (utc:2021-04-29) it is more favourable to buy\n",
      "Prediction: Tomorrow (utc:2021-04-30) it is more favourable to buy\n",
      "Prediction: Tomorrow (utc:2021-05-03) it is more favourable to buy\n",
      "Prediction: Tomorrow (utc:2021-05-04) it is more favourable to buy\n",
      "Correct predictions: 21\n",
      "Wrong predictions: 9\n"
     ]
    }
   ],
   "source": [
    "#Determining whether the predictions indicate to buy or sell\n",
    "for t in range(len(Y_test)):\n",
    "    yhat = prediction[t]\n",
    "    obs = Y_test[t]\n",
    "    status = buy_or_sell(df.Close[len(df.Close[0:size])-t-size: len(df.Close[0:size])-t], yhat)\n",
    "    print('Prediction: Tomorrow (utc:{}) it is more favourable to {}'.format(str(Y_test.index[t-size].date()), status))\n",
    "    real = buy_or_sell(df.Close[len(df.Close[0:size])-t-size: len(df.Close[0:size])-t], Y_test[t-size])\n",
    "    if status != real:\n",
    "        wrong += 1\n",
    "    else:\n",
    "        correct += 1\n",
    "    total += 1\n",
    "print(\"Correct predictions:\", correct)\n",
    "print(\"Wrong predictions:\", wrong)"
   ]
  },
  {
   "cell_type": "code",
   "execution_count": 144,
   "id": "affiliated-result",
   "metadata": {},
   "outputs": [
    {
     "name": "stdout",
     "output_type": "stream",
     "text": [
      "Accuracy:  70.0\n"
     ]
    }
   ],
   "source": [
    "#Calculating accuracy\n",
    "accuracy = correct/total * 100\n",
    "print(\"Accuracy: \", accuracy)"
   ]
  },
  {
   "cell_type": "code",
   "execution_count": null,
   "id": "understanding-multimedia",
   "metadata": {},
   "outputs": [],
   "source": []
  },
  {
   "cell_type": "code",
   "execution_count": null,
   "id": "touched-thumbnail",
   "metadata": {},
   "outputs": [],
   "source": []
  }
 ],
 "metadata": {
  "kernelspec": {
   "display_name": "Python 3",
   "language": "python",
   "name": "python3"
  },
  "language_info": {
   "codemirror_mode": {
    "name": "ipython",
    "version": 3
   },
   "file_extension": ".py",
   "mimetype": "text/x-python",
   "name": "python",
   "nbconvert_exporter": "python",
   "pygments_lexer": "ipython3",
   "version": "3.9.2"
  }
 },
 "nbformat": 4,
 "nbformat_minor": 5
}
